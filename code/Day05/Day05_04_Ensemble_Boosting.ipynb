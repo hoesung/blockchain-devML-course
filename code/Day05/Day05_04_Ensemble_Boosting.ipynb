{
 "cells": [
  {
   "cell_type": "markdown",
   "metadata": {},
   "source": [
    "<div class=\"alert alert-success\" data-title=\"\">\n",
    "  <h2><i class=\"fa fa-tasks\" aria-hidden=\"true\"></i> 유방암 데이터를 통한 앙상블_부스팅 실습\n",
    "  </h2>\n",
    "</div>\n"
   ]
  },
  {
   "cell_type": "code",
   "execution_count": 1,
   "metadata": {
    "ExecuteTime": {
     "end_time": "2020-08-12T06:30:22.951069Z",
     "start_time": "2020-08-12T06:30:22.632960Z"
    }
   },
   "outputs": [],
   "source": [
    "from sklearn.metrics import confusion_matrix # 오차행렬\n",
    "from sklearn.metrics import accuracy_score # 정확도\n",
    "from sklearn.metrics import precision_score # 정밀도\n",
    "from sklearn.metrics import recall_score # 재현율\n",
    "from sklearn.metrics import roc_auc_score # auc score\n",
    "from sklearn.metrics import f1_score \n",
    "\n",
    "def get_clf_eval(y_test,y_pred):\n",
    "    matrix = confusion_matrix(y_test,y_pred)\n",
    "    accuracy = accuracy_score(y_test,y_pred)\n",
    "    precision = precision_score(y_test,y_pred)\n",
    "    recall = recall_score(y_test,y_pred)\n",
    "    f1 = f1_score(y_test,y_pred)\n",
    "    auc = roc_auc_score(y_test,y_pred)\n",
    "    \n",
    "    print('{}'.format('RESULT'))\n",
    "    print('Confusion Matrix : ')\n",
    "    print(matrix)\n",
    "    print('-'*30)\n",
    "    \n",
    "    print('Accuaracy Score : ')\n",
    "    print(accuracy)\n",
    "    print('-'*30)\n",
    "    \n",
    "    print('Precision Score : ')\n",
    "    print(precision)\n",
    "    print('-'*30)\n",
    "    \n",
    "    print('Recall Score : ')\n",
    "    print(recall)\n",
    "    print('-'*30)\n",
    "    \n",
    "    print('F1 Score : ')\n",
    "    print(f1)\n",
    "    print('-'*30)\n",
    "    \n",
    "    print('AUC Score : ')\n",
    "    print(auc)\n",
    "    print('-'*30)"
   ]
  },
  {
   "cell_type": "code",
   "execution_count": 2,
   "metadata": {
    "ExecuteTime": {
     "end_time": "2020-08-12T06:30:23.422851Z",
     "start_time": "2020-08-12T06:30:22.954535Z"
    }
   },
   "outputs": [],
   "source": [
    "import os\n",
    "import sys\n",
    "import numpy as np\n",
    "import pandas as pd\n",
    "import matplotlib as mpl\n",
    "import matplotlib.pyplot as plt\n",
    "import sklearn\n",
    "from sklearn.datasets import load_breast_cancer\n",
    "from sklearn.model_selection import train_test_split\n",
    "\n",
    "# mpl.rcParams['font.family'] = 'AppleGothic'"
   ]
  },
  {
   "cell_type": "code",
   "execution_count": 3,
   "metadata": {
    "ExecuteTime": {
     "end_time": "2020-08-12T06:30:23.463109Z",
     "start_time": "2020-08-12T06:30:23.426337Z"
    }
   },
   "outputs": [
    {
     "data": {
      "text/html": [
       "<div>\n",
       "<style scoped>\n",
       "    .dataframe tbody tr th:only-of-type {\n",
       "        vertical-align: middle;\n",
       "    }\n",
       "\n",
       "    .dataframe tbody tr th {\n",
       "        vertical-align: top;\n",
       "    }\n",
       "\n",
       "    .dataframe thead th {\n",
       "        text-align: right;\n",
       "    }\n",
       "</style>\n",
       "<table border=\"1\" class=\"dataframe\">\n",
       "  <thead>\n",
       "    <tr style=\"text-align: right;\">\n",
       "      <th></th>\n",
       "      <th>mean radius</th>\n",
       "      <th>mean texture</th>\n",
       "      <th>mean perimeter</th>\n",
       "      <th>mean area</th>\n",
       "      <th>mean smoothness</th>\n",
       "      <th>mean compactness</th>\n",
       "      <th>mean concavity</th>\n",
       "      <th>mean concave points</th>\n",
       "      <th>mean symmetry</th>\n",
       "      <th>mean fractal dimension</th>\n",
       "      <th>...</th>\n",
       "      <th>worst texture</th>\n",
       "      <th>worst perimeter</th>\n",
       "      <th>worst area</th>\n",
       "      <th>worst smoothness</th>\n",
       "      <th>worst compactness</th>\n",
       "      <th>worst concavity</th>\n",
       "      <th>worst concave points</th>\n",
       "      <th>worst symmetry</th>\n",
       "      <th>worst fractal dimension</th>\n",
       "      <th>target</th>\n",
       "    </tr>\n",
       "  </thead>\n",
       "  <tbody>\n",
       "    <tr>\n",
       "      <th>0</th>\n",
       "      <td>17.99</td>\n",
       "      <td>10.38</td>\n",
       "      <td>122.80</td>\n",
       "      <td>1001.0</td>\n",
       "      <td>0.11840</td>\n",
       "      <td>0.27760</td>\n",
       "      <td>0.3001</td>\n",
       "      <td>0.14710</td>\n",
       "      <td>0.2419</td>\n",
       "      <td>0.07871</td>\n",
       "      <td>...</td>\n",
       "      <td>17.33</td>\n",
       "      <td>184.60</td>\n",
       "      <td>2019.0</td>\n",
       "      <td>0.1622</td>\n",
       "      <td>0.6656</td>\n",
       "      <td>0.7119</td>\n",
       "      <td>0.2654</td>\n",
       "      <td>0.4601</td>\n",
       "      <td>0.11890</td>\n",
       "      <td>0</td>\n",
       "    </tr>\n",
       "    <tr>\n",
       "      <th>1</th>\n",
       "      <td>20.57</td>\n",
       "      <td>17.77</td>\n",
       "      <td>132.90</td>\n",
       "      <td>1326.0</td>\n",
       "      <td>0.08474</td>\n",
       "      <td>0.07864</td>\n",
       "      <td>0.0869</td>\n",
       "      <td>0.07017</td>\n",
       "      <td>0.1812</td>\n",
       "      <td>0.05667</td>\n",
       "      <td>...</td>\n",
       "      <td>23.41</td>\n",
       "      <td>158.80</td>\n",
       "      <td>1956.0</td>\n",
       "      <td>0.1238</td>\n",
       "      <td>0.1866</td>\n",
       "      <td>0.2416</td>\n",
       "      <td>0.1860</td>\n",
       "      <td>0.2750</td>\n",
       "      <td>0.08902</td>\n",
       "      <td>0</td>\n",
       "    </tr>\n",
       "    <tr>\n",
       "      <th>2</th>\n",
       "      <td>19.69</td>\n",
       "      <td>21.25</td>\n",
       "      <td>130.00</td>\n",
       "      <td>1203.0</td>\n",
       "      <td>0.10960</td>\n",
       "      <td>0.15990</td>\n",
       "      <td>0.1974</td>\n",
       "      <td>0.12790</td>\n",
       "      <td>0.2069</td>\n",
       "      <td>0.05999</td>\n",
       "      <td>...</td>\n",
       "      <td>25.53</td>\n",
       "      <td>152.50</td>\n",
       "      <td>1709.0</td>\n",
       "      <td>0.1444</td>\n",
       "      <td>0.4245</td>\n",
       "      <td>0.4504</td>\n",
       "      <td>0.2430</td>\n",
       "      <td>0.3613</td>\n",
       "      <td>0.08758</td>\n",
       "      <td>0</td>\n",
       "    </tr>\n",
       "    <tr>\n",
       "      <th>3</th>\n",
       "      <td>11.42</td>\n",
       "      <td>20.38</td>\n",
       "      <td>77.58</td>\n",
       "      <td>386.1</td>\n",
       "      <td>0.14250</td>\n",
       "      <td>0.28390</td>\n",
       "      <td>0.2414</td>\n",
       "      <td>0.10520</td>\n",
       "      <td>0.2597</td>\n",
       "      <td>0.09744</td>\n",
       "      <td>...</td>\n",
       "      <td>26.50</td>\n",
       "      <td>98.87</td>\n",
       "      <td>567.7</td>\n",
       "      <td>0.2098</td>\n",
       "      <td>0.8663</td>\n",
       "      <td>0.6869</td>\n",
       "      <td>0.2575</td>\n",
       "      <td>0.6638</td>\n",
       "      <td>0.17300</td>\n",
       "      <td>0</td>\n",
       "    </tr>\n",
       "    <tr>\n",
       "      <th>4</th>\n",
       "      <td>20.29</td>\n",
       "      <td>14.34</td>\n",
       "      <td>135.10</td>\n",
       "      <td>1297.0</td>\n",
       "      <td>0.10030</td>\n",
       "      <td>0.13280</td>\n",
       "      <td>0.1980</td>\n",
       "      <td>0.10430</td>\n",
       "      <td>0.1809</td>\n",
       "      <td>0.05883</td>\n",
       "      <td>...</td>\n",
       "      <td>16.67</td>\n",
       "      <td>152.20</td>\n",
       "      <td>1575.0</td>\n",
       "      <td>0.1374</td>\n",
       "      <td>0.2050</td>\n",
       "      <td>0.4000</td>\n",
       "      <td>0.1625</td>\n",
       "      <td>0.2364</td>\n",
       "      <td>0.07678</td>\n",
       "      <td>0</td>\n",
       "    </tr>\n",
       "  </tbody>\n",
       "</table>\n",
       "<p>5 rows × 31 columns</p>\n",
       "</div>"
      ],
      "text/plain": [
       "   mean radius  mean texture  mean perimeter  mean area  mean smoothness  \\\n",
       "0        17.99         10.38          122.80     1001.0          0.11840   \n",
       "1        20.57         17.77          132.90     1326.0          0.08474   \n",
       "2        19.69         21.25          130.00     1203.0          0.10960   \n",
       "3        11.42         20.38           77.58      386.1          0.14250   \n",
       "4        20.29         14.34          135.10     1297.0          0.10030   \n",
       "\n",
       "   mean compactness  mean concavity  mean concave points  mean symmetry  \\\n",
       "0           0.27760          0.3001              0.14710         0.2419   \n",
       "1           0.07864          0.0869              0.07017         0.1812   \n",
       "2           0.15990          0.1974              0.12790         0.2069   \n",
       "3           0.28390          0.2414              0.10520         0.2597   \n",
       "4           0.13280          0.1980              0.10430         0.1809   \n",
       "\n",
       "   mean fractal dimension  ...  worst texture  worst perimeter  worst area  \\\n",
       "0                 0.07871  ...          17.33           184.60      2019.0   \n",
       "1                 0.05667  ...          23.41           158.80      1956.0   \n",
       "2                 0.05999  ...          25.53           152.50      1709.0   \n",
       "3                 0.09744  ...          26.50            98.87       567.7   \n",
       "4                 0.05883  ...          16.67           152.20      1575.0   \n",
       "\n",
       "   worst smoothness  worst compactness  worst concavity  worst concave points  \\\n",
       "0            0.1622             0.6656           0.7119                0.2654   \n",
       "1            0.1238             0.1866           0.2416                0.1860   \n",
       "2            0.1444             0.4245           0.4504                0.2430   \n",
       "3            0.2098             0.8663           0.6869                0.2575   \n",
       "4            0.1374             0.2050           0.4000                0.1625   \n",
       "\n",
       "   worst symmetry  worst fractal dimension  target  \n",
       "0          0.4601                  0.11890       0  \n",
       "1          0.2750                  0.08902       0  \n",
       "2          0.3613                  0.08758       0  \n",
       "3          0.6638                  0.17300       0  \n",
       "4          0.2364                  0.07678       0  \n",
       "\n",
       "[5 rows x 31 columns]"
      ]
     },
     "execution_count": 3,
     "metadata": {},
     "output_type": "execute_result"
    }
   ],
   "source": [
    "cancer = load_breast_cancer() # 데이터를 불러옴 \n",
    "# 데이터를 프레임으로 만듬 \n",
    "cancer_df = pd.DataFrame(data=cancer.data,\n",
    "                         columns=cancer.feature_names)\n",
    "# Y label == target \n",
    "cancer_df['target'] = cancer.target\n",
    "cancer_df.head()"
   ]
  },
  {
   "cell_type": "code",
   "execution_count": 4,
   "metadata": {
    "ExecuteTime": {
     "end_time": "2020-08-12T06:30:23.468845Z",
     "start_time": "2020-08-12T06:30:23.464879Z"
    }
   },
   "outputs": [],
   "source": [
    "X = cancer.data\n",
    "y = cancer.target\n",
    "\n",
    "X_train, X_test, y_train, y_test = train_test_split(X, # cancer_df.iloc[:,:-1] 혹은 cancer_df.drop('target',axis=1)\n",
    "                                                    y, # cancer_df.target\n",
    "                                                    test_size=0.3,\n",
    "                                                   random_state=42)"
   ]
  },
  {
   "cell_type": "markdown",
   "metadata": {},
   "source": [
    "---\n",
    "\n",
    "## Boosting\n",
    "\n",
    "- 여러 부스팅 알고리즘\n",
    "\n",
    "\n",
    "```python \n",
    "from sklearn.ensemble import GradientBoostingClassifier\n",
    "from sklearn.ensemble import AdaBoostClassifier\n",
    "from lightgbm import LGBMClassifier\n",
    "from xgboost import XGBClassifier\n",
    "```"
   ]
  },
  {
   "cell_type": "markdown",
   "metadata": {},
   "source": [
    "<div class=\"alert alert-success\" data-title=\"\">\n",
    "  <h2><i class=\"fa fa-tasks\" aria-hidden=\"true\"></i>  GradientBoostingClassifier\n",
    "  </h2>\n",
    "</div>\n"
   ]
  },
  {
   "cell_type": "code",
   "execution_count": 5,
   "metadata": {
    "ExecuteTime": {
     "end_time": "2020-08-12T06:30:23.829062Z",
     "start_time": "2020-08-12T06:30:23.470608Z"
    }
   },
   "outputs": [
    {
     "data": {
      "text/plain": [
       "GradientBoostingClassifier(ccp_alpha=0.0, criterion='friedman_mse', init=None,\n",
       "                           learning_rate=0.1, loss='deviance', max_depth=3,\n",
       "                           max_features=None, max_leaf_nodes=None,\n",
       "                           min_impurity_decrease=0.0, min_impurity_split=None,\n",
       "                           min_samples_leaf=1, min_samples_split=2,\n",
       "                           min_weight_fraction_leaf=0.0, n_estimators=100,\n",
       "                           n_iter_no_change=None, presort='deprecated',\n",
       "                           random_state=None, subsample=1.0, tol=0.0001,\n",
       "                           validation_fraction=0.1, verbose=0,\n",
       "                           warm_start=False)"
      ]
     },
     "execution_count": 5,
     "metadata": {},
     "output_type": "execute_result"
    }
   ],
   "source": [
    "from sklearn.ensemble import GradientBoostingClassifier\n",
    "gbm_clf = GradientBoostingClassifier() # 정의 \n",
    "gbm_clf.fit(X_train,y_train) # 학습 "
   ]
  },
  {
   "cell_type": "code",
   "execution_count": 6,
   "metadata": {
    "ExecuteTime": {
     "end_time": "2020-08-12T06:30:23.836785Z",
     "start_time": "2020-08-12T06:30:23.831399Z"
    }
   },
   "outputs": [
    {
     "data": {
      "text/plain": [
       "0.9590643274853801"
      ]
     },
     "execution_count": 6,
     "metadata": {},
     "output_type": "execute_result"
    }
   ],
   "source": [
    "gbm_clf.score(X_test,y_test) #평가 "
   ]
  },
  {
   "cell_type": "markdown",
   "metadata": {
    "ExecuteTime": {
     "end_time": "2020-08-11T16:12:25.037514Z",
     "start_time": "2020-08-11T16:12:25.033351Z"
    }
   },
   "source": [
    "<div class=\"alert alert-success\" data-title=\"\">\n",
    "  <h2><i class=\"fa fa-tasks\" aria-hidden=\"true\"></i>  XGBClassifier\n",
    "  </h2>\n",
    "</div>\n"
   ]
  },
  {
   "cell_type": "code",
   "execution_count": 7,
   "metadata": {
    "ExecuteTime": {
     "end_time": "2020-08-12T06:30:24.268082Z",
     "start_time": "2020-08-12T06:30:23.843074Z"
    }
   },
   "outputs": [
    {
     "data": {
      "text/plain": [
       "0.9824561403508771"
      ]
     },
     "execution_count": 7,
     "metadata": {},
     "output_type": "execute_result"
    }
   ],
   "source": [
    "from xgboost import XGBClassifier\n",
    "xgb_clf = XGBClassifier() # 정의 \n",
    "xgb_clf.fit(X_train,y_train)# 학습 \n",
    "xgb_clf.score(X_test,y_test) # 평가 "
   ]
  },
  {
   "cell_type": "code",
   "execution_count": 8,
   "metadata": {
    "ExecuteTime": {
     "end_time": "2020-08-12T06:30:24.275458Z",
     "start_time": "2020-08-12T06:30:24.271543Z"
    }
   },
   "outputs": [],
   "source": [
    "xgb_pred = xgb_clf.predict(X_test)"
   ]
  },
  {
   "cell_type": "code",
   "execution_count": 9,
   "metadata": {
    "ExecuteTime": {
     "end_time": "2020-08-12T06:30:24.826752Z",
     "start_time": "2020-08-12T06:30:24.277637Z"
    }
   },
   "outputs": [
    {
     "name": "stdout",
     "output_type": "stream",
     "text": [
      "[0]\tvalidation_0-logloss:0.47549\n",
      "Will train until validation_0-logloss hasn't improved in 100 rounds.\n",
      "[1]\tvalidation_0-logloss:0.35952\n",
      "[2]\tvalidation_0-logloss:0.28211\n",
      "[3]\tvalidation_0-logloss:0.23664\n",
      "[4]\tvalidation_0-logloss:0.19574\n",
      "[5]\tvalidation_0-logloss:0.16801\n",
      "[6]\tvalidation_0-logloss:0.14878\n",
      "[7]\tvalidation_0-logloss:0.13211\n",
      "[8]\tvalidation_0-logloss:0.12492\n",
      "[9]\tvalidation_0-logloss:0.10982\n",
      "[10]\tvalidation_0-logloss:0.10060\n",
      "[11]\tvalidation_0-logloss:0.09939\n",
      "[12]\tvalidation_0-logloss:0.09412\n",
      "[13]\tvalidation_0-logloss:0.08917\n",
      "[14]\tvalidation_0-logloss:0.08651\n",
      "[15]\tvalidation_0-logloss:0.08647\n",
      "[16]\tvalidation_0-logloss:0.08490\n",
      "[17]\tvalidation_0-logloss:0.08154\n",
      "[18]\tvalidation_0-logloss:0.07955\n",
      "[19]\tvalidation_0-logloss:0.07847\n",
      "[20]\tvalidation_0-logloss:0.07677\n",
      "[21]\tvalidation_0-logloss:0.07694\n",
      "[22]\tvalidation_0-logloss:0.07704\n",
      "[23]\tvalidation_0-logloss:0.07597\n",
      "[24]\tvalidation_0-logloss:0.07579\n",
      "[25]\tvalidation_0-logloss:0.07556\n",
      "[26]\tvalidation_0-logloss:0.07567\n",
      "[27]\tvalidation_0-logloss:0.07759\n",
      "[28]\tvalidation_0-logloss:0.07665\n",
      "[29]\tvalidation_0-logloss:0.07569\n",
      "[30]\tvalidation_0-logloss:0.07765\n",
      "[31]\tvalidation_0-logloss:0.07747\n",
      "[32]\tvalidation_0-logloss:0.07674\n",
      "[33]\tvalidation_0-logloss:0.07763\n",
      "[34]\tvalidation_0-logloss:0.07732\n",
      "[35]\tvalidation_0-logloss:0.07782\n",
      "[36]\tvalidation_0-logloss:0.07787\n",
      "[37]\tvalidation_0-logloss:0.07765\n",
      "[38]\tvalidation_0-logloss:0.07811\n",
      "[39]\tvalidation_0-logloss:0.07809\n",
      "[40]\tvalidation_0-logloss:0.07726\n",
      "[41]\tvalidation_0-logloss:0.07733\n",
      "[42]\tvalidation_0-logloss:0.07793\n",
      "[43]\tvalidation_0-logloss:0.07763\n",
      "[44]\tvalidation_0-logloss:0.07765\n",
      "[45]\tvalidation_0-logloss:0.07769\n",
      "[46]\tvalidation_0-logloss:0.07702\n",
      "[47]\tvalidation_0-logloss:0.07683\n",
      "[48]\tvalidation_0-logloss:0.07687\n",
      "[49]\tvalidation_0-logloss:0.07725\n",
      "[50]\tvalidation_0-logloss:0.07622\n",
      "[51]\tvalidation_0-logloss:0.07622\n",
      "[52]\tvalidation_0-logloss:0.07658\n",
      "[53]\tvalidation_0-logloss:0.07651\n",
      "[54]\tvalidation_0-logloss:0.07619\n",
      "[55]\tvalidation_0-logloss:0.07524\n",
      "[56]\tvalidation_0-logloss:0.07524\n",
      "[57]\tvalidation_0-logloss:0.07558\n",
      "[58]\tvalidation_0-logloss:0.07577\n",
      "[59]\tvalidation_0-logloss:0.07552\n",
      "[60]\tvalidation_0-logloss:0.07501\n",
      "[61]\tvalidation_0-logloss:0.07511\n",
      "[62]\tvalidation_0-logloss:0.07503\n",
      "[63]\tvalidation_0-logloss:0.07504\n",
      "[64]\tvalidation_0-logloss:0.07418\n",
      "[65]\tvalidation_0-logloss:0.07449\n",
      "[66]\tvalidation_0-logloss:0.07466\n",
      "[67]\tvalidation_0-logloss:0.07440\n",
      "[68]\tvalidation_0-logloss:0.07418\n",
      "[69]\tvalidation_0-logloss:0.07450\n",
      "[70]\tvalidation_0-logloss:0.07451\n",
      "[71]\tvalidation_0-logloss:0.07371\n",
      "[72]\tvalidation_0-logloss:0.07351\n",
      "[73]\tvalidation_0-logloss:0.07366\n",
      "[74]\tvalidation_0-logloss:0.07397\n",
      "[75]\tvalidation_0-logloss:0.07399\n",
      "[76]\tvalidation_0-logloss:0.07395\n",
      "[77]\tvalidation_0-logloss:0.07406\n",
      "[78]\tvalidation_0-logloss:0.07401\n",
      "[79]\tvalidation_0-logloss:0.07329\n",
      "[80]\tvalidation_0-logloss:0.07330\n",
      "[81]\tvalidation_0-logloss:0.07327\n",
      "[82]\tvalidation_0-logloss:0.07329\n",
      "[83]\tvalidation_0-logloss:0.07357\n",
      "[84]\tvalidation_0-logloss:0.07339\n",
      "[85]\tvalidation_0-logloss:0.07353\n",
      "[86]\tvalidation_0-logloss:0.07375\n",
      "[87]\tvalidation_0-logloss:0.07312\n",
      "[88]\tvalidation_0-logloss:0.07307\n",
      "[89]\tvalidation_0-logloss:0.07309\n",
      "[90]\tvalidation_0-logloss:0.07305\n",
      "[91]\tvalidation_0-logloss:0.07290\n",
      "[92]\tvalidation_0-logloss:0.07304\n",
      "[93]\tvalidation_0-logloss:0.07270\n",
      "[94]\tvalidation_0-logloss:0.07273\n",
      "[95]\tvalidation_0-logloss:0.07269\n",
      "[96]\tvalidation_0-logloss:0.07271\n",
      "[97]\tvalidation_0-logloss:0.07268\n",
      "[98]\tvalidation_0-logloss:0.07289\n",
      "[99]\tvalidation_0-logloss:0.07291\n",
      "[100]\tvalidation_0-logloss:0.07288\n",
      "[101]\tvalidation_0-logloss:0.07275\n",
      "[102]\tvalidation_0-logloss:0.07287\n",
      "[103]\tvalidation_0-logloss:0.07284\n",
      "[104]\tvalidation_0-logloss:0.07286\n",
      "[105]\tvalidation_0-logloss:0.07284\n",
      "[106]\tvalidation_0-logloss:0.07266\n",
      "[107]\tvalidation_0-logloss:0.07269\n",
      "[108]\tvalidation_0-logloss:0.07243\n",
      "[109]\tvalidation_0-logloss:0.07232\n",
      "[110]\tvalidation_0-logloss:0.07234\n",
      "[111]\tvalidation_0-logloss:0.07231\n",
      "[112]\tvalidation_0-logloss:0.07216\n",
      "[113]\tvalidation_0-logloss:0.07213\n",
      "[114]\tvalidation_0-logloss:0.07167\n",
      "[115]\tvalidation_0-logloss:0.07169\n",
      "[116]\tvalidation_0-logloss:0.07166\n",
      "[117]\tvalidation_0-logloss:0.07151\n",
      "[118]\tvalidation_0-logloss:0.07149\n",
      "[119]\tvalidation_0-logloss:0.07152\n",
      "[120]\tvalidation_0-logloss:0.07137\n",
      "[121]\tvalidation_0-logloss:0.07135\n",
      "[122]\tvalidation_0-logloss:0.07141\n",
      "[123]\tvalidation_0-logloss:0.07135\n",
      "[124]\tvalidation_0-logloss:0.07125\n",
      "[125]\tvalidation_0-logloss:0.07087\n",
      "[126]\tvalidation_0-logloss:0.07086\n",
      "[127]\tvalidation_0-logloss:0.07089\n",
      "[128]\tvalidation_0-logloss:0.07083\n",
      "[129]\tvalidation_0-logloss:0.07061\n",
      "[130]\tvalidation_0-logloss:0.07048\n",
      "[131]\tvalidation_0-logloss:0.07052\n",
      "[132]\tvalidation_0-logloss:0.07050\n",
      "[133]\tvalidation_0-logloss:0.07056\n",
      "[134]\tvalidation_0-logloss:0.07054\n",
      "[135]\tvalidation_0-logloss:0.07058\n",
      "[136]\tvalidation_0-logloss:0.07037\n",
      "[137]\tvalidation_0-logloss:0.07026\n",
      "[138]\tvalidation_0-logloss:0.07024\n",
      "[139]\tvalidation_0-logloss:0.07014\n",
      "[140]\tvalidation_0-logloss:0.07011\n",
      "[141]\tvalidation_0-logloss:0.07007\n",
      "[142]\tvalidation_0-logloss:0.07005\n",
      "[143]\tvalidation_0-logloss:0.06994\n",
      "[144]\tvalidation_0-logloss:0.06993\n",
      "[145]\tvalidation_0-logloss:0.06993\n",
      "[146]\tvalidation_0-logloss:0.06993\n",
      "[147]\tvalidation_0-logloss:0.06993\n",
      "[148]\tvalidation_0-logloss:0.06993\n",
      "[149]\tvalidation_0-logloss:0.06993\n",
      "[150]\tvalidation_0-logloss:0.06993\n",
      "[151]\tvalidation_0-logloss:0.06993\n",
      "[152]\tvalidation_0-logloss:0.06993\n",
      "[153]\tvalidation_0-logloss:0.06993\n",
      "[154]\tvalidation_0-logloss:0.06993\n",
      "[155]\tvalidation_0-logloss:0.06993\n",
      "[156]\tvalidation_0-logloss:0.06993\n",
      "[157]\tvalidation_0-logloss:0.06993\n",
      "[158]\tvalidation_0-logloss:0.06993\n",
      "[159]\tvalidation_0-logloss:0.06993\n",
      "[160]\tvalidation_0-logloss:0.06993\n",
      "[161]\tvalidation_0-logloss:0.06993\n",
      "[162]\tvalidation_0-logloss:0.06993\n",
      "[163]\tvalidation_0-logloss:0.06993\n",
      "[164]\tvalidation_0-logloss:0.06993\n",
      "[165]\tvalidation_0-logloss:0.06993\n",
      "[166]\tvalidation_0-logloss:0.06993\n",
      "[167]\tvalidation_0-logloss:0.06993\n",
      "[168]\tvalidation_0-logloss:0.06993\n",
      "[169]\tvalidation_0-logloss:0.06993\n",
      "[170]\tvalidation_0-logloss:0.06993\n",
      "[171]\tvalidation_0-logloss:0.06993\n",
      "[172]\tvalidation_0-logloss:0.06993\n",
      "[173]\tvalidation_0-logloss:0.06993\n",
      "[174]\tvalidation_0-logloss:0.06993\n",
      "[175]\tvalidation_0-logloss:0.06993\n",
      "[176]\tvalidation_0-logloss:0.06993\n",
      "[177]\tvalidation_0-logloss:0.06993\n",
      "[178]\tvalidation_0-logloss:0.06993\n",
      "[179]\tvalidation_0-logloss:0.06993\n",
      "[180]\tvalidation_0-logloss:0.06993\n",
      "[181]\tvalidation_0-logloss:0.06993\n",
      "[182]\tvalidation_0-logloss:0.06993\n",
      "[183]\tvalidation_0-logloss:0.06993\n",
      "[184]\tvalidation_0-logloss:0.06993\n",
      "[185]\tvalidation_0-logloss:0.06993\n",
      "[186]\tvalidation_0-logloss:0.06993\n",
      "[187]\tvalidation_0-logloss:0.06993\n",
      "[188]\tvalidation_0-logloss:0.06993\n",
      "[189]\tvalidation_0-logloss:0.06993\n",
      "[190]\tvalidation_0-logloss:0.06993\n",
      "[191]\tvalidation_0-logloss:0.06993\n",
      "[192]\tvalidation_0-logloss:0.06993\n",
      "[193]\tvalidation_0-logloss:0.06993\n",
      "[194]\tvalidation_0-logloss:0.06993\n",
      "[195]\tvalidation_0-logloss:0.06993\n",
      "[196]\tvalidation_0-logloss:0.06993\n",
      "[197]\tvalidation_0-logloss:0.06993\n",
      "[198]\tvalidation_0-logloss:0.06993\n",
      "[199]\tvalidation_0-logloss:0.06993\n",
      "[200]\tvalidation_0-logloss:0.06993\n",
      "[201]\tvalidation_0-logloss:0.06993\n",
      "[202]\tvalidation_0-logloss:0.06993\n",
      "[203]\tvalidation_0-logloss:0.06993\n",
      "[204]\tvalidation_0-logloss:0.06993\n",
      "[205]\tvalidation_0-logloss:0.06993\n",
      "[206]\tvalidation_0-logloss:0.06993\n",
      "[207]\tvalidation_0-logloss:0.06993\n",
      "[208]\tvalidation_0-logloss:0.06993\n",
      "[209]\tvalidation_0-logloss:0.06993\n",
      "[210]\tvalidation_0-logloss:0.06993\n",
      "[211]\tvalidation_0-logloss:0.06993\n",
      "[212]\tvalidation_0-logloss:0.06993\n",
      "[213]\tvalidation_0-logloss:0.06993\n",
      "[214]\tvalidation_0-logloss:0.06993\n",
      "[215]\tvalidation_0-logloss:0.06993\n",
      "[216]\tvalidation_0-logloss:0.06993\n",
      "[217]\tvalidation_0-logloss:0.06993\n",
      "[218]\tvalidation_0-logloss:0.06993\n",
      "[219]\tvalidation_0-logloss:0.06993\n",
      "[220]\tvalidation_0-logloss:0.06993\n",
      "[221]\tvalidation_0-logloss:0.06993\n",
      "[222]\tvalidation_0-logloss:0.06993\n",
      "[223]\tvalidation_0-logloss:0.06993\n",
      "[224]\tvalidation_0-logloss:0.06993\n",
      "[225]\tvalidation_0-logloss:0.06993\n",
      "[226]\tvalidation_0-logloss:0.06993\n",
      "[227]\tvalidation_0-logloss:0.06993\n",
      "[228]\tvalidation_0-logloss:0.06993\n",
      "[229]\tvalidation_0-logloss:0.06993\n",
      "[230]\tvalidation_0-logloss:0.06993\n",
      "[231]\tvalidation_0-logloss:0.06993\n",
      "[232]\tvalidation_0-logloss:0.06993\n",
      "[233]\tvalidation_0-logloss:0.06993\n",
      "[234]\tvalidation_0-logloss:0.06993\n",
      "[235]\tvalidation_0-logloss:0.06993\n"
     ]
    },
    {
     "name": "stdout",
     "output_type": "stream",
     "text": [
      "[236]\tvalidation_0-logloss:0.06993\n",
      "[237]\tvalidation_0-logloss:0.06993\n",
      "[238]\tvalidation_0-logloss:0.06993\n",
      "[239]\tvalidation_0-logloss:0.06993\n",
      "[240]\tvalidation_0-logloss:0.06993\n",
      "[241]\tvalidation_0-logloss:0.06993\n",
      "[242]\tvalidation_0-logloss:0.06993\n",
      "[243]\tvalidation_0-logloss:0.06993\n",
      "[244]\tvalidation_0-logloss:0.06993\n",
      "Stopping. Best iteration:\n",
      "[144]\tvalidation_0-logloss:0.06993\n",
      "\n"
     ]
    },
    {
     "data": {
      "text/plain": [
       "XGBClassifier(base_score=0.5, booster=None, colsample_bylevel=1,\n",
       "              colsample_bynode=1, colsample_bytree=1, gamma=0, gpu_id=-1,\n",
       "              importance_type='gain', interaction_constraints=None,\n",
       "              learning_rate=0.300000012, max_delta_step=0, max_depth=6,\n",
       "              min_child_weight=1, missing=nan, monotone_constraints=None,\n",
       "              n_estimators=500, n_jobs=0, num_parallel_tree=1,\n",
       "              objective='binary:logistic', random_state=0, reg_alpha=0,\n",
       "              reg_lambda=1, scale_pos_weight=1, subsample=1, tree_method=None,\n",
       "              validate_parameters=False, verbosity=None)"
      ]
     },
     "execution_count": 9,
     "metadata": {},
     "output_type": "execute_result"
    }
   ],
   "source": [
    "# 조기 중단 기능 (early stopping) 활용\n",
    "eval_data = [(X_test,y_test)]\n",
    "xgb_clf = XGBClassifier(n_estimators=500)\n",
    "# xgb_clf.fit(X_train,y_train)# 학습 \n",
    "xgb_clf.fit(X_train,y_train,\n",
    "            early_stopping_rounds= 100,\n",
    "            eval_set = eval_data,\n",
    "            eval_metric = 'logloss')"
   ]
  },
  {
   "cell_type": "markdown",
   "metadata": {},
   "source": [
    "<div class=\"alert alert-success\" data-title=\"\">\n",
    "  <h2><i class=\"fa fa-tasks\" aria-hidden=\"true\"></i>  AdaBoostClassifier\n",
    "  </h2>\n",
    "</div>\n"
   ]
  },
  {
   "cell_type": "code",
   "execution_count": 10,
   "metadata": {
    "ExecuteTime": {
     "end_time": "2020-08-12T06:30:24.995785Z",
     "start_time": "2020-08-12T06:30:24.829137Z"
    },
    "collapsed": true
   },
   "outputs": [
    {
     "name": "stdout",
     "output_type": "stream",
     "text": [
      "RESULT\n",
      "Confusion Matrix : \n",
      "[[ 61   2]\n",
      " [  2 106]]\n",
      "------------------------------\n",
      "Accuaracy Score : \n",
      "0.9766081871345029\n",
      "------------------------------\n",
      "Precision Score : \n",
      "0.9814814814814815\n",
      "------------------------------\n",
      "Recall Score : \n",
      "0.9814814814814815\n",
      "------------------------------\n",
      "F1 Score : \n",
      "0.9814814814814815\n",
      "------------------------------\n",
      "AUC Score : \n",
      "0.9748677248677248\n",
      "------------------------------\n"
     ]
    }
   ],
   "source": [
    "from sklearn.ensemble import AdaBoostClassifier\n",
    "ab_model = AdaBoostClassifier() # 정의\n",
    "ab_model.fit(X_train, y_train) # 학습 \n",
    "y_pred = ab_model.predict(X_test) #예측\n",
    "get_clf_eval(y_test,y_pred ) # 평가 (사용자정의함수)"
   ]
  },
  {
   "cell_type": "markdown",
   "metadata": {},
   "source": [
    "<div class=\"alert alert-success\" data-title=\"\">\n",
    "  <h2><i class=\"fa fa-tasks\" aria-hidden=\"true\"></i>  LGBMClassifier\n",
    "  </h2>\n",
    "</div>\n"
   ]
  },
  {
   "cell_type": "code",
   "execution_count": 11,
   "metadata": {
    "ExecuteTime": {
     "end_time": "2020-08-12T06:32:22.501134Z",
     "start_time": "2020-08-12T06:32:22.406558Z"
    },
    "collapsed": true
   },
   "outputs": [
    {
     "name": "stdout",
     "output_type": "stream",
     "text": [
      "RESULT\n",
      "Confusion Matrix : \n",
      "[[ 59   4]\n",
      " [  2 106]]\n",
      "------------------------------\n",
      "Accuaracy Score : \n",
      "0.9649122807017544\n",
      "------------------------------\n",
      "Precision Score : \n",
      "0.9636363636363636\n",
      "------------------------------\n",
      "Recall Score : \n",
      "0.9814814814814815\n",
      "------------------------------\n",
      "F1 Score : \n",
      "0.9724770642201834\n",
      "------------------------------\n",
      "AUC Score : \n",
      "0.958994708994709\n",
      "------------------------------\n"
     ]
    }
   ],
   "source": [
    "from lightgbm import LGBMClassifier\n",
    "lightgbm = LGBMClassifier() # 모델정의 \n",
    "lightgbm.fit(X_train,y_train)# 정의된 모델 학습 \n",
    "y_pred = lightgbm.predict(X_test) # 예측 \n",
    "get_clf_eval(y_test,y_pred)# 평가 "
   ]
  }
 ],
 "metadata": {
  "hide_input": false,
  "kernelspec": {
   "display_name": "Python 3",
   "language": "python",
   "name": "python3"
  },
  "language_info": {
   "codemirror_mode": {
    "name": "ipython",
    "version": 3
   },
   "file_extension": ".py",
   "mimetype": "text/x-python",
   "name": "python",
   "nbconvert_exporter": "python",
   "pygments_lexer": "ipython3",
   "version": "3.7.0"
  },
  "toc": {
   "base_numbering": 1,
   "nav_menu": {},
   "number_sections": true,
   "sideBar": true,
   "skip_h1_title": true,
   "title_cell": "Table of Contents",
   "title_sidebar": "Contents",
   "toc_cell": false,
   "toc_position": {
    "height": "calc(100% - 180px)",
    "left": "10px",
    "top": "150px",
    "width": "168px"
   },
   "toc_section_display": true,
   "toc_window_display": false
  },
  "varInspector": {
   "cols": {
    "lenName": 16,
    "lenType": 16,
    "lenVar": 40
   },
   "kernels_config": {
    "python": {
     "delete_cmd_postfix": "",
     "delete_cmd_prefix": "del ",
     "library": "var_list.py",
     "varRefreshCmd": "print(var_dic_list())"
    },
    "r": {
     "delete_cmd_postfix": ") ",
     "delete_cmd_prefix": "rm(",
     "library": "var_list.r",
     "varRefreshCmd": "cat(var_dic_list()) "
    }
   },
   "types_to_exclude": [
    "module",
    "function",
    "builtin_function_or_method",
    "instance",
    "_Feature"
   ],
   "window_display": false
  }
 },
 "nbformat": 4,
 "nbformat_minor": 2
}

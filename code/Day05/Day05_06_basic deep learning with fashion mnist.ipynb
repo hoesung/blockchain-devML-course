{
 "cells": [
  {
   "cell_type": "markdown",
   "metadata": {},
   "source": [
    "<div class=\"alert alert-success\" data-title=\"\">\n",
    "  <h2><i class=\"fa fa-tasks\" aria-hidden=\"true\"></i> Fashion-MNIST\n",
    "  </h2>\n",
    "</div>\n"
   ]
  },
  {
   "cell_type": "code",
   "execution_count": 3,
   "metadata": {
    "ExecuteTime": {
     "end_time": "2020-08-11T16:58:17.160502Z",
     "start_time": "2020-08-11T16:58:17.157044Z"
    },
    "colab": {},
    "colab_type": "code",
    "id": "Fl1OE9oqJgkG"
   },
   "outputs": [],
   "source": [
    "# import \n",
    "import numpy as np \n",
    "import matplotlib.pyplot as plt \n",
    "\n",
    "import tensorflow as tf \n",
    "from tensorflow import keras \n",
    "# import keras "
   ]
  },
  {
   "cell_type": "code",
   "execution_count": 4,
   "metadata": {
    "ExecuteTime": {
     "end_time": "2020-08-11T16:58:20.835624Z",
     "start_time": "2020-08-11T16:58:20.832306Z"
    },
    "colab": {},
    "colab_type": "code",
    "id": "rjIY2PuHJgkJ",
    "outputId": "e5d35f3c-7100-4b05-b2da-1ce1ff7455b3",
    "scrolled": true
   },
   "outputs": [
    {
     "name": "stdout",
     "output_type": "stream",
     "text": [
      "1.14.0\n"
     ]
    }
   ],
   "source": [
    "print(tf.__version__)"
   ]
  },
  {
   "cell_type": "markdown",
   "metadata": {
    "colab_type": "text",
    "id": "4K_zaHCqJgkN"
   },
   "source": [
    "<img src= https://leejunhyun.github.io/assets/img/TensorFlow/Fashion-MNIST-01.png>"
   ]
  },
  {
   "cell_type": "markdown",
   "metadata": {
    "colab_type": "text",
    "id": "vVflwzWmJgkN"
   },
   "source": [
    "## EDA \n",
    "<img src=https://s3-ap-northeast-1.amazonaws.com/newstopics-production/url/2b6d5deda497d42e2d0516c27e9fd1b6e4192f51?1590738740 width=40%>"
   ]
  },
  {
   "cell_type": "code",
   "execution_count": 5,
   "metadata": {
    "ExecuteTime": {
     "end_time": "2020-08-11T16:59:11.120093Z",
     "start_time": "2020-08-11T16:59:05.384730Z"
    },
    "colab": {},
    "colab_type": "code",
    "id": "HIVmMzbVJgkO"
   },
   "outputs": [
    {
     "name": "stdout",
     "output_type": "stream",
     "text": [
      "Downloading data from https://storage.googleapis.com/tensorflow/tf-keras-datasets/train-labels-idx1-ubyte.gz\n",
      "32768/29515 [=================================] - 0s 1us/step\n",
      "Downloading data from https://storage.googleapis.com/tensorflow/tf-keras-datasets/train-images-idx3-ubyte.gz\n",
      "26427392/26421880 [==============================] - 3s 0us/step\n",
      "Downloading data from https://storage.googleapis.com/tensorflow/tf-keras-datasets/t10k-labels-idx1-ubyte.gz\n",
      "8192/5148 [===============================================] - 0s 0us/step\n",
      "Downloading data from https://storage.googleapis.com/tensorflow/tf-keras-datasets/t10k-images-idx3-ubyte.gz\n",
      "4423680/4422102 [==============================] - 1s 0us/step\n"
     ]
    }
   ],
   "source": [
    "# data 불러오기 \n",
    "fashion_mnist = keras.datasets.fashion_mnist\n",
    "# train test split 불필요.. \n",
    "(train_images, train_labels), (test_images, test_labels)= fashion_mnist.load_data()"
   ]
  },
  {
   "cell_type": "code",
   "execution_count": 6,
   "metadata": {
    "ExecuteTime": {
     "end_time": "2020-08-11T16:59:11.140340Z",
     "start_time": "2020-08-11T16:59:11.137627Z"
    },
    "colab": {},
    "colab_type": "code",
    "id": "u9wUpWY1JgkQ"
   },
   "outputs": [],
   "source": [
    "class_names = ['Top', 'Trouser','Pullover',\n",
    "              'Dress','Coat', 'Sandal',\n",
    "              'Shirt','Sneaker','Bag',\n",
    "              'Ank']"
   ]
  },
  {
   "cell_type": "code",
   "execution_count": 7,
   "metadata": {
    "ExecuteTime": {
     "end_time": "2020-08-11T16:59:11.745654Z",
     "start_time": "2020-08-11T16:59:11.742320Z"
    },
    "colab": {},
    "colab_type": "code",
    "id": "hWj_V0OPJgkT",
    "outputId": "e9593f7e-5b62-4f36-cb91-47a798d18ba4"
   },
   "outputs": [
    {
     "name": "stdout",
     "output_type": "stream",
     "text": [
      "(60000, 28, 28)\n",
      "(10000, 28, 28)\n"
     ]
    }
   ],
   "source": [
    "# 사진 개수 , 가로, 세로 \n",
    "print(train_images.shape)\n",
    "print(test_images.shape)"
   ]
  },
  {
   "cell_type": "markdown",
   "metadata": {
    "colab_type": "text",
    "id": "jOX5jH3SJgkV"
   },
   "source": [
    "컴퓨터에서 흑백이미지란 [0,255] 구간의 값으로 표시 된다. \n",
    "255 일수록 밝고 0일수록 어둡습니다. "
   ]
  },
  {
   "cell_type": "code",
   "execution_count": 8,
   "metadata": {
    "ExecuteTime": {
     "end_time": "2020-08-11T16:59:12.777740Z",
     "start_time": "2020-08-11T16:59:12.583365Z"
    },
    "colab": {},
    "colab_type": "code",
    "id": "Gyj2H4vaJgkV",
    "outputId": "40c35d12-f7bb-4ecb-bf6b-3efe576c3dde"
   },
   "outputs": [
    {
     "data": {
      "image/png": "[encoded data removed]",
      "text/plain": [
       "<Figure size 432x288 with 2 Axes>"
      ]
     },
     "metadata": {
      "needs_background": "light"
     },
     "output_type": "display_data"
    }
   ],
   "source": [
    "# 데이터 샘플링 \n",
    "plt.imshow(train_images[12], cmap='gray') # image 보여주기 \n",
    "plt.colorbar() # 오른쪽 컬러바\n",
    "plt.show()"
   ]
  },
  {
   "cell_type": "markdown",
   "metadata": {
    "colab_type": "text",
    "id": "ZbOw2aAkJgkY"
   },
   "source": [
    "# scailing 작업 \n",
    "[0,255] ---> [0,1]"
   ]
  },
  {
   "cell_type": "code",
   "execution_count": 9,
   "metadata": {
    "ExecuteTime": {
     "end_time": "2020-08-11T16:59:13.755742Z",
     "start_time": "2020-08-11T16:59:13.474700Z"
    },
    "colab": {},
    "colab_type": "code",
    "id": "8Z_qDU6oJgkZ"
   },
   "outputs": [],
   "source": [
    "train_images = train_images / 255.0\n",
    "test_images = test_images / 255.0"
   ]
  },
  {
   "cell_type": "code",
   "execution_count": 10,
   "metadata": {
    "ExecuteTime": {
     "end_time": "2020-08-11T16:59:14.423405Z",
     "start_time": "2020-08-11T16:59:13.966940Z"
    },
    "colab": {},
    "colab_type": "code",
    "id": "2cYMyO7NJgkb",
    "outputId": "09cb58e5-446e-486f-e186-20ac3e9d243a"
   },
   "outputs": [
    {
     "data": {
      "image/png": "[encoded data removed]",
      "text/plain": [
       "<Figure size 720x720 with 16 Axes>"
      ]
     },
     "metadata": {},
     "output_type": "display_data"
    }
   ],
   "source": [
    "plt.figure(figsize=(10,10))\n",
    "\n",
    "for i in range(16):\n",
    "    plt.subplot(4,4,i+1)\n",
    "    plt.xticks([]) # x 축에 아무것도 표시하지 않기\n",
    "    plt.yticks([])\n",
    "    plt.grid(False)\n",
    "    plt.imshow(train_images[i], cmap='gray')\n",
    "    plt.xlabel(class_names[train_labels[i]])\n",
    "plt.show()"
   ]
  },
  {
   "cell_type": "markdown",
   "metadata": {
    "colab_type": "text",
    "id": "FnrWlTeUJgkd"
   },
   "source": [
    "## 모델학습 \n",
    "\n",
    "머신러닝과 다르게 feature engineering 과정이 필요가 없습니다. \n",
    "\n",
    "1. 분류 \n",
    "    - 이진분류 : 클래스가 0/1 or 클래스 -1 / 1 -------> sigmoid\n",
    "    - 멀티분류? : 클래스가 2 개이상            --------> softmax "
   ]
  },
  {
   "cell_type": "markdown",
   "metadata": {},
   "source": [
    "<div class=\"alert alert-success\" data-title=\"\">\n",
    "  <h2><i class=\"fa fa-tasks\" aria-hidden=\"true\"></i> 모델을 만들어보기 \n",
    "  </h2>\n",
    "</div>\n",
    "\n",
    "정확도 87 이상 올리기"
   ]
  },
  {
   "cell_type": "code",
   "execution_count": 26,
   "metadata": {
    "ExecuteTime": {
     "end_time": "2020-08-11T17:18:10.292016Z",
     "start_time": "2020-08-11T17:18:10.263052Z"
    },
    "colab": {},
    "colab_type": "code",
    "id": "8pFO3CcuJgkd",
    "outputId": "95d30c88-a219-466b-ed21-9d3e7731e57f"
   },
   "outputs": [
    {
     "name": "stdout",
     "output_type": "stream",
     "text": [
      "Model: \"sequential_1\"\n",
      "_________________________________________________________________\n",
      "Layer (type)                 Output Shape              Param #   \n",
      "=================================================================\n",
      "flatten_1 (Flatten)          (None, 784)               0         \n",
      "_________________________________________________________________\n",
      "dense_4 (Dense)              (None, 10)                7850      \n",
      "=================================================================\n",
      "Total params: 7,850\n",
      "Trainable params: 7,850\n",
      "Non-trainable params: 0\n",
      "_________________________________________________________________\n"
     ]
    }
   ],
   "source": [
    "# model define \n",
    "model = keras.Sequential([\n",
    "    # 초기 layer\n",
    "    keras.layers.Flatten(input_shape=(28, 28)), # 이미지 사이즈를 넣어주기 == input 크기 ,\n",
    "    \n",
    "    # layer 추가해보기 \n",
    "    keras.layers.Dense(100,activation= 'relu' )\n",
    "    # 마지막 layer \n",
    "    keras.layers.Dense(10,activation= 'softmax' ) # 클래스가 10개인 분류이므로 softmax \n",
    "])\n",
    "\n",
    "model.summary()"
   ]
  },
  {
   "cell_type": "code",
   "execution_count": 12,
   "metadata": {
    "ExecuteTime": {
     "end_time": "2020-08-11T16:59:16.028122Z",
     "start_time": "2020-08-11T16:59:16.019079Z"
    },
    "colab": {},
    "colab_type": "code",
    "id": "pLIdly7uJgkg"
   },
   "outputs": [],
   "source": [
    "from tensorflow.keras import backend as K"
   ]
  },
  {
   "cell_type": "code",
   "execution_count": 13,
   "metadata": {
    "ExecuteTime": {
     "end_time": "2020-08-11T16:59:16.480765Z",
     "start_time": "2020-08-11T16:59:16.473693Z"
    },
    "colab": {},
    "colab_type": "code",
    "id": "jVAMwhRUJgki"
   },
   "outputs": [],
   "source": [
    "def recall(y_target, y_pred):\n",
    "    # clip(t, clip_value_min, clip_value_max) : clip_value_min~clip_value_max 이외 가장자리를 깎아 낸다\n",
    "    # round : 반올림한다\n",
    "    y_target_yn = K.round(K.clip(y_target, 0, 1)) # 실제값을 0(Negative) 또는 1(Positive)로 설정한다\n",
    "    y_pred_yn = K.round(K.clip(y_pred, 0, 1)) # 예측값을 0(Negative) 또는 1(Positive)로 설정한다\n",
    "\n",
    "    # True Positive는 실제 값과 예측 값이 모두 1(Positive)인 경우이다\n",
    "    count_true_positive = K.sum(y_target_yn * y_pred_yn) \n",
    "\n",
    "    # (True Positive + False Negative) = 실제 값이 1(Positive) 전체\n",
    "    count_true_positive_false_negative = K.sum(y_target_yn)\n",
    "\n",
    "    # Recall =  (True Positive) / (True Positive + False Negative)\n",
    "    # K.epsilon()는 'divide by zero error' 예방차원에서 작은 수를 더한다\n",
    "    recall = count_true_positive / (count_true_positive_false_negative + K.epsilon())\n",
    "\n",
    "    # return a single tensor value\n",
    "    return recall\n",
    "\n",
    "\n",
    "def precision(y_target, y_pred):\n",
    "    # clip(t, clip_value_min, clip_value_max) : clip_value_min~clip_value_max 이외 가장자리를 깎아 낸다\n",
    "    # round : 반올림한다\n",
    "    y_pred_yn = K.round(K.clip(y_pred, 0, 1)) # 예측값을 0(Negative) 또는 1(Positive)로 설정한다\n",
    "    y_target_yn = K.round(K.clip(y_target, 0, 1)) # 실제값을 0(Negative) 또는 1(Positive)로 설정한다\n",
    "\n",
    "    # True Positive는 실제 값과 예측 값이 모두 1(Positive)인 경우이다\n",
    "    count_true_positive = K.sum(y_target_yn * y_pred_yn) \n",
    "\n",
    "    # (True Positive + False Positive) = 예측 값이 1(Positive) 전체\n",
    "    count_true_positive_false_positive = K.sum(y_pred_yn)\n",
    "\n",
    "    # Precision = (True Positive) / (True Positive + False Positive)\n",
    "    # K.epsilon()는 'divide by zero error' 예방차원에서 작은 수를 더한다\n",
    "    precision = count_true_positive / (count_true_positive_false_positive + K.epsilon())\n",
    "\n",
    "    # return a single tensor value\n",
    "    return precision\n"
   ]
  },
  {
   "cell_type": "code",
   "execution_count": 14,
   "metadata": {
    "ExecuteTime": {
     "end_time": "2020-08-11T16:59:17.018981Z",
     "start_time": "2020-08-11T16:59:17.015115Z"
    },
    "colab": {},
    "colab_type": "code",
    "id": "Lkka2y-FJgkk"
   },
   "outputs": [],
   "source": [
    "def f1score(y_target, y_pred):\n",
    "    _recall = recall(y_target, y_pred)\n",
    "    _precision = precision(y_target, y_pred)\n",
    "    # K.epsilon()는 'divide by zero error' 예방차원에서 작은 수를 더한다\n",
    "    _f1score = ( 2 * _recall * _precision) / (_recall + _precision+ K.epsilon())\n",
    "    \n",
    "    # return a single tensor value\n",
    "    return _f1score"
   ]
  },
  {
   "cell_type": "markdown",
   "metadata": {
    "colab_type": "text",
    "id": "ercDhm1YJgkm"
   },
   "source": [
    "- sparse_categorical_crossentropy: 멀티분류 \n",
    "- binary_crossentropy: 이진분류"
   ]
  },
  {
   "cell_type": "code",
   "execution_count": 15,
   "metadata": {
    "ExecuteTime": {
     "end_time": "2020-08-11T16:59:17.954529Z",
     "start_time": "2020-08-11T16:59:17.843106Z"
    },
    "colab": {},
    "colab_type": "code",
    "id": "B7GKBTtjJgkm"
   },
   "outputs": [],
   "source": [
    "# 모델을 compile  해주기 \n",
    "model.compile(optimizer='adam',  # 학습률을 어떻게 업데이트 할 인가?\n",
    "             loss = 'sparse_categorical_crossentropy', # 멀티분류 \n",
    "             metrics =['accuracy',f1score]) # 평가지표를 무엇으로 할것인가? \n",
    "# 분류 metrics = accuracy, f1, recall, precision "
   ]
  },
  {
   "cell_type": "code",
   "execution_count": 16,
   "metadata": {
    "ExecuteTime": {
     "end_time": "2020-08-11T17:00:10.759216Z",
     "start_time": "2020-08-11T16:59:18.495104Z"
    },
    "colab": {},
    "colab_type": "code",
    "id": "YY5jriFmJgko",
    "outputId": "58c08535-ddec-481f-f556-b0f6fcbba332"
   },
   "outputs": [
    {
     "name": "stdout",
     "output_type": "stream",
     "text": [
      "Epoch 1/10\n",
      "60000/60000 [==============================] - 5s 87us/sample - loss: 0.5025 - acc: 0.8180 - f1score: 0.8871\n",
      "Epoch 2/10\n",
      "60000/60000 [==============================] - 5s 83us/sample - loss: 0.3799 - acc: 0.8618 - f1score: 0.92291s - loss: 0.383\n",
      "Epoch 3/10\n",
      "60000/60000 [==============================] - 5s 84us/sample - loss: 0.3444 - acc: 0.8731 - f1score: 0.9261\n",
      "Epoch 4/10\n",
      "60000/60000 [==============================] - 6s 95us/sample - loss: 0.3242 - acc: 0.8793 - f1score: 0.9281\n",
      "Epoch 5/10\n",
      "60000/60000 [==============================] - 5s 84us/sample - loss: 0.3075 - acc: 0.8850 - f1score: 0.9299\n",
      "Epoch 6/10\n",
      "60000/60000 [==============================] - 5s 79us/sample - loss: 0.2955 - acc: 0.8907 - f1score: 0.9301\n",
      "Epoch 7/10\n",
      "60000/60000 [==============================] - 5s 89us/sample - loss: 0.2851 - acc: 0.8928 - f1score: 0.9320\n",
      "Epoch 8/10\n",
      "60000/60000 [==============================] - 6s 92us/sample - loss: 0.2772 - acc: 0.8972 - f1score: 0.9327\n",
      "Epoch 9/10\n",
      "60000/60000 [==============================] - 5s 75us/sample - loss: 0.2672 - acc: 0.8989 - f1score: 0.9329\n",
      "Epoch 10/10\n",
      "60000/60000 [==============================] - 6s 94us/sample - loss: 0.2611 - acc: 0.9011 - f1score: 0.9340\n"
     ]
    },
    {
     "data": {
      "text/plain": [
       "<tensorflow.python.keras.callbacks.History at 0x161435eb8>"
      ]
     },
     "execution_count": 16,
     "metadata": {},
     "output_type": "execute_result"
    }
   ],
   "source": [
    "# 모델 fitting \n",
    "# fit(X, y) 학습 \n",
    "# epoch == 전체 데이터를 몇번 사용해서 학습할 것인가 \n",
    "# verbose 진행률을 프린트 \n",
    "model.fit(train_images, train_labels, epochs=10, verbose=1)"
   ]
  },
  {
   "cell_type": "code",
   "execution_count": 17,
   "metadata": {
    "ExecuteTime": {
     "end_time": "2020-08-11T17:00:52.170004Z",
     "start_time": "2020-08-11T17:00:51.488842Z"
    },
    "colab": {},
    "colab_type": "code",
    "id": "ASgEHJ1JJgkq",
    "outputId": "26d930d0-dffe-499b-ccdb-0c7382f771dd"
   },
   "outputs": [
    {
     "name": "stdout",
     "output_type": "stream",
     "text": [
      "10000/10000 [==============================] - 1s 66us/sample - loss: 0.3545 - acc: 0.8712 - f1score: 0.9305\n"
     ]
    }
   ],
   "source": [
    "# Test 평가 \n",
    "# (tensorflow == evaluate)  === (sklearn== predict )\n",
    "# model.predict(X_test, y_test)\n",
    "test_loss, test_acc, test_f1_score = model.evaluate(test_images, test_labels, verbose=1)"
   ]
  },
  {
   "cell_type": "code",
   "execution_count": 22,
   "metadata": {
    "ExecuteTime": {
     "end_time": "2020-08-11T17:01:41.599442Z",
     "start_time": "2020-08-11T17:01:41.595448Z"
    },
    "colab": {},
    "colab_type": "code",
    "id": "84_RS9clJgks",
    "outputId": "d2135dcb-9f09-4fb6-f815-5c492974a4f7"
   },
   "outputs": [
    {
     "name": "stdout",
     "output_type": "stream",
     "text": [
      "우리모델의 정확도: 87.12 %\n",
      "우리모델의 f1_score: 0.931\n"
     ]
    }
   ],
   "source": [
    "print(f'우리모델의 정확도: {round(test_acc*100,2)} %')\n",
    "print('우리모델의 f1_score: {:.3f}'.format(test_f1_score))"
   ]
  },
  {
   "cell_type": "code",
   "execution_count": 23,
   "metadata": {
    "ExecuteTime": {
     "end_time": "2020-08-11T17:01:42.069178Z",
     "start_time": "2020-08-11T17:01:42.060714Z"
    },
    "colab": {},
    "colab_type": "code",
    "id": "lfWo-PfFJgku"
   },
   "outputs": [],
   "source": [
    "def plot_image(i, predictions_array, true_label, img):\n",
    "    predictions_array, true_label, img = predictions_array[i], true_label[i], img[i]\n",
    "    plt.grid(False)\n",
    "    plt.xticks([])\n",
    "    plt.yticks([])\n",
    "\n",
    "    plt.imshow(img, cmap=plt.cm.binary)\n",
    "\n",
    "    predicted_label = np.argmax(predictions_array)\n",
    "    if predicted_label == true_label:\n",
    "        color = 'blue'\n",
    "    else:\n",
    "        color = 'red'\n",
    "\n",
    "    plt.xlabel(\"{} {:2.0f}% ({})\".format(class_names[predicted_label],\n",
    "                                100*np.max(predictions_array),\n",
    "                                class_names[true_label]),\n",
    "                                color=color)\n",
    "\n",
    "def plot_value_array(i, predictions_array, true_label):\n",
    "    predictions_array, true_label = predictions_array[i], true_label[i]\n",
    "    plt.grid(False)\n",
    "    plt.xticks([])\n",
    "    plt.yticks([])\n",
    "    thisplot = plt.bar(range(10), predictions_array, color=\"#777777\")\n",
    "    plt.ylim([0, 1])\n",
    "    predicted_label = np.argmax(predictions_array)\n",
    "\n",
    "    thisplot[predicted_label].set_color('red')\n",
    "    thisplot[true_label].set_color('blue')"
   ]
  },
  {
   "cell_type": "code",
   "execution_count": 24,
   "metadata": {
    "ExecuteTime": {
     "end_time": "2020-08-11T17:01:43.185594Z",
     "start_time": "2020-08-11T17:01:42.835387Z"
    },
    "colab": {},
    "colab_type": "code",
    "id": "5HmksEHxJgkw"
   },
   "outputs": [],
   "source": [
    "predictions = model.predict(test_images)"
   ]
  },
  {
   "cell_type": "code",
   "execution_count": 25,
   "metadata": {
    "ExecuteTime": {
     "end_time": "2020-08-11T17:01:44.425615Z",
     "start_time": "2020-08-11T17:01:43.439151Z"
    },
    "colab": {},
    "colab_type": "code",
    "id": "G0cwGuYWJgky",
    "outputId": "edbd4992-cef5-49ef-b0e0-af78ef073925"
   },
   "outputs": [
    {
     "data": {
      "image/png": "[encoded data removed]",
      "text/plain": [
       "<Figure size 864x720 with 30 Axes>"
      ]
     },
     "metadata": {},
     "output_type": "display_data"
    }
   ],
   "source": [
    "num_rows = 5\n",
    "num_cols = 3\n",
    "num_images = num_rows*num_cols\n",
    "plt.figure(figsize=(2*2*num_cols, 2*num_rows))\n",
    "for i in range(num_images):\n",
    "  plt.subplot(num_rows, 2*num_cols, 2*i+1)\n",
    "  plot_image(i, predictions, test_labels, test_images)\n",
    "  plt.subplot(num_rows, 2*num_cols, 2*i+2)\n",
    "  plot_value_array(i, predictions, test_labels)\n",
    "plt.show()"
   ]
  }
 ],
 "metadata": {
  "colab": {
   "name": "Fashion_mnist_basic_tunning.ipynb",
   "provenance": []
  },
  "hide_input": false,
  "kernelspec": {
   "display_name": "Python 3",
   "language": "python",
   "name": "python3"
  },
  "language_info": {
   "codemirror_mode": {
    "name": "ipython",
    "version": 3
   },
   "file_extension": ".py",
   "mimetype": "text/x-python",
   "name": "python",
   "nbconvert_exporter": "python",
   "pygments_lexer": "ipython3",
   "version": "3.7.0"
  },
  "toc": {
   "base_numbering": 1,
   "nav_menu": {},
   "number_sections": true,
   "sideBar": true,
   "skip_h1_title": false,
   "title_cell": "Table of Contents",
   "title_sidebar": "Contents",
   "toc_cell": false,
   "toc_position": {},
   "toc_section_display": true,
   "toc_window_display": false
  },
  "varInspector": {
   "cols": {
    "lenName": 16,
    "lenType": 16,
    "lenVar": 40
   },
   "kernels_config": {
    "python": {
     "delete_cmd_postfix": "",
     "delete_cmd_prefix": "del ",
     "library": "var_list.py",
     "varRefreshCmd": "print(var_dic_list())"
    },
    "r": {
     "delete_cmd_postfix": ") ",
     "delete_cmd_prefix": "rm(",
     "library": "var_list.r",
     "varRefreshCmd": "cat(var_dic_list()) "
    }
   },
   "types_to_exclude": [
    "module",
    "function",
    "builtin_function_or_method",
    "instance",
    "_Feature"
   ],
   "window_display": false
  }
 },
 "nbformat": 4,
 "nbformat_minor": 1
}

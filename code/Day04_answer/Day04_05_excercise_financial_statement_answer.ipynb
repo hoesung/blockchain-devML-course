{
 "cells": [
  {
   "cell_type": "code",
   "execution_count": 1,
   "metadata": {
    "ExecuteTime": {
     "end_time": "2020-08-10T14:04:20.954992Z",
     "start_time": "2020-08-10T14:04:20.583948Z"
    }
   },
   "outputs": [],
   "source": [
    "# ch4-4.py\n",
    "import pandas as pd\n",
    "import numpy as np\n",
    "\n",
    "# 데이터로드 (ch4-4(국내증권사재무제표).csv : 데이터 원본 파일)\n",
    "# encoding : 윈도우즈 환경에서의 한글 처리\n",
    "# engine : python 3.6에서 한글이 포함된 파일이름 사용\n",
    "rawData = pd.read_csv('../../data/financial_statement.csv', encoding='CP949', engine='python')"
   ]
  },
  {
   "cell_type": "code",
   "execution_count": 3,
   "metadata": {
    "ExecuteTime": {
     "end_time": "2020-08-10T14:04:26.058160Z",
     "start_time": "2020-08-10T14:04:26.030864Z"
    }
   },
   "outputs": [
    {
     "data": {
      "text/html": [
       "<div>\n",
       "<style scoped>\n",
       "    .dataframe tbody tr th:only-of-type {\n",
       "        vertical-align: middle;\n",
       "    }\n",
       "\n",
       "    .dataframe tbody tr th {\n",
       "        vertical-align: top;\n",
       "    }\n",
       "\n",
       "    .dataframe thead th {\n",
       "        text-align: right;\n",
       "    }\n",
       "</style>\n",
       "<table border=\"1\" class=\"dataframe\">\n",
       "  <thead>\n",
       "    <tr style=\"text-align: right;\">\n",
       "      <th></th>\n",
       "      <th>증권사명</th>\n",
       "      <th>총자본순이익률</th>\n",
       "      <th>자기자본순이익률</th>\n",
       "      <th>자기자본비율</th>\n",
       "      <th>부채비율</th>\n",
       "      <th>자기자본회전율</th>\n",
       "    </tr>\n",
       "  </thead>\n",
       "  <tbody>\n",
       "    <tr>\n",
       "      <th>0</th>\n",
       "      <td>SK증권</td>\n",
       "      <td>2.43</td>\n",
       "      <td>11.10</td>\n",
       "      <td>18.46</td>\n",
       "      <td>441.67</td>\n",
       "      <td>0.90</td>\n",
       "    </tr>\n",
       "    <tr>\n",
       "      <th>1</th>\n",
       "      <td>교보증권</td>\n",
       "      <td>3.09</td>\n",
       "      <td>9.95</td>\n",
       "      <td>29.46</td>\n",
       "      <td>239.43</td>\n",
       "      <td>0.90</td>\n",
       "    </tr>\n",
       "    <tr>\n",
       "      <th>2</th>\n",
       "      <td>대신증권</td>\n",
       "      <td>2.22</td>\n",
       "      <td>6.86</td>\n",
       "      <td>28.62</td>\n",
       "      <td>249.36</td>\n",
       "      <td>0.69</td>\n",
       "    </tr>\n",
       "    <tr>\n",
       "      <th>3</th>\n",
       "      <td>대우증권</td>\n",
       "      <td>5.76</td>\n",
       "      <td>23.19</td>\n",
       "      <td>23.47</td>\n",
       "      <td>326.09</td>\n",
       "      <td>1.43</td>\n",
       "    </tr>\n",
       "    <tr>\n",
       "      <th>4</th>\n",
       "      <td>동부증권</td>\n",
       "      <td>1.60</td>\n",
       "      <td>5.64</td>\n",
       "      <td>25.64</td>\n",
       "      <td>289.98</td>\n",
       "      <td>1.42</td>\n",
       "    </tr>\n",
       "    <tr>\n",
       "      <th>5</th>\n",
       "      <td>메리츠증권</td>\n",
       "      <td>3.53</td>\n",
       "      <td>10.64</td>\n",
       "      <td>32.25</td>\n",
       "      <td>210.10</td>\n",
       "      <td>1.17</td>\n",
       "    </tr>\n",
       "    <tr>\n",
       "      <th>6</th>\n",
       "      <td>미래에셋증권</td>\n",
       "      <td>4.26</td>\n",
       "      <td>15.56</td>\n",
       "      <td>24.40</td>\n",
       "      <td>309.78</td>\n",
       "      <td>0.81</td>\n",
       "    </tr>\n",
       "    <tr>\n",
       "      <th>7</th>\n",
       "      <td>부국증권</td>\n",
       "      <td>3.86</td>\n",
       "      <td>5.50</td>\n",
       "      <td>70.74</td>\n",
       "      <td>41.36</td>\n",
       "      <td>0.81</td>\n",
       "    </tr>\n",
       "    <tr>\n",
       "      <th>8</th>\n",
       "      <td>브릿지증권</td>\n",
       "      <td>4.09</td>\n",
       "      <td>6.44</td>\n",
       "      <td>64.38</td>\n",
       "      <td>55.32</td>\n",
       "      <td>0.32</td>\n",
       "    </tr>\n",
       "    <tr>\n",
       "      <th>9</th>\n",
       "      <td>삼성증권</td>\n",
       "      <td>2.73</td>\n",
       "      <td>10.68</td>\n",
       "      <td>24.41</td>\n",
       "      <td>309.59</td>\n",
       "      <td>0.64</td>\n",
       "    </tr>\n",
       "    <tr>\n",
       "      <th>10</th>\n",
       "      <td>서울증권</td>\n",
       "      <td>2.03</td>\n",
       "      <td>4.50</td>\n",
       "      <td>42.53</td>\n",
       "      <td>135.12</td>\n",
       "      <td>0.59</td>\n",
       "    </tr>\n",
       "    <tr>\n",
       "      <th>11</th>\n",
       "      <td>신영증권</td>\n",
       "      <td>1.96</td>\n",
       "      <td>8.92</td>\n",
       "      <td>18.48</td>\n",
       "      <td>441.19</td>\n",
       "      <td>1.07</td>\n",
       "    </tr>\n",
       "    <tr>\n",
       "      <th>12</th>\n",
       "      <td>신흥증권</td>\n",
       "      <td>3.25</td>\n",
       "      <td>7.96</td>\n",
       "      <td>40.42</td>\n",
       "      <td>147.41</td>\n",
       "      <td>1.19</td>\n",
       "    </tr>\n",
       "    <tr>\n",
       "      <th>13</th>\n",
       "      <td>우리투자증권</td>\n",
       "      <td>2.01</td>\n",
       "      <td>10.28</td>\n",
       "      <td>17.46</td>\n",
       "      <td>472.78</td>\n",
       "      <td>1.25</td>\n",
       "    </tr>\n",
       "    <tr>\n",
       "      <th>14</th>\n",
       "      <td>유화증권</td>\n",
       "      <td>2.28</td>\n",
       "      <td>3.65</td>\n",
       "      <td>63.71</td>\n",
       "      <td>56.96</td>\n",
       "      <td>0.12</td>\n",
       "    </tr>\n",
       "    <tr>\n",
       "      <th>15</th>\n",
       "      <td>한양증권</td>\n",
       "      <td>4.51</td>\n",
       "      <td>7.50</td>\n",
       "      <td>63.52</td>\n",
       "      <td>57.44</td>\n",
       "      <td>0.80</td>\n",
       "    </tr>\n",
       "    <tr>\n",
       "      <th>16</th>\n",
       "      <td>한화증권</td>\n",
       "      <td>3.29</td>\n",
       "      <td>12.37</td>\n",
       "      <td>24.47</td>\n",
       "      <td>308.63</td>\n",
       "      <td>0.57</td>\n",
       "    </tr>\n",
       "    <tr>\n",
       "      <th>17</th>\n",
       "      <td>현대증권</td>\n",
       "      <td>1.73</td>\n",
       "      <td>7.57</td>\n",
       "      <td>19.59</td>\n",
       "      <td>410.45</td>\n",
       "      <td>1.19</td>\n",
       "    </tr>\n",
       "  </tbody>\n",
       "</table>\n",
       "</div>"
      ],
      "text/plain": [
       "      증권사명  총자본순이익률  자기자본순이익률  자기자본비율    부채비율  자기자본회전율\n",
       "0     SK증권     2.43     11.10   18.46  441.67     0.90\n",
       "1     교보증권     3.09      9.95   29.46  239.43     0.90\n",
       "2     대신증권     2.22      6.86   28.62  249.36     0.69\n",
       "3     대우증권     5.76     23.19   23.47  326.09     1.43\n",
       "4     동부증권     1.60      5.64   25.64  289.98     1.42\n",
       "5    메리츠증권     3.53     10.64   32.25  210.10     1.17\n",
       "6   미래에셋증권     4.26     15.56   24.40  309.78     0.81\n",
       "7     부국증권     3.86      5.50   70.74   41.36     0.81\n",
       "8    브릿지증권     4.09      6.44   64.38   55.32     0.32\n",
       "9     삼성증권     2.73     10.68   24.41  309.59     0.64\n",
       "10    서울증권     2.03      4.50   42.53  135.12     0.59\n",
       "11    신영증권     1.96      8.92   18.48  441.19     1.07\n",
       "12    신흥증권     3.25      7.96   40.42  147.41     1.19\n",
       "13  우리투자증권     2.01     10.28   17.46  472.78     1.25\n",
       "14    유화증권     2.28      3.65   63.71   56.96     0.12\n",
       "15    한양증권     4.51      7.50   63.52   57.44     0.80\n",
       "16    한화증권     3.29     12.37   24.47  308.63     0.57\n",
       "17    현대증권     1.73      7.57   19.59  410.45     1.19"
      ]
     },
     "execution_count": 3,
     "metadata": {},
     "output_type": "execute_result"
    }
   ],
   "source": [
    "rawData"
   ]
  },
  {
   "cell_type": "markdown",
   "metadata": {},
   "source": [
    "$\\therefore$  속성값의 스케일의 차이가 나기 때문에 표준화를 시킨다. "
   ]
  },
  {
   "cell_type": "markdown",
   "metadata": {},
   "source": [
    "<div class=\"alert alert-success\" data-title=\"\">\n",
    "  <h2><i class=\"fa fa-tasks\" aria-hidden=\"true\"></i>  StandardScaler 사용하여 스케일링\n",
    "  </h2>\n",
    "</div>\n",
    "다음 함수를 사용하여 sub_X 를 전처리하여라.\n",
    "\n",
    "```python\n",
    "from sklearn.preprocessing import StandardScaler\n",
    "\n",
    "sub_X= rawData[['총자본순이익률','자기자본순이익률','자기자본비율','부채비율','자기자본회전율']]\n",
    "\n",
    "```"
   ]
  },
  {
   "cell_type": "code",
   "execution_count": 4,
   "metadata": {
    "ExecuteTime": {
     "end_time": "2020-08-10T14:22:48.860438Z",
     "start_time": "2020-08-10T14:22:48.527611Z"
    }
   },
   "outputs": [
    {
     "data": {
      "text/plain": [
       "array([[-0.54815766,  0.39397411, -0.94485925,  1.37778058,  0.05213973],\n",
       "       [ 0.04983251,  0.13499462, -0.32069039, -0.077102  ,  0.05213973],\n",
       "       [-0.73842726, -0.56087201, -0.3683542 , -0.00566715, -0.54509716],\n",
       "       [ 2.46897457,  3.11663676, -0.66057871,  0.54631634,  1.55945188],\n",
       "       [-1.3001756 , -0.83561547, -0.53744721,  0.28654671,  1.53101203],\n",
       "       [ 0.44849263,  0.29038232, -0.16237847, -0.28809738,  0.82001573],\n",
       "       [ 1.109906  ,  1.39836414, -0.60780807,  0.42898478, -0.20381894],\n",
       "       [ 0.74748771, -0.86714341,  2.0216451 , -1.50198626, -0.20381894],\n",
       "       [ 0.95587823, -0.65545582,  1.66076201, -1.40156023, -1.59737169],\n",
       "       [-0.27634394,  0.2993903 , -0.60724064,  0.42761795, -0.68729642],\n",
       "       [-0.91057594, -1.09234296,  0.42093569, -0.82749165, -0.82949568],\n",
       "       [-0.97399914, -0.09696092, -0.9437244 ,  1.37432754,  0.53561721],\n",
       "       [ 0.19479983, -0.3131525 ,  0.30120876, -0.73907933,  0.87689544],\n",
       "       [-0.92869686,  0.20931048, -1.00160187,  1.60158101,  1.04753455],\n",
       "       [-0.68406451, -1.28376259,  1.62274445, -1.38976233, -2.16616873],\n",
       "       [ 1.33641743, -0.41674429,  1.61196336, -1.38630928, -0.23225879],\n",
       "       [ 0.23104166,  0.67997755, -0.60383608,  0.42071186, -0.88637539],\n",
       "       [-1.18238966, -0.40098032, -0.88074008,  1.15318884,  0.87689544]])"
      ]
     },
     "execution_count": 4,
     "metadata": {},
     "output_type": "execute_result"
    }
   ],
   "source": [
    "# 대상 속성 추출\n",
    "sub_X= rawData[['총자본순이익률','자기자본순이익률','자기자본비율','부채비율','자기자본회전율']]\n",
    "\n",
    "# 데이터 표준화를 위한 sklearn.preprocessing 중 StandardScaler 모듈 임포트\n",
    "from sklearn.preprocessing import StandardScaler\n",
    "X_scaled = StandardScaler().fit_transform(sub_X)\n",
    "X_scaled"
   ]
  },
  {
   "cell_type": "code",
   "execution_count": 6,
   "metadata": {
    "ExecuteTime": {
     "end_time": "2020-08-10T14:36:56.517988Z",
     "start_time": "2020-08-10T14:36:56.505573Z"
    }
   },
   "outputs": [
    {
     "data": {
      "text/html": [
       "<div>\n",
       "<style scoped>\n",
       "    .dataframe tbody tr th:only-of-type {\n",
       "        vertical-align: middle;\n",
       "    }\n",
       "\n",
       "    .dataframe tbody tr th {\n",
       "        vertical-align: top;\n",
       "    }\n",
       "\n",
       "    .dataframe thead th {\n",
       "        text-align: right;\n",
       "    }\n",
       "</style>\n",
       "<table border=\"1\" class=\"dataframe\">\n",
       "  <thead>\n",
       "    <tr style=\"text-align: right;\">\n",
       "      <th></th>\n",
       "      <th>총자본순이익률</th>\n",
       "      <th>자기자본순이익률</th>\n",
       "      <th>자기자본비율</th>\n",
       "      <th>부채비율</th>\n",
       "      <th>자기자본회전율</th>\n",
       "    </tr>\n",
       "  </thead>\n",
       "  <tbody>\n",
       "    <tr>\n",
       "      <th>0</th>\n",
       "      <td>-0.548158</td>\n",
       "      <td>0.393974</td>\n",
       "      <td>-0.944859</td>\n",
       "      <td>1.377781</td>\n",
       "      <td>0.052140</td>\n",
       "    </tr>\n",
       "    <tr>\n",
       "      <th>1</th>\n",
       "      <td>0.049833</td>\n",
       "      <td>0.134995</td>\n",
       "      <td>-0.320690</td>\n",
       "      <td>-0.077102</td>\n",
       "      <td>0.052140</td>\n",
       "    </tr>\n",
       "    <tr>\n",
       "      <th>2</th>\n",
       "      <td>-0.738427</td>\n",
       "      <td>-0.560872</td>\n",
       "      <td>-0.368354</td>\n",
       "      <td>-0.005667</td>\n",
       "      <td>-0.545097</td>\n",
       "    </tr>\n",
       "    <tr>\n",
       "      <th>3</th>\n",
       "      <td>2.468975</td>\n",
       "      <td>3.116637</td>\n",
       "      <td>-0.660579</td>\n",
       "      <td>0.546316</td>\n",
       "      <td>1.559452</td>\n",
       "    </tr>\n",
       "    <tr>\n",
       "      <th>4</th>\n",
       "      <td>-1.300176</td>\n",
       "      <td>-0.835615</td>\n",
       "      <td>-0.537447</td>\n",
       "      <td>0.286547</td>\n",
       "      <td>1.531012</td>\n",
       "    </tr>\n",
       "    <tr>\n",
       "      <th>5</th>\n",
       "      <td>0.448493</td>\n",
       "      <td>0.290382</td>\n",
       "      <td>-0.162378</td>\n",
       "      <td>-0.288097</td>\n",
       "      <td>0.820016</td>\n",
       "    </tr>\n",
       "    <tr>\n",
       "      <th>6</th>\n",
       "      <td>1.109906</td>\n",
       "      <td>1.398364</td>\n",
       "      <td>-0.607808</td>\n",
       "      <td>0.428985</td>\n",
       "      <td>-0.203819</td>\n",
       "    </tr>\n",
       "    <tr>\n",
       "      <th>7</th>\n",
       "      <td>0.747488</td>\n",
       "      <td>-0.867143</td>\n",
       "      <td>2.021645</td>\n",
       "      <td>-1.501986</td>\n",
       "      <td>-0.203819</td>\n",
       "    </tr>\n",
       "    <tr>\n",
       "      <th>8</th>\n",
       "      <td>0.955878</td>\n",
       "      <td>-0.655456</td>\n",
       "      <td>1.660762</td>\n",
       "      <td>-1.401560</td>\n",
       "      <td>-1.597372</td>\n",
       "    </tr>\n",
       "    <tr>\n",
       "      <th>9</th>\n",
       "      <td>-0.276344</td>\n",
       "      <td>0.299390</td>\n",
       "      <td>-0.607241</td>\n",
       "      <td>0.427618</td>\n",
       "      <td>-0.687296</td>\n",
       "    </tr>\n",
       "    <tr>\n",
       "      <th>10</th>\n",
       "      <td>-0.910576</td>\n",
       "      <td>-1.092343</td>\n",
       "      <td>0.420936</td>\n",
       "      <td>-0.827492</td>\n",
       "      <td>-0.829496</td>\n",
       "    </tr>\n",
       "    <tr>\n",
       "      <th>11</th>\n",
       "      <td>-0.973999</td>\n",
       "      <td>-0.096961</td>\n",
       "      <td>-0.943724</td>\n",
       "      <td>1.374328</td>\n",
       "      <td>0.535617</td>\n",
       "    </tr>\n",
       "    <tr>\n",
       "      <th>12</th>\n",
       "      <td>0.194800</td>\n",
       "      <td>-0.313152</td>\n",
       "      <td>0.301209</td>\n",
       "      <td>-0.739079</td>\n",
       "      <td>0.876895</td>\n",
       "    </tr>\n",
       "    <tr>\n",
       "      <th>13</th>\n",
       "      <td>-0.928697</td>\n",
       "      <td>0.209310</td>\n",
       "      <td>-1.001602</td>\n",
       "      <td>1.601581</td>\n",
       "      <td>1.047535</td>\n",
       "    </tr>\n",
       "    <tr>\n",
       "      <th>14</th>\n",
       "      <td>-0.684065</td>\n",
       "      <td>-1.283763</td>\n",
       "      <td>1.622744</td>\n",
       "      <td>-1.389762</td>\n",
       "      <td>-2.166169</td>\n",
       "    </tr>\n",
       "    <tr>\n",
       "      <th>15</th>\n",
       "      <td>1.336417</td>\n",
       "      <td>-0.416744</td>\n",
       "      <td>1.611963</td>\n",
       "      <td>-1.386309</td>\n",
       "      <td>-0.232259</td>\n",
       "    </tr>\n",
       "    <tr>\n",
       "      <th>16</th>\n",
       "      <td>0.231042</td>\n",
       "      <td>0.679978</td>\n",
       "      <td>-0.603836</td>\n",
       "      <td>0.420712</td>\n",
       "      <td>-0.886375</td>\n",
       "    </tr>\n",
       "    <tr>\n",
       "      <th>17</th>\n",
       "      <td>-1.182390</td>\n",
       "      <td>-0.400980</td>\n",
       "      <td>-0.880740</td>\n",
       "      <td>1.153189</td>\n",
       "      <td>0.876895</td>\n",
       "    </tr>\n",
       "  </tbody>\n",
       "</table>\n",
       "</div>"
      ],
      "text/plain": [
       "     총자본순이익률  자기자본순이익률    자기자본비율      부채비율   자기자본회전율\n",
       "0  -0.548158  0.393974 -0.944859  1.377781  0.052140\n",
       "1   0.049833  0.134995 -0.320690 -0.077102  0.052140\n",
       "2  -0.738427 -0.560872 -0.368354 -0.005667 -0.545097\n",
       "3   2.468975  3.116637 -0.660579  0.546316  1.559452\n",
       "4  -1.300176 -0.835615 -0.537447  0.286547  1.531012\n",
       "5   0.448493  0.290382 -0.162378 -0.288097  0.820016\n",
       "6   1.109906  1.398364 -0.607808  0.428985 -0.203819\n",
       "7   0.747488 -0.867143  2.021645 -1.501986 -0.203819\n",
       "8   0.955878 -0.655456  1.660762 -1.401560 -1.597372\n",
       "9  -0.276344  0.299390 -0.607241  0.427618 -0.687296\n",
       "10 -0.910576 -1.092343  0.420936 -0.827492 -0.829496\n",
       "11 -0.973999 -0.096961 -0.943724  1.374328  0.535617\n",
       "12  0.194800 -0.313152  0.301209 -0.739079  0.876895\n",
       "13 -0.928697  0.209310 -1.001602  1.601581  1.047535\n",
       "14 -0.684065 -1.283763  1.622744 -1.389762 -2.166169\n",
       "15  1.336417 -0.416744  1.611963 -1.386309 -0.232259\n",
       "16  0.231042  0.679978 -0.603836  0.420712 -0.886375\n",
       "17 -1.182390 -0.400980 -0.880740  1.153189  0.876895"
      ]
     },
     "execution_count": 6,
     "metadata": {},
     "output_type": "execute_result"
    }
   ],
   "source": [
    "X_scaled = pd.DataFrame(X_scaled, columns = sub_X.columns)\n",
    "X_scaled"
   ]
  },
  {
   "cell_type": "markdown",
   "metadata": {},
   "source": [
    "<div class=\"alert alert-success\" data-title=\"\">\n",
    "  <h2><i class=\"fa fa-tasks\" aria-hidden=\"true\"></i> X,y 설정\n",
    "  </h2>\n",
    "</div>\n",
    "\n",
    "- X = ['자기자본순이익률','자기자본비율','부채비율','자기자본회전율']\n",
    "- y = '총자본순이익률'"
   ]
  },
  {
   "cell_type": "code",
   "execution_count": 7,
   "metadata": {
    "ExecuteTime": {
     "end_time": "2020-08-10T14:39:45.872265Z",
     "start_time": "2020-08-10T14:39:45.868213Z"
    }
   },
   "outputs": [],
   "source": [
    "X = X_scaled[['자기자본순이익률','자기자본비율','부채비율','자기자본회전율']]\n",
    "y = X_scaled['총자본순이익률']"
   ]
  },
  {
   "cell_type": "markdown",
   "metadata": {},
   "source": [
    "<div class=\"alert alert-success\" data-title=\"\">\n",
    "  <h2><i class=\"fa fa-tasks\" aria-hidden=\"true\"></i> train_test_split\n",
    "  </h2>\n",
    "</div>\n",
    "\n",
    "```python\n",
    "from sklearn.model_selection import train_test_split\n",
    "```"
   ]
  },
  {
   "cell_type": "code",
   "execution_count": 9,
   "metadata": {
    "ExecuteTime": {
     "end_time": "2020-08-10T14:39:55.259806Z",
     "start_time": "2020-08-10T14:39:55.255512Z"
    }
   },
   "outputs": [],
   "source": [
    "from sklearn.model_selection import train_test_split\n",
    "X_train, X_test, y_train, y_test = train_test_split(X,y)"
   ]
  },
  {
   "cell_type": "markdown",
   "metadata": {},
   "source": [
    "<div class=\"alert alert-success\" data-title=\"\">\n",
    "  <h2><i class=\"fa fa-tasks\" aria-hidden=\"true\"></i> Modeling\n",
    "  </h2>\n",
    "</div>\n",
    "\n",
    "```python \n",
    "from lightgbm import LGBMRegressor\n",
    "```"
   ]
  },
  {
   "cell_type": "code",
   "execution_count": 12,
   "metadata": {
    "ExecuteTime": {
     "end_time": "2020-08-10T14:41:10.576415Z",
     "start_time": "2020-08-10T14:41:10.557128Z"
    }
   },
   "outputs": [
    {
     "data": {
      "text/plain": [
       "-0.08140389228661336"
      ]
     },
     "execution_count": 12,
     "metadata": {},
     "output_type": "execute_result"
    }
   ],
   "source": [
    "from lightgbm import LGBMRegressor\n",
    "model = LGBMRegressor().fit(X_train.values,y_train.values)\n"
   ]
  },
  {
   "cell_type": "markdown",
   "metadata": {},
   "source": [
    "<div class=\"alert alert-success\" data-title=\"\">\n",
    "  <h2><i class=\"fa fa-tasks\" aria-hidden=\"true\"></i> 평가\n",
    "  </h2>\n",
    "</div>\n",
    "\n",
    "```python\n",
    "from sklearn.metrics import r2_score\n",
    "```"
   ]
  },
  {
   "cell_type": "code",
   "execution_count": null,
   "metadata": {},
   "outputs": [],
   "source": [
    "model.score(X_test.values,y_test.values"
   ]
  }
 ],
 "metadata": {
  "hide_input": false,
  "kernelspec": {
   "display_name": "Python 3",
   "language": "python",
   "name": "python3"
  },
  "language_info": {
   "codemirror_mode": {
    "name": "ipython",
    "version": 3
   },
   "file_extension": ".py",
   "mimetype": "text/x-python",
   "name": "python",
   "nbconvert_exporter": "python",
   "pygments_lexer": "ipython3",
   "version": "3.7.0"
  },
  "toc": {
   "base_numbering": 1,
   "nav_menu": {},
   "number_sections": true,
   "sideBar": true,
   "skip_h1_title": false,
   "title_cell": "Table of Contents",
   "title_sidebar": "Contents",
   "toc_cell": false,
   "toc_position": {},
   "toc_section_display": true,
   "toc_window_display": false
  },
  "varInspector": {
   "cols": {
    "lenName": 16,
    "lenType": 16,
    "lenVar": 40
   },
   "kernels_config": {
    "python": {
     "delete_cmd_postfix": "",
     "delete_cmd_prefix": "del ",
     "library": "var_list.py",
     "varRefreshCmd": "print(var_dic_list())"
    },
    "r": {
     "delete_cmd_postfix": ") ",
     "delete_cmd_prefix": "rm(",
     "library": "var_list.r",
     "varRefreshCmd": "cat(var_dic_list()) "
    }
   },
   "types_to_exclude": [
    "module",
    "function",
    "builtin_function_or_method",
    "instance",
    "_Feature"
   ],
   "window_display": false
  }
 },
 "nbformat": 4,
 "nbformat_minor": 4
}

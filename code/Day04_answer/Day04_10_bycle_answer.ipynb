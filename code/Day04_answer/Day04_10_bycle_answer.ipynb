{
 "cells": [
  {
   "cell_type": "markdown",
   "metadata": {
    "colab_type": "text",
    "id": "ALkngmAwVmBZ"
   },
   "source": [
    "# **Regression Practice - Bike Sharing in Washington DC (자전거 수요 예측)**\n",
    "\n",
    "* Source: https://www.kaggle.com/marklvl/bike-sharing-dataset\n",
    "\n",
    "### **목적** \n",
    "\n",
    "자전거 대여 횟수를 예측하기 위해, 회귀(Regression) 분석을 하는 것이 이번 시간의 목표입니다.\n",
    "\n",
    "### **특징**\n",
    "\n",
    "2011년에서 2012년도 미국의 워싱턴 DC의 자전거 대여 공공데이터\n",
    "\n",
    "자료에는 날짜, 날씨, 온도, 계절, 체감온도, 풍속, 자전거 대여 횟수 등이 시간별로 기록\n",
    "\n",
    "### **Feature(속성) 설명**\n",
    "\n",
    "`rides`의 각 열별로 나타내는 정보는 다음과 같습니다.\n",
    "\n",
    "* `instant`: 기록번호\n",
    "* `dteday`: 날짜\n",
    "* `season`: 계절 (`1`:봄, `2`:여름, `3`:가을, `4`:겨울)\n",
    "* `yr`: 연도 (`0`: 2011, `1`:2012)\n",
    "* `mnth`: 달 (`1` ~ `12`)\n",
    "* `hr`: 시간 (`0` ~ `23`)\n",
    "* `holiday`: 휴일(`0`/`1`)\n",
    "* `weekday`: 요일\n",
    "* `workingday`: 평일(`0`/`1`)\n",
    "* `weathersit`:\n",
    "    * `1`: 맑거나 조금 흐림\n",
    "    * `2`: 안개 및 흐림\n",
    "    * `3`: 가벼운 눈, 비\n",
    "    * `4`: 많은 비, 눈, 뇌우\n",
    "* `temp`: `0`에서 `1`까지의 표준화된 섭씨 온도(최저기온 : -8, 최고기온 : 39)\n",
    "* `atemp`: `0`에서 `1`까지의 표준화된 섭씨 체감온도(최저기온 : -16, 최고기온 : 50)\n",
    "* `hum`: `0`에서 `1`까지 표준화된 습도(예: 0.3 = 30%)\n",
    "* `windspeed`: 표준화된 풍속(최고속도 : 67)\n",
    "* `casual`: 비회원의 자전거 대여 횟수\n",
    "* `registered`: 등록회원의 자전거 대여 횟수\n",
    "* `cnt`: 비회원 및 등록회원의 총 자전거 대여 횟수\n",
    "\n",
    "자전거 대여 횟수를 예측하는 회귀 모델을 찾는 것이 이번 장에서의 목표입니다. \n",
    "\n",
    "대여 횟수 종류가 총 3가지(`casual`, `registered`, `cnt`)있는데, \n",
    "\n",
    "**그중에 비회원과 등록회원 모두의 자전거 대여 횟수인 `cnt`만 예측 목표(target)입니다.**\n",
    "\n",
    "---"
   ]
  },
  {
   "cell_type": "markdown",
   "metadata": {
    "colab_type": "text",
    "id": "z184kqa8YRkL"
   },
   "source": [
    "## Step 1. 필요한 패키지와 데이터셋 불러오기"
   ]
  },
  {
   "cell_type": "code",
   "execution_count": 2,
   "metadata": {
    "ExecuteTime": {
     "end_time": "2020-08-10T17:07:53.261026Z",
     "start_time": "2020-08-10T17:07:51.293081Z"
    },
    "colab": {},
    "colab_type": "code",
    "id": "TIZUXHQHYE5D"
   },
   "outputs": [],
   "source": [
    "%matplotlib inline\n",
    "import numpy as np\n",
    "import pandas as pd\n",
    "import seaborn as sns\n",
    "import matplotlib.pyplot as plt\n",
    "\n",
    "\n",
    "import statsmodels.api as sm\n",
    "import warnings         # warnings : 버전 충돌 및 특정 예외 처리를 위해 불러온 내장 모듈\n",
    "warnings.filterwarnings(\"ignore\", category=RuntimeWarning)"
   ]
  },
  {
   "cell_type": "code",
   "execution_count": 3,
   "metadata": {
    "ExecuteTime": {
     "end_time": "2020-08-10T17:07:53.318365Z",
     "start_time": "2020-08-10T17:07:53.270589Z"
    },
    "colab": {
     "base_uri": "https://localhost:8080/",
     "height": 142
    },
    "colab_type": "code",
    "id": "0zei58GiYo-b",
    "outputId": "984729d6-688b-4a3b-c7a4-cacc91081088"
   },
   "outputs": [
    {
     "data": {
      "text/html": [
       "<div>\n",
       "<style scoped>\n",
       "    .dataframe tbody tr th:only-of-type {\n",
       "        vertical-align: middle;\n",
       "    }\n",
       "\n",
       "    .dataframe tbody tr th {\n",
       "        vertical-align: top;\n",
       "    }\n",
       "\n",
       "    .dataframe thead th {\n",
       "        text-align: right;\n",
       "    }\n",
       "</style>\n",
       "<table border=\"1\" class=\"dataframe\">\n",
       "  <thead>\n",
       "    <tr style=\"text-align: right;\">\n",
       "      <th></th>\n",
       "      <th>instant</th>\n",
       "      <th>dteday</th>\n",
       "      <th>season</th>\n",
       "      <th>yr</th>\n",
       "      <th>mnth</th>\n",
       "      <th>hr</th>\n",
       "      <th>holiday</th>\n",
       "      <th>weekday</th>\n",
       "      <th>workingday</th>\n",
       "      <th>weathersit</th>\n",
       "      <th>temp</th>\n",
       "      <th>atemp</th>\n",
       "      <th>hum</th>\n",
       "      <th>windspeed</th>\n",
       "      <th>casual</th>\n",
       "      <th>registered</th>\n",
       "      <th>cnt</th>\n",
       "    </tr>\n",
       "  </thead>\n",
       "  <tbody>\n",
       "    <tr>\n",
       "      <th>0</th>\n",
       "      <td>1</td>\n",
       "      <td>2011-01-01</td>\n",
       "      <td>1</td>\n",
       "      <td>0</td>\n",
       "      <td>1</td>\n",
       "      <td>0</td>\n",
       "      <td>0</td>\n",
       "      <td>6</td>\n",
       "      <td>0</td>\n",
       "      <td>1</td>\n",
       "      <td>0.24</td>\n",
       "      <td>0.2879</td>\n",
       "      <td>0.81</td>\n",
       "      <td>0.0</td>\n",
       "      <td>3</td>\n",
       "      <td>13</td>\n",
       "      <td>16</td>\n",
       "    </tr>\n",
       "    <tr>\n",
       "      <th>1</th>\n",
       "      <td>2</td>\n",
       "      <td>2011-01-01</td>\n",
       "      <td>1</td>\n",
       "      <td>0</td>\n",
       "      <td>1</td>\n",
       "      <td>1</td>\n",
       "      <td>0</td>\n",
       "      <td>6</td>\n",
       "      <td>0</td>\n",
       "      <td>1</td>\n",
       "      <td>0.22</td>\n",
       "      <td>0.2727</td>\n",
       "      <td>0.80</td>\n",
       "      <td>0.0</td>\n",
       "      <td>8</td>\n",
       "      <td>32</td>\n",
       "      <td>40</td>\n",
       "    </tr>\n",
       "    <tr>\n",
       "      <th>2</th>\n",
       "      <td>3</td>\n",
       "      <td>2011-01-01</td>\n",
       "      <td>1</td>\n",
       "      <td>0</td>\n",
       "      <td>1</td>\n",
       "      <td>2</td>\n",
       "      <td>0</td>\n",
       "      <td>6</td>\n",
       "      <td>0</td>\n",
       "      <td>1</td>\n",
       "      <td>0.22</td>\n",
       "      <td>0.2727</td>\n",
       "      <td>0.80</td>\n",
       "      <td>0.0</td>\n",
       "      <td>5</td>\n",
       "      <td>27</td>\n",
       "      <td>32</td>\n",
       "    </tr>\n",
       "  </tbody>\n",
       "</table>\n",
       "</div>"
      ],
      "text/plain": [
       "   instant      dteday  season  yr  mnth  hr  holiday  weekday  workingday  \\\n",
       "0        1  2011-01-01       1   0     1   0        0        6           0   \n",
       "1        2  2011-01-01       1   0     1   1        0        6           0   \n",
       "2        3  2011-01-01       1   0     1   2        0        6           0   \n",
       "\n",
       "   weathersit  temp   atemp   hum  windspeed  casual  registered  cnt  \n",
       "0           1  0.24  0.2879  0.81        0.0       3          13   16  \n",
       "1           1  0.22  0.2727  0.80        0.0       8          32   40  \n",
       "2           1  0.22  0.2727  0.80        0.0       5          27   32  "
      ]
     },
     "execution_count": 3,
     "metadata": {},
     "output_type": "execute_result"
    }
   ],
   "source": [
    "# hour.csv, 시간대별 데이터셋 가져오기\n",
    "bike_df = pd.read_csv('../../data/hour.csv')\n",
    "bike_df.head(3)"
   ]
  },
  {
   "cell_type": "code",
   "execution_count": 4,
   "metadata": {
    "ExecuteTime": {
     "end_time": "2020-08-10T17:07:57.726109Z",
     "start_time": "2020-08-10T17:07:57.721620Z"
    },
    "colab": {},
    "colab_type": "code",
    "id": "ouWZbfBVVY0C",
    "outputId": "036bd906-bcc9-421f-c25b-f823a762ffbd"
   },
   "outputs": [
    {
     "data": {
      "text/plain": [
       "Index(['instant', 'dteday', 'season', 'yr', 'mnth', 'hr', 'holiday', 'weekday',\n",
       "       'workingday', 'weathersit', 'temp', 'atemp', 'hum', 'windspeed',\n",
       "       'casual', 'registered', 'cnt'],\n",
       "      dtype='object')"
      ]
     },
     "execution_count": 4,
     "metadata": {},
     "output_type": "execute_result"
    }
   ],
   "source": [
    "bike_df.columns"
   ]
  },
  {
   "cell_type": "markdown",
   "metadata": {
    "colab_type": "text",
    "id": "cyxGmGdVVY0F"
   },
   "source": [
    "## EDA\n",
    "\n",
    "데이터를 파악하고 계획을 수립 하는 단계 "
   ]
  },
  {
   "cell_type": "code",
   "execution_count": 5,
   "metadata": {
    "ExecuteTime": {
     "end_time": "2020-08-10T17:07:59.408385Z",
     "start_time": "2020-08-10T17:07:59.404680Z"
    },
    "colab": {},
    "colab_type": "code",
    "id": "dAz8g5HiVY0F",
    "outputId": "69a5cc55-cc82-4bc0-ac0d-cb5901a68f4e"
   },
   "outputs": [
    {
     "data": {
      "text/plain": [
       "(17379, 17)"
      ]
     },
     "execution_count": 5,
     "metadata": {},
     "output_type": "execute_result"
    }
   ],
   "source": [
    "# 데이터의 크기 \n",
    "bike_df.shape"
   ]
  },
  {
   "cell_type": "code",
   "execution_count": 6,
   "metadata": {
    "ExecuteTime": {
     "end_time": "2020-08-10T17:08:00.164955Z",
     "start_time": "2020-08-10T17:08:00.086182Z"
    },
    "colab": {},
    "colab_type": "code",
    "id": "LsLr3we4VY0I",
    "outputId": "fb93a16e-2342-4b6c-efe1-77cc49e0e907"
   },
   "outputs": [
    {
     "data": {
      "text/html": [
       "<div>\n",
       "<style scoped>\n",
       "    .dataframe tbody tr th:only-of-type {\n",
       "        vertical-align: middle;\n",
       "    }\n",
       "\n",
       "    .dataframe tbody tr th {\n",
       "        vertical-align: top;\n",
       "    }\n",
       "\n",
       "    .dataframe thead th {\n",
       "        text-align: right;\n",
       "    }\n",
       "</style>\n",
       "<table border=\"1\" class=\"dataframe\">\n",
       "  <thead>\n",
       "    <tr style=\"text-align: right;\">\n",
       "      <th></th>\n",
       "      <th>instant</th>\n",
       "      <th>season</th>\n",
       "      <th>yr</th>\n",
       "      <th>mnth</th>\n",
       "      <th>hr</th>\n",
       "      <th>holiday</th>\n",
       "      <th>weekday</th>\n",
       "      <th>workingday</th>\n",
       "      <th>weathersit</th>\n",
       "      <th>temp</th>\n",
       "      <th>atemp</th>\n",
       "      <th>hum</th>\n",
       "      <th>windspeed</th>\n",
       "      <th>casual</th>\n",
       "      <th>registered</th>\n",
       "      <th>cnt</th>\n",
       "    </tr>\n",
       "  </thead>\n",
       "  <tbody>\n",
       "    <tr>\n",
       "      <th>count</th>\n",
       "      <td>17379.0000</td>\n",
       "      <td>17379.000000</td>\n",
       "      <td>17379.000000</td>\n",
       "      <td>17379.000000</td>\n",
       "      <td>17379.000000</td>\n",
       "      <td>17379.000000</td>\n",
       "      <td>17379.000000</td>\n",
       "      <td>17379.000000</td>\n",
       "      <td>17379.000000</td>\n",
       "      <td>17379.000000</td>\n",
       "      <td>17379.000000</td>\n",
       "      <td>17379.000000</td>\n",
       "      <td>17379.000000</td>\n",
       "      <td>17379.000000</td>\n",
       "      <td>17379.000000</td>\n",
       "      <td>17379.000000</td>\n",
       "    </tr>\n",
       "    <tr>\n",
       "      <th>mean</th>\n",
       "      <td>8690.0000</td>\n",
       "      <td>2.501640</td>\n",
       "      <td>0.502561</td>\n",
       "      <td>6.537775</td>\n",
       "      <td>11.546752</td>\n",
       "      <td>0.028770</td>\n",
       "      <td>3.003683</td>\n",
       "      <td>0.682721</td>\n",
       "      <td>1.425283</td>\n",
       "      <td>0.496987</td>\n",
       "      <td>0.475775</td>\n",
       "      <td>0.627229</td>\n",
       "      <td>0.190098</td>\n",
       "      <td>35.676218</td>\n",
       "      <td>153.786869</td>\n",
       "      <td>189.463088</td>\n",
       "    </tr>\n",
       "    <tr>\n",
       "      <th>std</th>\n",
       "      <td>5017.0295</td>\n",
       "      <td>1.106918</td>\n",
       "      <td>0.500008</td>\n",
       "      <td>3.438776</td>\n",
       "      <td>6.914405</td>\n",
       "      <td>0.167165</td>\n",
       "      <td>2.005771</td>\n",
       "      <td>0.465431</td>\n",
       "      <td>0.639357</td>\n",
       "      <td>0.192556</td>\n",
       "      <td>0.171850</td>\n",
       "      <td>0.192930</td>\n",
       "      <td>0.122340</td>\n",
       "      <td>49.305030</td>\n",
       "      <td>151.357286</td>\n",
       "      <td>181.387599</td>\n",
       "    </tr>\n",
       "    <tr>\n",
       "      <th>min</th>\n",
       "      <td>1.0000</td>\n",
       "      <td>1.000000</td>\n",
       "      <td>0.000000</td>\n",
       "      <td>1.000000</td>\n",
       "      <td>0.000000</td>\n",
       "      <td>0.000000</td>\n",
       "      <td>0.000000</td>\n",
       "      <td>0.000000</td>\n",
       "      <td>1.000000</td>\n",
       "      <td>0.020000</td>\n",
       "      <td>0.000000</td>\n",
       "      <td>0.000000</td>\n",
       "      <td>0.000000</td>\n",
       "      <td>0.000000</td>\n",
       "      <td>0.000000</td>\n",
       "      <td>1.000000</td>\n",
       "    </tr>\n",
       "    <tr>\n",
       "      <th>25%</th>\n",
       "      <td>4345.5000</td>\n",
       "      <td>2.000000</td>\n",
       "      <td>0.000000</td>\n",
       "      <td>4.000000</td>\n",
       "      <td>6.000000</td>\n",
       "      <td>0.000000</td>\n",
       "      <td>1.000000</td>\n",
       "      <td>0.000000</td>\n",
       "      <td>1.000000</td>\n",
       "      <td>0.340000</td>\n",
       "      <td>0.333300</td>\n",
       "      <td>0.480000</td>\n",
       "      <td>0.104500</td>\n",
       "      <td>4.000000</td>\n",
       "      <td>34.000000</td>\n",
       "      <td>40.000000</td>\n",
       "    </tr>\n",
       "    <tr>\n",
       "      <th>50%</th>\n",
       "      <td>8690.0000</td>\n",
       "      <td>3.000000</td>\n",
       "      <td>1.000000</td>\n",
       "      <td>7.000000</td>\n",
       "      <td>12.000000</td>\n",
       "      <td>0.000000</td>\n",
       "      <td>3.000000</td>\n",
       "      <td>1.000000</td>\n",
       "      <td>1.000000</td>\n",
       "      <td>0.500000</td>\n",
       "      <td>0.484800</td>\n",
       "      <td>0.630000</td>\n",
       "      <td>0.194000</td>\n",
       "      <td>17.000000</td>\n",
       "      <td>115.000000</td>\n",
       "      <td>142.000000</td>\n",
       "    </tr>\n",
       "    <tr>\n",
       "      <th>75%</th>\n",
       "      <td>13034.5000</td>\n",
       "      <td>3.000000</td>\n",
       "      <td>1.000000</td>\n",
       "      <td>10.000000</td>\n",
       "      <td>18.000000</td>\n",
       "      <td>0.000000</td>\n",
       "      <td>5.000000</td>\n",
       "      <td>1.000000</td>\n",
       "      <td>2.000000</td>\n",
       "      <td>0.660000</td>\n",
       "      <td>0.621200</td>\n",
       "      <td>0.780000</td>\n",
       "      <td>0.253700</td>\n",
       "      <td>48.000000</td>\n",
       "      <td>220.000000</td>\n",
       "      <td>281.000000</td>\n",
       "    </tr>\n",
       "    <tr>\n",
       "      <th>max</th>\n",
       "      <td>17379.0000</td>\n",
       "      <td>4.000000</td>\n",
       "      <td>1.000000</td>\n",
       "      <td>12.000000</td>\n",
       "      <td>23.000000</td>\n",
       "      <td>1.000000</td>\n",
       "      <td>6.000000</td>\n",
       "      <td>1.000000</td>\n",
       "      <td>4.000000</td>\n",
       "      <td>1.000000</td>\n",
       "      <td>1.000000</td>\n",
       "      <td>1.000000</td>\n",
       "      <td>0.850700</td>\n",
       "      <td>367.000000</td>\n",
       "      <td>886.000000</td>\n",
       "      <td>977.000000</td>\n",
       "    </tr>\n",
       "  </tbody>\n",
       "</table>\n",
       "</div>"
      ],
      "text/plain": [
       "          instant        season            yr          mnth            hr  \\\n",
       "count  17379.0000  17379.000000  17379.000000  17379.000000  17379.000000   \n",
       "mean    8690.0000      2.501640      0.502561      6.537775     11.546752   \n",
       "std     5017.0295      1.106918      0.500008      3.438776      6.914405   \n",
       "min        1.0000      1.000000      0.000000      1.000000      0.000000   \n",
       "25%     4345.5000      2.000000      0.000000      4.000000      6.000000   \n",
       "50%     8690.0000      3.000000      1.000000      7.000000     12.000000   \n",
       "75%    13034.5000      3.000000      1.000000     10.000000     18.000000   \n",
       "max    17379.0000      4.000000      1.000000     12.000000     23.000000   \n",
       "\n",
       "            holiday       weekday    workingday    weathersit          temp  \\\n",
       "count  17379.000000  17379.000000  17379.000000  17379.000000  17379.000000   \n",
       "mean       0.028770      3.003683      0.682721      1.425283      0.496987   \n",
       "std        0.167165      2.005771      0.465431      0.639357      0.192556   \n",
       "min        0.000000      0.000000      0.000000      1.000000      0.020000   \n",
       "25%        0.000000      1.000000      0.000000      1.000000      0.340000   \n",
       "50%        0.000000      3.000000      1.000000      1.000000      0.500000   \n",
       "75%        0.000000      5.000000      1.000000      2.000000      0.660000   \n",
       "max        1.000000      6.000000      1.000000      4.000000      1.000000   \n",
       "\n",
       "              atemp           hum     windspeed        casual    registered  \\\n",
       "count  17379.000000  17379.000000  17379.000000  17379.000000  17379.000000   \n",
       "mean       0.475775      0.627229      0.190098     35.676218    153.786869   \n",
       "std        0.171850      0.192930      0.122340     49.305030    151.357286   \n",
       "min        0.000000      0.000000      0.000000      0.000000      0.000000   \n",
       "25%        0.333300      0.480000      0.104500      4.000000     34.000000   \n",
       "50%        0.484800      0.630000      0.194000     17.000000    115.000000   \n",
       "75%        0.621200      0.780000      0.253700     48.000000    220.000000   \n",
       "max        1.000000      1.000000      0.850700    367.000000    886.000000   \n",
       "\n",
       "                cnt  \n",
       "count  17379.000000  \n",
       "mean     189.463088  \n",
       "std      181.387599  \n",
       "min        1.000000  \n",
       "25%       40.000000  \n",
       "50%      142.000000  \n",
       "75%      281.000000  \n",
       "max      977.000000  "
      ]
     },
     "execution_count": 6,
     "metadata": {},
     "output_type": "execute_result"
    }
   ],
   "source": [
    "# 데이터의 기초 통계를 살펴보기 \n",
    "bike_df.describe()"
   ]
  },
  {
   "cell_type": "code",
   "execution_count": 7,
   "metadata": {
    "ExecuteTime": {
     "end_time": "2020-08-10T17:08:01.205772Z",
     "start_time": "2020-08-10T17:08:00.746100Z"
    },
    "colab": {},
    "colab_type": "code",
    "id": "Eu4aMWjSVY0L",
    "outputId": "c174c899-1ff0-44ad-c6fd-e000abaa88fc"
   },
   "outputs": [
    {
     "data": {
      "text/plain": [
       "<matplotlib.axes._subplots.AxesSubplot at 0x11923bbe0>"
      ]
     },
     "execution_count": 7,
     "metadata": {},
     "output_type": "execute_result"
    },
    {
     "data": {
      "image/png": "[encoded data removed]",
      "text/plain": [
       "<Figure size 1800x720 with 2 Axes>"
      ]
     },
     "metadata": {
      "needs_background": "light"
     },
     "output_type": "display_data"
    }
   ],
   "source": [
    "# 결측치값 확인하기\n",
    "import missingno as msno \n",
    "msno.matrix(bike_df)\n",
    "# 결측치가 없다. 따로 전처리(결측치값에 대한) 가 필요없겠구나... "
   ]
  },
  {
   "cell_type": "code",
   "execution_count": 8,
   "metadata": {
    "ExecuteTime": {
     "end_time": "2020-08-10T17:08:02.628347Z",
     "start_time": "2020-08-10T17:08:02.613901Z"
    },
    "colab": {},
    "colab_type": "code",
    "id": "TrgAWpEdVY0O",
    "outputId": "77c824c8-fc12-47fa-83b0-5fd57846675b"
   },
   "outputs": [
    {
     "name": "stdout",
     "output_type": "stream",
     "text": [
      "<class 'pandas.core.frame.DataFrame'>\n",
      "RangeIndex: 17379 entries, 0 to 17378\n",
      "Data columns (total 17 columns):\n",
      " #   Column      Non-Null Count  Dtype  \n",
      "---  ------      --------------  -----  \n",
      " 0   instant     17379 non-null  int64  \n",
      " 1   dteday      17379 non-null  object \n",
      " 2   season      17379 non-null  int64  \n",
      " 3   yr          17379 non-null  int64  \n",
      " 4   mnth        17379 non-null  int64  \n",
      " 5   hr          17379 non-null  int64  \n",
      " 6   holiday     17379 non-null  int64  \n",
      " 7   weekday     17379 non-null  int64  \n",
      " 8   workingday  17379 non-null  int64  \n",
      " 9   weathersit  17379 non-null  int64  \n",
      " 10  temp        17379 non-null  float64\n",
      " 11  atemp       17379 non-null  float64\n",
      " 12  hum         17379 non-null  float64\n",
      " 13  windspeed   17379 non-null  float64\n",
      " 14  casual      17379 non-null  int64  \n",
      " 15  registered  17379 non-null  int64  \n",
      " 16  cnt         17379 non-null  int64  \n",
      "dtypes: float64(4), int64(12), object(1)\n",
      "memory usage: 2.3+ MB\n"
     ]
    }
   ],
   "source": [
    "# 데이터의 타입\n",
    "bike_df.info()"
   ]
  },
  {
   "cell_type": "code",
   "execution_count": 9,
   "metadata": {
    "ExecuteTime": {
     "end_time": "2020-08-10T17:08:03.207608Z",
     "start_time": "2020-08-10T17:08:03.201999Z"
    },
    "colab": {},
    "colab_type": "code",
    "id": "K4_4XGIpVY0R",
    "outputId": "042aacca-8081-4359-8ef2-c8f92864a7c5"
   },
   "outputs": [
    {
     "data": {
      "text/plain": [
       "0        2011-01-01\n",
       "1        2011-01-01\n",
       "2        2011-01-01\n",
       "3        2011-01-01\n",
       "4        2011-01-01\n",
       "            ...    \n",
       "17374    2012-12-31\n",
       "17375    2012-12-31\n",
       "17376    2012-12-31\n",
       "17377    2012-12-31\n",
       "17378    2012-12-31\n",
       "Name: dteday, Length: 17379, dtype: object"
      ]
     },
     "execution_count": 9,
     "metadata": {},
     "output_type": "execute_result"
    }
   ],
   "source": [
    "# 날짜 == object \n",
    "bike_df['dteday']"
   ]
  },
  {
   "cell_type": "code",
   "execution_count": 10,
   "metadata": {
    "ExecuteTime": {
     "end_time": "2020-08-10T17:08:05.882406Z",
     "start_time": "2020-08-10T17:08:03.718993Z"
    },
    "colab": {},
    "colab_type": "code",
    "id": "C0GY_rgSVY0T",
    "outputId": "e74dd7dd-cb47-4f41-91fe-2e4c3c1ad2ef"
   },
   "outputs": [
    {
     "data": {
      "text/plain": [
       "<seaborn.axisgrid.PairGrid at 0x11a22b630>"
      ]
     },
     "execution_count": 10,
     "metadata": {},
     "output_type": "execute_result"
    },
    {
     "data": {
      "image/png": "[encoded data removed]",
      "text/plain": [
       "<Figure size 540x540 with 12 Axes>"
      ]
     },
     "metadata": {
      "needs_background": "light"
     },
     "output_type": "display_data"
    }
   ],
   "source": [
    "# 데이터의 시각화 \n",
    "# seaborn as sns\n",
    "# pairplot: 변수간의 관계를 히스토그램과 산포도로 보여주는것 \n",
    "sns.pairplot(bike_df[['temp', 'atemp', 'hum']])\n",
    "# 데이터가 고르게 분포한다. "
   ]
  },
  {
   "cell_type": "code",
   "execution_count": 11,
   "metadata": {
    "ExecuteTime": {
     "end_time": "2020-08-10T17:08:05.903456Z",
     "start_time": "2020-08-10T17:08:05.898738Z"
    },
    "colab": {},
    "colab_type": "code",
    "id": "tZKxpKZDVY0V",
    "outputId": "4c6d5d20-f7db-4ba3-a33f-025916669795"
   },
   "outputs": [
    {
     "data": {
      "text/plain": [
       "Index(['instant', 'dteday', 'season', 'yr', 'mnth', 'hr', 'holiday', 'weekday',\n",
       "       'workingday', 'weathersit', 'temp', 'atemp', 'hum', 'windspeed',\n",
       "       'casual', 'registered', 'cnt'],\n",
       "      dtype='object')"
      ]
     },
     "execution_count": 11,
     "metadata": {},
     "output_type": "execute_result"
    }
   ],
   "source": [
    "bike_df.columns"
   ]
  },
  {
   "cell_type": "code",
   "execution_count": 12,
   "metadata": {
    "ExecuteTime": {
     "end_time": "2020-08-10T17:08:05.927676Z",
     "start_time": "2020-08-10T17:08:05.922748Z"
    },
    "colab": {},
    "colab_type": "code",
    "id": "tknXV4fJVY0X",
    "outputId": "e52a4e4c-4adf-4749-b254-236743d22dc8"
   },
   "outputs": [],
   "source": [
    "# instant , dteday 삭제 \n",
    "# 단순기록정보, 시간의 흐름은 아직은 넣을 수가 없기때문 \n",
    "bike_df = bike_df.drop(['instant', 'dteday'], axis=1 )"
   ]
  },
  {
   "cell_type": "markdown",
   "metadata": {
    "colab_type": "text",
    "id": "LuUS5m_mVY0a"
   },
   "source": [
    "## stats_model 에서 p-value의미 \n",
    "\n",
    "- P-value : 각 `독립변수`가 얼마나 `종속변수`에 영향을 미치는지 나타낸다. 정확히 말하면, 회귀분석에서 수행하는 테스트에서 P값은 독립변수의 계수가 0일 확률을 나타냅니다. 즉, P값이 `작을수록` 해당 독립변수가 모델에서 의미를 가지며, P값이 `높을수록` 해당 독립변수는 종속 변수에 영향을 끼치지 못하게 됩니다. 일반적으로, P값이 0.05 미만일 때 통계적으로 유의하다고 합니다. \n",
    "\n",
    "- 따라서,stats_model linear_regression 결과 0.05 보다 큰 것은 유의미 하지 않으므로 삭제\n",
    "- _sklearn 에서는 p-value 확인이 안되므로 stats_model을 사용함._"
   ]
  },
  {
   "cell_type": "code",
   "execution_count": 13,
   "metadata": {
    "ExecuteTime": {
     "end_time": "2020-08-10T17:08:08.446353Z",
     "start_time": "2020-08-10T17:08:08.412522Z"
    },
    "colab": {},
    "colab_type": "code",
    "id": "h6rXgRnrVY0a"
   },
   "outputs": [],
   "source": [
    "## 회귀분석을 하기 위해서 p-value 값을 확인 \n",
    "## p-value가 0.05 보다 큰 것은 유의미 하지 않기 때문에 삭제가 가능\n",
    "## 모델을 만들때 X 가 너무 많으면 모델성능이 저하된다. \n",
    "## X를 다 사용하지 않고 골라서 사용해야된다.\n",
    "## feature selection\n",
    "\n",
    "feature_names = bike_df.columns[:-3]\n",
    "target_names = 'cnt'\n",
    "\n",
    "# 독립변수 X 설정 \n",
    "features = bike_df[feature_names]\n",
    "\n",
    "# 종속변수 y 설정\n",
    "target = bike_df[target_names]\n",
    "\n",
    "# bias 추가  == states_model 을 통해 p-value 확인 할 것인데 \n",
    "# 정보를 담을 통? 이 필요 \n",
    "features_1 = sm.add_constant(features, has_constant='add')\n",
    "\n",
    "# 모델 만들기 # sm == stats_model \n",
    "multi_model = sm.OLS(target, features_1.astype(float))\n",
    "fitted_multi_model= multi_model.fit() # 학습"
   ]
  },
  {
   "cell_type": "code",
   "execution_count": 14,
   "metadata": {
    "ExecuteTime": {
     "end_time": "2020-08-10T17:08:08.889882Z",
     "start_time": "2020-08-10T17:08:08.864104Z"
    },
    "colab": {},
    "colab_type": "code",
    "id": "94jFLc4NVY0c",
    "outputId": "906f5628-468e-4003-b83b-9ba611d01dd0",
    "scrolled": true
   },
   "outputs": [
    {
     "data": {
      "text/html": [
       "<table class=\"simpletable\">\n",
       "<caption>OLS Regression Results</caption>\n",
       "<tr>\n",
       "  <th>Dep. Variable:</th>           <td>cnt</td>       <th>  R-squared:         </th>  <td>   0.389</td>  \n",
       "</tr>\n",
       "<tr>\n",
       "  <th>Model:</th>                   <td>OLS</td>       <th>  Adj. R-squared:    </th>  <td>   0.388</td>  \n",
       "</tr>\n",
       "<tr>\n",
       "  <th>Method:</th>             <td>Least Squares</td>  <th>  F-statistic:       </th>  <td>   920.8</td>  \n",
       "</tr>\n",
       "<tr>\n",
       "  <th>Date:</th>             <td>Tue, 11 Aug 2020</td> <th>  Prob (F-statistic):</th>   <td>  0.00</td>   \n",
       "</tr>\n",
       "<tr>\n",
       "  <th>Time:</th>                 <td>02:08:08</td>     <th>  Log-Likelihood:    </th> <td>-1.1076e+05</td>\n",
       "</tr>\n",
       "<tr>\n",
       "  <th>No. Observations:</th>      <td> 17379</td>      <th>  AIC:               </th>  <td>2.216e+05</td> \n",
       "</tr>\n",
       "<tr>\n",
       "  <th>Df Residuals:</th>          <td> 17366</td>      <th>  BIC:               </th>  <td>2.217e+05</td> \n",
       "</tr>\n",
       "<tr>\n",
       "  <th>Df Model:</th>              <td>    12</td>      <th>                     </th>      <td> </td>     \n",
       "</tr>\n",
       "<tr>\n",
       "  <th>Covariance Type:</th>      <td>nonrobust</td>    <th>                     </th>      <td> </td>     \n",
       "</tr>\n",
       "</table>\n",
       "<table class=\"simpletable\">\n",
       "<tr>\n",
       "       <td></td>         <th>coef</th>     <th>std err</th>      <th>t</th>      <th>P>|t|</th>  <th>[0.025</th>    <th>0.975]</th>  \n",
       "</tr>\n",
       "<tr>\n",
       "  <th>const</th>      <td>  -25.7573</td> <td>    7.057</td> <td>   -3.650</td> <td> 0.000</td> <td>  -39.590</td> <td>  -11.925</td>\n",
       "</tr>\n",
       "<tr>\n",
       "  <th>season</th>     <td>   19.8993</td> <td>    1.819</td> <td>   10.941</td> <td> 0.000</td> <td>   16.334</td> <td>   23.464</td>\n",
       "</tr>\n",
       "<tr>\n",
       "  <th>yr</th>         <td>   81.0872</td> <td>    2.164</td> <td>   37.463</td> <td> 0.000</td> <td>   76.845</td> <td>   85.330</td>\n",
       "</tr>\n",
       "<tr>\n",
       "  <th>mnth</th>       <td>   -0.0086</td> <td>    0.567</td> <td>   -0.015</td> <td> 0.988</td> <td>   -1.120</td> <td>    1.103</td>\n",
       "</tr>\n",
       "<tr>\n",
       "  <th>hr</th>         <td>    7.6706</td> <td>    0.165</td> <td>   46.513</td> <td> 0.000</td> <td>    7.347</td> <td>    7.994</td>\n",
       "</tr>\n",
       "<tr>\n",
       "  <th>holiday</th>    <td>  -21.8792</td> <td>    6.694</td> <td>   -3.268</td> <td> 0.001</td> <td>  -35.001</td> <td>   -8.758</td>\n",
       "</tr>\n",
       "<tr>\n",
       "  <th>weekday</th>    <td>    1.8784</td> <td>    0.541</td> <td>    3.474</td> <td> 0.001</td> <td>    0.819</td> <td>    2.938</td>\n",
       "</tr>\n",
       "<tr>\n",
       "  <th>workingday</th> <td>    3.9392</td> <td>    2.396</td> <td>    1.644</td> <td> 0.100</td> <td>   -0.756</td> <td>    8.635</td>\n",
       "</tr>\n",
       "<tr>\n",
       "  <th>weathersit</th> <td>   -3.4321</td> <td>    1.905</td> <td>   -1.802</td> <td> 0.072</td> <td>   -7.165</td> <td>    0.301</td>\n",
       "</tr>\n",
       "<tr>\n",
       "  <th>temp</th>       <td>   78.1498</td> <td>   36.957</td> <td>    2.115</td> <td> 0.034</td> <td>    5.710</td> <td>  150.590</td>\n",
       "</tr>\n",
       "<tr>\n",
       "  <th>atemp</th>      <td>  233.1571</td> <td>   41.517</td> <td>    5.616</td> <td> 0.000</td> <td>  151.779</td> <td>  314.535</td>\n",
       "</tr>\n",
       "<tr>\n",
       "  <th>hum</th>        <td> -198.1847</td> <td>    6.889</td> <td>  -28.770</td> <td> 0.000</td> <td> -211.687</td> <td> -184.682</td>\n",
       "</tr>\n",
       "<tr>\n",
       "  <th>windspeed</th>  <td>   41.5652</td> <td>    9.628</td> <td>    4.317</td> <td> 0.000</td> <td>   22.692</td> <td>   60.438</td>\n",
       "</tr>\n",
       "</table>\n",
       "<table class=\"simpletable\">\n",
       "<tr>\n",
       "  <th>Omnibus:</th>       <td>3417.855</td> <th>  Durbin-Watson:     </th> <td>   0.553</td>\n",
       "</tr>\n",
       "<tr>\n",
       "  <th>Prob(Omnibus):</th>  <td> 0.000</td>  <th>  Jarque-Bera (JB):  </th> <td>6659.872</td>\n",
       "</tr>\n",
       "<tr>\n",
       "  <th>Skew:</th>           <td> 1.198</td>  <th>  Prob(JB):          </th> <td>    0.00</td>\n",
       "</tr>\n",
       "<tr>\n",
       "  <th>Kurtosis:</th>       <td> 4.859</td>  <th>  Cond. No.          </th> <td>    787.</td>\n",
       "</tr>\n",
       "</table><br/><br/>Warnings:<br/>[1] Standard Errors assume that the covariance matrix of the errors is correctly specified."
      ],
      "text/plain": [
       "<class 'statsmodels.iolib.summary.Summary'>\n",
       "\"\"\"\n",
       "                            OLS Regression Results                            \n",
       "==============================================================================\n",
       "Dep. Variable:                    cnt   R-squared:                       0.389\n",
       "Model:                            OLS   Adj. R-squared:                  0.388\n",
       "Method:                 Least Squares   F-statistic:                     920.8\n",
       "Date:                Tue, 11 Aug 2020   Prob (F-statistic):               0.00\n",
       "Time:                        02:08:08   Log-Likelihood:            -1.1076e+05\n",
       "No. Observations:               17379   AIC:                         2.216e+05\n",
       "Df Residuals:                   17366   BIC:                         2.217e+05\n",
       "Df Model:                          12                                         \n",
       "Covariance Type:            nonrobust                                         \n",
       "==============================================================================\n",
       "                 coef    std err          t      P>|t|      [0.025      0.975]\n",
       "------------------------------------------------------------------------------\n",
       "const        -25.7573      7.057     -3.650      0.000     -39.590     -11.925\n",
       "season        19.8993      1.819     10.941      0.000      16.334      23.464\n",
       "yr            81.0872      2.164     37.463      0.000      76.845      85.330\n",
       "mnth          -0.0086      0.567     -0.015      0.988      -1.120       1.103\n",
       "hr             7.6706      0.165     46.513      0.000       7.347       7.994\n",
       "holiday      -21.8792      6.694     -3.268      0.001     -35.001      -8.758\n",
       "weekday        1.8784      0.541      3.474      0.001       0.819       2.938\n",
       "workingday     3.9392      2.396      1.644      0.100      -0.756       8.635\n",
       "weathersit    -3.4321      1.905     -1.802      0.072      -7.165       0.301\n",
       "temp          78.1498     36.957      2.115      0.034       5.710     150.590\n",
       "atemp        233.1571     41.517      5.616      0.000     151.779     314.535\n",
       "hum         -198.1847      6.889    -28.770      0.000    -211.687    -184.682\n",
       "windspeed     41.5652      9.628      4.317      0.000      22.692      60.438\n",
       "==============================================================================\n",
       "Omnibus:                     3417.855   Durbin-Watson:                   0.553\n",
       "Prob(Omnibus):                  0.000   Jarque-Bera (JB):             6659.872\n",
       "Skew:                           1.198   Prob(JB):                         0.00\n",
       "Kurtosis:                       4.859   Cond. No.                         787.\n",
       "==============================================================================\n",
       "\n",
       "Warnings:\n",
       "[1] Standard Errors assume that the covariance matrix of the errors is correctly specified.\n",
       "\"\"\""
      ]
     },
     "execution_count": 14,
     "metadata": {},
     "output_type": "execute_result"
    }
   ],
   "source": [
    "# 결과 보기\n",
    "fitted_multi_model.summary()"
   ]
  },
  {
   "cell_type": "code",
   "execution_count": null,
   "metadata": {
    "ExecuteTime": {
     "end_time": "2020-07-20T01:20:08.752210Z",
     "start_time": "2020-07-20T01:20:08.745210Z"
    },
    "colab": {},
    "colab_type": "code",
    "id": "sovzy0feVY0e"
   },
   "outputs": [],
   "source": [
    "# 'mnth', workingday 삭제 since, p-value 가 크므로 \n",
    "bike_df = bike_df.drop(['mnth','workingday'], axis=1 )"
   ]
  },
  {
   "cell_type": "code",
   "execution_count": null,
   "metadata": {
    "ExecuteTime": {
     "end_time": "2020-07-20T01:21:23.782669Z",
     "start_time": "2020-07-20T01:21:23.776669Z"
    },
    "colab": {},
    "colab_type": "code",
    "id": "z6OzmUEBVY0g"
   },
   "outputs": [],
   "source": [
    "# casual registered 필요가 없으므로 삭제 \n",
    "bike_df = bike_df.drop(['casual', 'registered'],axis=1)"
   ]
  },
  {
   "cell_type": "code",
   "execution_count": null,
   "metadata": {
    "ExecuteTime": {
     "end_time": "2020-07-20T01:21:29.077670Z",
     "start_time": "2020-07-20T01:21:29.072669Z"
    },
    "colab": {},
    "colab_type": "code",
    "id": "H3ZT51k2VY0j",
    "outputId": "3e2a948e-e945-4104-9975-855254931658",
    "scrolled": true
   },
   "outputs": [
    {
     "data": {
      "text/plain": [
       "Index(['season', 'yr', 'hr', 'holiday', 'weekday', 'weathersit', 'temp',\n",
       "       'atemp', 'hum', 'windspeed', 'cnt'],\n",
       "      dtype='object')"
      ]
     },
     "execution_count": 22,
     "metadata": {
      "tags": []
     },
     "output_type": "execute_result"
    }
   ],
   "source": [
    "bike_df.columns"
   ]
  },
  {
   "cell_type": "code",
   "execution_count": null,
   "metadata": {
    "ExecuteTime": {
     "end_time": "2020-07-20T01:22:12.776670Z",
     "start_time": "2020-07-20T01:22:12.760670Z"
    },
    "colab": {},
    "colab_type": "code",
    "id": "bpYdaKcqVY0l",
    "outputId": "be849adf-d285-43f0-cff7-4a116410bb78"
   },
   "outputs": [
    {
     "data": {
      "text/html": [
       "<div>\n",
       "<style scoped>\n",
       "    .dataframe tbody tr th:only-of-type {\n",
       "        vertical-align: middle;\n",
       "    }\n",
       "\n",
       "    .dataframe tbody tr th {\n",
       "        vertical-align: top;\n",
       "    }\n",
       "\n",
       "    .dataframe thead th {\n",
       "        text-align: right;\n",
       "    }\n",
       "</style>\n",
       "<table border=\"1\" class=\"dataframe\">\n",
       "  <thead>\n",
       "    <tr style=\"text-align: right;\">\n",
       "      <th></th>\n",
       "      <th>season</th>\n",
       "      <th>yr</th>\n",
       "      <th>hr</th>\n",
       "      <th>holiday</th>\n",
       "      <th>weekday</th>\n",
       "      <th>weathersit</th>\n",
       "      <th>temp</th>\n",
       "      <th>atemp</th>\n",
       "      <th>hum</th>\n",
       "      <th>windspeed</th>\n",
       "      <th>cnt</th>\n",
       "    </tr>\n",
       "  </thead>\n",
       "  <tbody>\n",
       "    <tr>\n",
       "      <th>0</th>\n",
       "      <td>1</td>\n",
       "      <td>0</td>\n",
       "      <td>0</td>\n",
       "      <td>0</td>\n",
       "      <td>6</td>\n",
       "      <td>1</td>\n",
       "      <td>0.24</td>\n",
       "      <td>0.2879</td>\n",
       "      <td>0.81</td>\n",
       "      <td>0.0</td>\n",
       "      <td>16</td>\n",
       "    </tr>\n",
       "    <tr>\n",
       "      <th>1</th>\n",
       "      <td>1</td>\n",
       "      <td>0</td>\n",
       "      <td>1</td>\n",
       "      <td>0</td>\n",
       "      <td>6</td>\n",
       "      <td>1</td>\n",
       "      <td>0.22</td>\n",
       "      <td>0.2727</td>\n",
       "      <td>0.80</td>\n",
       "      <td>0.0</td>\n",
       "      <td>40</td>\n",
       "    </tr>\n",
       "    <tr>\n",
       "      <th>2</th>\n",
       "      <td>1</td>\n",
       "      <td>0</td>\n",
       "      <td>2</td>\n",
       "      <td>0</td>\n",
       "      <td>6</td>\n",
       "      <td>1</td>\n",
       "      <td>0.22</td>\n",
       "      <td>0.2727</td>\n",
       "      <td>0.80</td>\n",
       "      <td>0.0</td>\n",
       "      <td>32</td>\n",
       "    </tr>\n",
       "  </tbody>\n",
       "</table>\n",
       "</div>"
      ],
      "text/plain": [
       "   season  yr  hr  holiday  weekday  weathersit  temp   atemp   hum  \\\n",
       "0       1   0   0        0        6           1  0.24  0.2879  0.81   \n",
       "1       1   0   1        0        6           1  0.22  0.2727  0.80   \n",
       "2       1   0   2        0        6           1  0.22  0.2727  0.80   \n",
       "\n",
       "   windspeed  cnt  \n",
       "0        0.0   16  \n",
       "1        0.0   40  \n",
       "2        0.0   32  "
      ]
     },
     "execution_count": 23,
     "metadata": {
      "tags": []
     },
     "output_type": "execute_result"
    }
   ],
   "source": [
    "bike_df.head(3)"
   ]
  },
  {
   "cell_type": "markdown",
   "metadata": {
    "colab_type": "text",
    "id": "CdrM_asRVY0o"
   },
   "source": [
    "## 범주형 데이터를 수치형 데이터로 바꾸기\n",
    "\n",
    "- ex1) season: 1 이 숫자 1이 아니라 봄이라는 의미를 갖도록 하자 \n",
    "- ex2) weathersit: 1이 맑거나 조금 흐림"
   ]
  },
  {
   "cell_type": "markdown",
   "metadata": {
    "colab_type": "text",
    "id": "cEve33LpVY0o"
   },
   "source": [
    "## 여기서 잠깐! 범주형을 이산형으로 바꾸는 3가지 방법 \n",
    "\n",
    "- apply.map()\n",
    "- sklearn preprocessing\n",
    "- `One-hot encoding (== get_dummy)` \n",
    "\n",
    "\n",
    "**One hot Vector**\n",
    "\n",
    "아래 그림과 같은 단어 집합 (여기서는 자연어로 쓰여져 있는 범주 또는 카테고리 이름)을 One-hot encoding으로 기계가 이해할 수 있는 언어로 만들기 위해 하나의 Feature 값을 나타내는 Vector로 만든 것.\n",
    "\n",
    "여기서 해당 Vector는 오로지 0과 1로만 표현이 된다. \n",
    "주로 0은 '없음' '해당하지 않음' 'False' 등의 상태를 나타내며, 1은 '있음' '해당함' 'True' 등의 상태를 나타낸다. \n",
    "\n",
    "<img src = \"https://miro.medium.com/max/2736/0*T5jaa2othYfXZX9W.\">\n",
    "\n",
    "one-hot encoding 방법 \n",
    "```python \n",
    "# one-hot encoding \n",
    "import pandas as pd \n",
    "make_dummy = pd.get_dummies()\n",
    "\n",
    "```\n",
    "\n"
   ]
  },
  {
   "cell_type": "markdown",
   "metadata": {
    "colab_type": "text",
    "id": "T8wWW2SPVY0o"
   },
   "source": [
    "---save_point"
   ]
  },
  {
   "cell_type": "code",
   "execution_count": null,
   "metadata": {
    "ExecuteTime": {
     "end_time": "2020-07-20T01:31:12.997192Z",
     "start_time": "2020-07-20T01:31:12.993192Z"
    },
    "colab": {},
    "colab_type": "code",
    "id": "rahjIXI9VY0p"
   },
   "outputs": [],
   "source": [
    "# copy 하는 이유는 원래의 데이터를 지키기 위해 \n",
    "# feature selection 끝났는데 다시하기 싫어서... \n",
    "bike_df_dummy = bike_df.copy()"
   ]
  },
  {
   "cell_type": "code",
   "execution_count": null,
   "metadata": {
    "ExecuteTime": {
     "end_time": "2020-07-20T01:33:07.869613Z",
     "start_time": "2020-07-20T01:33:07.864614Z"
    },
    "colab": {},
    "colab_type": "code",
    "id": "OMkX4VkoVY0r"
   },
   "outputs": [],
   "source": [
    "# one-hot encoding 할 컬럼 \n",
    "category_list = ['season','hr','weekday','weathersit']"
   ]
  },
  {
   "cell_type": "code",
   "execution_count": null,
   "metadata": {
    "ExecuteTime": {
     "end_time": "2020-07-20T01:35:09.055013Z",
     "start_time": "2020-07-20T01:35:09.027014Z"
    },
    "colab": {},
    "colab_type": "code",
    "id": "73rH8JjHVY0s"
   },
   "outputs": [],
   "source": [
    "# one-hot encoding \n",
    "import pandas as pd \n",
    "# for 문을 사용하여 하나씩 바꾸기 \n",
    "for category in  category_list:\n",
    "    make_dummy = pd.get_dummies(bike_df_dummy[category],\n",
    "                               prefix= category,\n",
    "                               drop_first=False) # 컬럼 하나 지우기 \n",
    "    # 변환 결과와 원래 데이터 결합 \n",
    "    bike_df_dummy = pd.concat([bike_df_dummy,make_dummy],axis=1)"
   ]
  },
  {
   "cell_type": "code",
   "execution_count": null,
   "metadata": {
    "ExecuteTime": {
     "end_time": "2020-07-20T01:35:27.321098Z",
     "start_time": "2020-07-20T01:35:27.316097Z"
    },
    "colab": {},
    "colab_type": "code",
    "id": "OEw1ehmSVY0u",
    "outputId": "8676c30a-2c92-4d35-8f82-48106a21214f"
   },
   "outputs": [
    {
     "data": {
      "text/plain": [
       "Index(['season', 'yr', 'hr', 'holiday', 'weekday', 'weathersit', 'temp',\n",
       "       'atemp', 'hum', 'windspeed', 'cnt', 'season_1', 'season_2', 'season_3',\n",
       "       'season_4', 'hr_0', 'hr_1', 'hr_2', 'hr_3', 'hr_4', 'hr_5', 'hr_6',\n",
       "       'hr_7', 'hr_8', 'hr_9', 'hr_10', 'hr_11', 'hr_12', 'hr_13', 'hr_14',\n",
       "       'hr_15', 'hr_16', 'hr_17', 'hr_18', 'hr_19', 'hr_20', 'hr_21', 'hr_22',\n",
       "       'hr_23', 'weekday_0', 'weekday_1', 'weekday_2', 'weekday_3',\n",
       "       'weekday_4', 'weekday_5', 'weekday_6', 'weathersit_1', 'weathersit_2',\n",
       "       'weathersit_3', 'weathersit_4'],\n",
       "      dtype='object')"
      ]
     },
     "execution_count": 33,
     "metadata": {
      "tags": []
     },
     "output_type": "execute_result"
    }
   ],
   "source": [
    "bike_df_dummy.columns"
   ]
  },
  {
   "cell_type": "code",
   "execution_count": null,
   "metadata": {
    "ExecuteTime": {
     "end_time": "2020-07-20T01:39:34.756001Z",
     "start_time": "2020-07-20T01:39:34.753001Z"
    },
    "colab": {},
    "colab_type": "code",
    "id": "Oj9fy4ElVY0w"
   },
   "outputs": [],
   "source": [
    "# 전처리 끝 "
   ]
  },
  {
   "cell_type": "markdown",
   "metadata": {
    "colab_type": "text",
    "id": "2XwDze37VY0y"
   },
   "source": [
    "## 모델학습 \n",
    "\n",
    "1. 모델1: one_hot encoding 미실시 \n",
    "\n",
    "2. 모델2: one_hot encoding 실시"
   ]
  },
  {
   "cell_type": "code",
   "execution_count": null,
   "metadata": {
    "ExecuteTime": {
     "end_time": "2020-07-20T02:12:37.653881Z",
     "start_time": "2020-07-20T02:12:37.642882Z"
    },
    "colab": {},
    "colab_type": "code",
    "id": "nGAG5OJaVY0y"
   },
   "outputs": [],
   "source": [
    "# X, y 설정 \n",
    "X_1 = bike_df.drop('cnt',axis=1)\n",
    "y_1 = bike_df['cnt']\n",
    "\n",
    "X_2 = bike_df_dummy.drop('cnt',axis=1)\n",
    "y_2 = bike_df_dummy['cnt']"
   ]
  },
  {
   "cell_type": "code",
   "execution_count": null,
   "metadata": {
    "ExecuteTime": {
     "end_time": "2020-07-20T02:14:11.102847Z",
     "start_time": "2020-07-20T02:14:11.081846Z"
    },
    "colab": {},
    "colab_type": "code",
    "id": "glFstQ4CVY01"
   },
   "outputs": [],
   "source": [
    "# train_test split\n",
    "from sklearn.model_selection import train_test_split\n",
    "# one_hot encoding 미실시 \n",
    "X_train, X_test, y_train, y_test = train_test_split(X_1, y_1, random_state=42)\n",
    "\n",
    "# one_hot encoding 실시 \n",
    "X_train_one, X_test_one, y_train_one, y_test_one = \\\n",
    "train_test_split(X_2, y_2, random_state=42)"
   ]
  },
  {
   "cell_type": "code",
   "execution_count": null,
   "metadata": {
    "ExecuteTime": {
     "end_time": "2020-07-20T02:16:24.149482Z",
     "start_time": "2020-07-20T02:16:24.075418Z"
    },
    "colab": {},
    "colab_type": "code",
    "id": "u-uCczTsVY03"
   },
   "outputs": [],
   "source": [
    "from sklearn.linear_model import LinearRegression\n",
    "\n",
    "# 모델(1, 2) 정의 \n",
    "model_1 = LinearRegression()\n",
    "model_2 = LinearRegression()\n",
    "\n",
    "# 모델을 학습 fitting \n",
    "model_1.fit(X_train, y_train)\n",
    "model_2.fit(X_train_one, y_train_one)\n",
    "\n",
    "# 결과 예측하기\n",
    "y_pred_1 = model_1.predict(X_test)\n",
    "y_pred_2 = model_2.predict(X_test_one)"
   ]
  },
  {
   "cell_type": "code",
   "execution_count": null,
   "metadata": {
    "ExecuteTime": {
     "end_time": "2020-07-20T02:21:34.870520Z",
     "start_time": "2020-07-20T02:21:34.866520Z"
    },
    "colab": {},
    "colab_type": "code",
    "id": "NWB50Da5VY05"
   },
   "outputs": [],
   "source": [
    "# 회귀(regression) 평가 지표 r2, mse, mae  \n",
    "from sklearn.metrics import r2_score, mean_squared_error, mean_absolute_error"
   ]
  },
  {
   "cell_type": "code",
   "execution_count": null,
   "metadata": {
    "ExecuteTime": {
     "end_time": "2020-07-20T02:25:07.448883Z",
     "start_time": "2020-07-20T02:25:07.434882Z"
    },
    "colab": {},
    "colab_type": "code",
    "id": "k4kMYWilVY07",
    "outputId": "600dd30d-9f68-4a2a-a0dd-b089d35bcc3d"
   },
   "outputs": [
    {
     "name": "stdout",
     "output_type": "stream",
     "text": [
      "Onehotencoding 미실시\n",
      "r2_score: 0.3830049674171372\n",
      "MAE_score:105.42740035363444\n",
      "MSE_score:19841.518503968007\n",
      "RMSE_score:140.8599251170041\n",
      "--------------------------------------------------\n",
      "Onehotencoding 실시\n",
      "r2_score: 0.6801989341787025\n",
      "MAE_score:74.47645192031071\n",
      "MSE_score:10284.262319777723\n",
      "RMSE_score:101.41135202617961\n"
     ]
    }
   ],
   "source": [
    "import numpy as np\n",
    "print('Onehotencoding 미실시')\n",
    "print(f'r2_score: { r2_score(y_test, y_pred_1)}')\n",
    "print(f'MAE_score:{mean_absolute_error(y_test, y_pred_1)}') \n",
    "print(f'MSE_score:{mean_squared_error(y_test, y_pred_1)}')  \n",
    "print(f'RMSE_score:{np.sqrt(mean_squared_error(y_test, y_pred_1))}') \n",
    "print('-'*50)\n",
    "print('Onehotencoding 실시')\n",
    "print(f'r2_score: { r2_score(y_test_one, y_pred_2)}')\n",
    "print(f'MAE_score:{mean_absolute_error(y_test_one, y_pred_2)}') \n",
    "print(f'MSE_score:{mean_squared_error(y_test_one, y_pred_2)}')  \n",
    "print(f'RMSE_score:{np.sqrt(mean_squared_error(y_test_one, y_pred_2))}') \n",
    "# 0<= r2 score <=1  1에 가까울수록 좋은것 \n",
    "# MAE, MSE, RMSE 0에 가까울수록 좋은 것 \n",
    "# 원핫 인코딩이 필수다 . "
   ]
  }
 ],
 "metadata": {
  "colab": {
   "collapsed_sections": [],
   "name": "자전거_수요_예측_실습_모델학습까지.ipynb",
   "provenance": []
  },
  "hide_input": false,
  "kernelspec": {
   "display_name": "Python 3",
   "language": "python",
   "name": "python3"
  },
  "language_info": {
   "codemirror_mode": {
    "name": "ipython",
    "version": 3
   },
   "file_extension": ".py",
   "mimetype": "text/x-python",
   "name": "python",
   "nbconvert_exporter": "python",
   "pygments_lexer": "ipython3",
   "version": "3.7.0"
  },
  "toc": {
   "base_numbering": 1,
   "nav_menu": {},
   "number_sections": true,
   "sideBar": true,
   "skip_h1_title": false,
   "title_cell": "Table of Contents",
   "title_sidebar": "Contents",
   "toc_cell": false,
   "toc_position": {},
   "toc_section_display": true,
   "toc_window_display": false
  },
  "varInspector": {
   "cols": {
    "lenName": 16,
    "lenType": 16,
    "lenVar": 40
   },
   "kernels_config": {
    "python": {
     "delete_cmd_postfix": "",
     "delete_cmd_prefix": "del ",
     "library": "var_list.py",
     "varRefreshCmd": "print(var_dic_list())"
    },
    "r": {
     "delete_cmd_postfix": ") ",
     "delete_cmd_prefix": "rm(",
     "library": "var_list.r",
     "varRefreshCmd": "cat(var_dic_list()) "
    }
   },
   "types_to_exclude": [
    "module",
    "function",
    "builtin_function_or_method",
    "instance",
    "_Feature"
   ],
   "window_display": false
  }
 },
 "nbformat": 4,
 "nbformat_minor": 1
}

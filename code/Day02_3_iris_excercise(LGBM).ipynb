{
 "cells": [
  {
   "cell_type": "markdown",
   "metadata": {
    "colab_type": "text",
    "id": "Uus4EHacNGf3"
   },
   "source": [
    "# 붓꽃(Iris) 품종 데이터 예측하기\n",
    "\n"
   ]
  },
  {
   "cell_type": "markdown",
   "metadata": {
    "colab_type": "text",
    "id": "0rKYSe3lNGf4",
    "toc": true
   },
   "source": [
    "<h1>Table of Contents<span class=\"tocSkip\"></span></h1>\n",
    "<div class=\"toc\"><ul class=\"toc-item\"><li><span><a href=\"#DataFrame\" data-toc-modified-id=\"DataFrame-1\"><span class=\"toc-item-num\">1&nbsp;&nbsp;</span>DataFrame</a></span></li><li><span><a href=\"#Train/Test-데이터-나누어-학습하기\" data-toc-modified-id=\"Train/Test-데이터-나누어-학습하기-2\"><span class=\"toc-item-num\">2&nbsp;&nbsp;</span>Train/Test 데이터 나누어 학습하기</a></span></li><li><span><a href=\"#데이터-학습-및-평가하기\" data-toc-modified-id=\"데이터-학습-및-평가하기-3\"><span class=\"toc-item-num\">3&nbsp;&nbsp;</span>데이터 학습 및 평가하기</a></span></li><li><span><a href=\"#교차-검증-(Cross-Validation)\" data-toc-modified-id=\"교차-검증-(Cross-Validation)-4\"><span class=\"toc-item-num\">4&nbsp;&nbsp;</span>교차 검증 (Cross Validation)</a></span><ul class=\"toc-item\"><li><span><a href=\"#교차검증-종류\" data-toc-modified-id=\"교차검증-종류-4.1\"><span class=\"toc-item-num\">4.1&nbsp;&nbsp;</span>교차검증 종류</a></span></li><li><span><a href=\"#Kfold\" data-toc-modified-id=\"Kfold-4.2\"><span class=\"toc-item-num\">4.2&nbsp;&nbsp;</span>Kfold</a></span></li><li><span><a href=\"#StratifiedKFold\" data-toc-modified-id=\"StratifiedKFold-4.3\"><span class=\"toc-item-num\">4.3&nbsp;&nbsp;</span>StratifiedKFold</a></span></li><li><span><a href=\"#LeaveOnOut\" data-toc-modified-id=\"LeaveOnOut-4.4\"><span class=\"toc-item-num\">4.4&nbsp;&nbsp;</span>LeaveOnOut</a></span></li></ul></li></ul></div>"
   ]
  },
  {
   "cell_type": "code",
   "execution_count": 6,
   "metadata": {
    "ExecuteTime": {
     "end_time": "2020-08-06T15:59:06.446754Z",
     "start_time": "2020-08-06T15:59:06.443123Z"
    },
    "colab": {},
    "colab_type": "code",
    "id": "UgZYk_M4NGf5"
   },
   "outputs": [],
   "source": [
    "import numpy as np\n",
    "import pandas as pd\n",
    "import matplotlib as mpl\n",
    "import matplotlib.pyplot as plt\n",
    "\n",
    "\n",
    "from sklearn import * \n",
    "from sklearn.datasets import load_iris\n",
    "from sklearn.tree import DecisionTreeClassifier\n",
    "from sklearn.model_selection import train_test_split\n",
    "from sklearn.metrics import accuracy_score"
   ]
  },
  {
   "cell_type": "markdown",
   "metadata": {
    "colab_type": "text",
    "id": "y9Y-sah1NGgQ"
   },
   "source": [
    "## DataFrame"
   ]
  },
  {
   "cell_type": "code",
   "execution_count": 16,
   "metadata": {
    "ExecuteTime": {
     "end_time": "2020-08-06T15:59:28.851463Z",
     "start_time": "2020-08-06T15:59:28.834600Z"
    },
    "colab": {},
    "colab_type": "code",
    "id": "HHF5OINpNGgQ",
    "outputId": "2f802e0a-1d6b-41bc-caeb-94f3544a616b"
   },
   "outputs": [
    {
     "data": {
      "text/html": [
       "<div>\n",
       "<style scoped>\n",
       "    .dataframe tbody tr th:only-of-type {\n",
       "        vertical-align: middle;\n",
       "    }\n",
       "\n",
       "    .dataframe tbody tr th {\n",
       "        vertical-align: top;\n",
       "    }\n",
       "\n",
       "    .dataframe thead th {\n",
       "        text-align: right;\n",
       "    }\n",
       "</style>\n",
       "<table border=\"1\" class=\"dataframe\">\n",
       "  <thead>\n",
       "    <tr style=\"text-align: right;\">\n",
       "      <th></th>\n",
       "      <th>sepal length (cm)</th>\n",
       "      <th>sepal width (cm)</th>\n",
       "      <th>petal length (cm)</th>\n",
       "      <th>petal width (cm)</th>\n",
       "      <th>label</th>\n",
       "    </tr>\n",
       "  </thead>\n",
       "  <tbody>\n",
       "    <tr>\n",
       "      <th>0</th>\n",
       "      <td>5.1</td>\n",
       "      <td>3.5</td>\n",
       "      <td>1.4</td>\n",
       "      <td>0.2</td>\n",
       "      <td>0</td>\n",
       "    </tr>\n",
       "    <tr>\n",
       "      <th>1</th>\n",
       "      <td>4.9</td>\n",
       "      <td>3.0</td>\n",
       "      <td>1.4</td>\n",
       "      <td>0.2</td>\n",
       "      <td>0</td>\n",
       "    </tr>\n",
       "    <tr>\n",
       "      <th>2</th>\n",
       "      <td>4.7</td>\n",
       "      <td>3.2</td>\n",
       "      <td>1.3</td>\n",
       "      <td>0.2</td>\n",
       "      <td>0</td>\n",
       "    </tr>\n",
       "    <tr>\n",
       "      <th>3</th>\n",
       "      <td>4.6</td>\n",
       "      <td>3.1</td>\n",
       "      <td>1.5</td>\n",
       "      <td>0.2</td>\n",
       "      <td>0</td>\n",
       "    </tr>\n",
       "    <tr>\n",
       "      <th>4</th>\n",
       "      <td>5.0</td>\n",
       "      <td>3.6</td>\n",
       "      <td>1.4</td>\n",
       "      <td>0.2</td>\n",
       "      <td>0</td>\n",
       "    </tr>\n",
       "    <tr>\n",
       "      <th>...</th>\n",
       "      <td>...</td>\n",
       "      <td>...</td>\n",
       "      <td>...</td>\n",
       "      <td>...</td>\n",
       "      <td>...</td>\n",
       "    </tr>\n",
       "    <tr>\n",
       "      <th>145</th>\n",
       "      <td>6.7</td>\n",
       "      <td>3.0</td>\n",
       "      <td>5.2</td>\n",
       "      <td>2.3</td>\n",
       "      <td>2</td>\n",
       "    </tr>\n",
       "    <tr>\n",
       "      <th>146</th>\n",
       "      <td>6.3</td>\n",
       "      <td>2.5</td>\n",
       "      <td>5.0</td>\n",
       "      <td>1.9</td>\n",
       "      <td>2</td>\n",
       "    </tr>\n",
       "    <tr>\n",
       "      <th>147</th>\n",
       "      <td>6.5</td>\n",
       "      <td>3.0</td>\n",
       "      <td>5.2</td>\n",
       "      <td>2.0</td>\n",
       "      <td>2</td>\n",
       "    </tr>\n",
       "    <tr>\n",
       "      <th>148</th>\n",
       "      <td>6.2</td>\n",
       "      <td>3.4</td>\n",
       "      <td>5.4</td>\n",
       "      <td>2.3</td>\n",
       "      <td>2</td>\n",
       "    </tr>\n",
       "    <tr>\n",
       "      <th>149</th>\n",
       "      <td>5.9</td>\n",
       "      <td>3.0</td>\n",
       "      <td>5.1</td>\n",
       "      <td>1.8</td>\n",
       "      <td>2</td>\n",
       "    </tr>\n",
       "  </tbody>\n",
       "</table>\n",
       "<p>150 rows × 5 columns</p>\n",
       "</div>"
      ],
      "text/plain": [
       "     sepal length (cm)  sepal width (cm)  petal length (cm)  petal width (cm)  \\\n",
       "0                  5.1               3.5                1.4               0.2   \n",
       "1                  4.9               3.0                1.4               0.2   \n",
       "2                  4.7               3.2                1.3               0.2   \n",
       "3                  4.6               3.1                1.5               0.2   \n",
       "4                  5.0               3.6                1.4               0.2   \n",
       "..                 ...               ...                ...               ...   \n",
       "145                6.7               3.0                5.2               2.3   \n",
       "146                6.3               2.5                5.0               1.9   \n",
       "147                6.5               3.0                5.2               2.0   \n",
       "148                6.2               3.4                5.4               2.3   \n",
       "149                5.9               3.0                5.1               1.8   \n",
       "\n",
       "     label  \n",
       "0        0  \n",
       "1        0  \n",
       "2        0  \n",
       "3        0  \n",
       "4        0  \n",
       "..     ...  \n",
       "145      2  \n",
       "146      2  \n",
       "147      2  \n",
       "148      2  \n",
       "149      2  \n",
       "\n",
       "[150 rows x 5 columns]"
      ]
     },
     "execution_count": 16,
     "metadata": {},
     "output_type": "execute_result"
    }
   ],
   "source": [
    "iris = load_iris()\n",
    "iris_df = pd.DataFrame(data=iris.data,columns=iris.feature_names)\n",
    "iris_df['label'] = iris.target\n",
    "iris_df"
   ]
  },
  {
   "cell_type": "code",
   "execution_count": 17,
   "metadata": {
    "ExecuteTime": {
     "end_time": "2020-08-06T15:59:29.013849Z",
     "start_time": "2020-08-06T15:59:29.009064Z"
    },
    "colab": {},
    "colab_type": "code",
    "id": "o21f6stpNGgT",
    "outputId": "9edc608e-dd96-4c62-c3e2-c32f85f0ba30"
   },
   "outputs": [
    {
     "data": {
      "text/plain": [
       "(150, 5)"
      ]
     },
     "execution_count": 17,
     "metadata": {},
     "output_type": "execute_result"
    }
   ],
   "source": [
    "iris_df.shape"
   ]
  },
  {
   "cell_type": "markdown",
   "metadata": {
    "colab_type": "text",
    "id": "JyG1018CNGgV"
   },
   "source": [
    "## Train/Test 데이터 나누어 학습하기"
   ]
  },
  {
   "cell_type": "code",
   "execution_count": 18,
   "metadata": {
    "ExecuteTime": {
     "end_time": "2020-08-06T15:59:29.570201Z",
     "start_time": "2020-08-06T15:59:29.566065Z"
    },
    "colab": {},
    "colab_type": "code",
    "id": "fROU9z8tNGgW"
   },
   "outputs": [],
   "source": [
    "X_train, X_test, y_train, y_test = train_test_split(iris.data, iris.target,\n",
    "                                                    test_size = 0.3,\n",
    "                                                    random_state = 100)"
   ]
  },
  {
   "cell_type": "markdown",
   "metadata": {
    "colab_type": "text",
    "id": "z611DJcMNGgY"
   },
   "source": [
    "## 데이터 학습 및 평가하기\n",
    "\n",
    "사용 할 모델_ LGBM\n",
    "```python \n",
    "from lightgbm import LGBMClassifier\n",
    "model_lgbm = LGBMClassifier() # 모델정의하기 \n",
    "model_lgbm.fit(???,???) # 모델학습\n",
    "model_lgbm.score(???,???) # 모델점수보기 \n",
    "model_lgbm.predict(???,???) # 모델 학습결과저장 \n",
    "```"
   ]
  },
  {
   "cell_type": "code",
   "execution_count": null,
   "metadata": {},
   "outputs": [],
   "source": [
    "# 모델정의하기 \n",
    "# 모델학습\n",
    "# 모델점수보기 \n",
    "# 모델 학습결과저장 "
   ]
  },
  {
   "cell_type": "markdown",
   "metadata": {
    "colab_type": "text",
    "id": "_ggwfkV8NGgh"
   },
   "source": [
    "## 교차 검증 (Cross Validation)\n",
    "\n",
    "\n",
    "### 교차검증 종류 \n",
    "1. K-fold Cross-validation\n",
    " - 데이터셋을 K개의 sub-set으로 분리하는 방법 \n",
    " - 분리된 K개의 sub-set중 하나만 제외한 K-1개의 sub-sets를 training set으로 이용하여 K개의 모델 추정\n",
    " - 일반적으로 K=5, K=10 사용 (-> 논문참고)\n",
    " - K가 적어질수록 모델의 평가는 편중될 수 밖에 없음\n",
    " - K가 높을수록 평가의 bias(편중된 정도)는 낮아지지만, 결과의 분산이 높을 수 있음\n",
    "\n",
    "\n",
    "2. LOOCV (Leave-one-out Cross-validation)\n",
    " - fold 하나에 샘플 하나만 들어있는 K겹 교차 검증\n",
    " - K를 전체 숫자로 설정하여 각 관측치가 데이터 세트에서 제외될 수 있도록 함\n",
    " - 데이터셋이 클 때는 시간이 매우 오래 걸리지만, 작은 데이터셋에서는 좋은 결과를 만들어 냄\n",
    " - 장점 : Data set에서 낭비 Data 없음\n",
    " - 단점 : 측정 및 평가 고비용 소요\n",
    " \n",
    "\n",
    " \n",
    "3. Stratified K-fold Cross-validation\n",
    " - 정답값이 모든 fold에서 대략 동일하도록 선택됨\n",
    " - 각 fold가 전체를 잘 대표할 수 있도록 데이터를 재배열하는 프로세스\n",
    "\n"
   ]
  },
  {
   "cell_type": "markdown",
   "metadata": {},
   "source": [
    "### Kfold\n",
    "```python\n",
    "from sklearn.model_selection import KFold\n",
    "kfold = KFold(n_splits = 5, shuffle=False) # 교차검증 방법 설정\n",
    "\n",
    "from sklearn.model_selection import cross_val_score, cross_validate\n",
    "cross_val_score(????, iris.data, iris.target, cv=kfold)\n",
    "\n",
    "```"
   ]
  },
  {
   "cell_type": "code",
   "execution_count": null,
   "metadata": {},
   "outputs": [],
   "source": []
  },
  {
   "cell_type": "markdown",
   "metadata": {},
   "source": [
    "### StratifiedKFold\n",
    "```python\n",
    "from sklearn.model_selection import StratifiedKFold\n",
    "skfold = StratifiedKFold(n_splits = 5, shuffle=False)  #교차검증 방법 설정 \n",
    "\n",
    "cross_val_score(???,\n",
    "                       iris.data,\n",
    "                       iris.target,\n",
    "                       cv=skfold  # 나눌 덩어리 횟수\n",
    "                       )\n",
    "```"
   ]
  },
  {
   "cell_type": "code",
   "execution_count": null,
   "metadata": {},
   "outputs": [],
   "source": []
  },
  {
   "cell_type": "markdown",
   "metadata": {},
   "source": [
    "### LeaveOnOut \n",
    "```python \n",
    "from sklearn.model_selection import LeaveOneOut\n",
    "leavefold = LeaveOneOut()  #교차검증 방법 설정 \n",
    "\n",
    "cross_val_score(???,\n",
    "                       iris.data,\n",
    "                       iris.target,\n",
    "                       cv=leavefold  # 나눌 덩어리 횟수\n",
    "                       )\n",
    "\n",
    "```"
   ]
  }
 ],
 "metadata": {
  "colab": {
   "name": "7_14_02 붓꽃(Iris) 품종 데이터 예측하기.ipynb",
   "provenance": []
  },
  "hide_input": false,
  "kernelspec": {
   "display_name": "Python 3",
   "language": "python",
   "name": "python3"
  },
  "language_info": {
   "codemirror_mode": {
    "name": "ipython",
    "version": 3
   },
   "file_extension": ".py",
   "mimetype": "text/x-python",
   "name": "python",
   "nbconvert_exporter": "python",
   "pygments_lexer": "ipython3",
   "version": "3.7.0"
  },
  "toc": {
   "base_numbering": 1,
   "nav_menu": {},
   "number_sections": true,
   "sideBar": true,
   "skip_h1_title": true,
   "title_cell": "Table of Contents",
   "title_sidebar": "Contents",
   "toc_cell": true,
   "toc_position": {},
   "toc_section_display": true,
   "toc_window_display": true
  },
  "varInspector": {
   "cols": {
    "lenName": 16,
    "lenType": 16,
    "lenVar": 40
   },
   "kernels_config": {
    "python": {
     "delete_cmd_postfix": "",
     "delete_cmd_prefix": "del ",
     "library": "var_list.py",
     "varRefreshCmd": "print(var_dic_list())"
    },
    "r": {
     "delete_cmd_postfix": ") ",
     "delete_cmd_prefix": "rm(",
     "library": "var_list.r",
     "varRefreshCmd": "cat(var_dic_list()) "
    }
   },
   "types_to_exclude": [
    "module",
    "function",
    "builtin_function_or_method",
    "instance",
    "_Feature"
   ],
   "window_display": false
  }
 },
 "nbformat": 4,
 "nbformat_minor": 1
}

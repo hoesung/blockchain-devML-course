{
 "cells": [
  {
   "cell_type": "markdown",
   "metadata": {},
   "source": [
    "# Day02_1_Classification_excercise01\n",
    "\n",
    "\n"
   ]
  },
  {
   "cell_type": "markdown",
   "metadata": {
    "toc": true
   },
   "source": [
    "<h1>Table of Contents<span class=\"tocSkip\"></span></h1>\n",
    "<div class=\"toc\"><ul class=\"toc-item\"><li><span><a href=\"#이진-분류기\" data-toc-modified-id=\"이진-분류기-1\"><span class=\"toc-item-num\">1&nbsp;&nbsp;</span>이진 분류기</a></span><ul class=\"toc-item\"><li><span><a href=\"#설정\" data-toc-modified-id=\"설정-1.1\"><span class=\"toc-item-num\">1.1&nbsp;&nbsp;</span>설정</a></span></li><li><span><a href=\"#데이터셋:-MNIST\" data-toc-modified-id=\"데이터셋:-MNIST-1.2\"><span class=\"toc-item-num\">1.2&nbsp;&nbsp;</span>데이터셋: MNIST</a></span></li><li><span><a href=\"#샘플하나-살펴보기\" data-toc-modified-id=\"샘플하나-살펴보기-1.3\"><span class=\"toc-item-num\">1.3&nbsp;&nbsp;</span>샘플하나 살펴보기</a></span></li><li><span><a href=\"#샘플여러개-살펴보기\" data-toc-modified-id=\"샘플여러개-살펴보기-1.4\"><span class=\"toc-item-num\">1.4&nbsp;&nbsp;</span>샘플여러개 살펴보기</a></span></li></ul></li><li><span><a href=\"#훈련/평가\" data-toc-modified-id=\"훈련/평가-2\"><span class=\"toc-item-num\">2&nbsp;&nbsp;</span>훈련/평가</a></span><ul class=\"toc-item\"><li><span><a href=\"#훈련/평가-데이터-나누기\" data-toc-modified-id=\"훈련/평가-데이터-나누기-2.1\"><span class=\"toc-item-num\">2.1&nbsp;&nbsp;</span>훈련/평가 데이터 나누기</a></span></li><li><span><a href=\"#모델링\" data-toc-modified-id=\"모델링-2.2\"><span class=\"toc-item-num\">2.2&nbsp;&nbsp;</span>모델링</a></span></li></ul></li><li><span><a href=\"#-분류의-성능-평가지표-\n",
    "--\" data-toc-modified-id=\"-분류의-성능-평가지표-\n",
    "---3\"><span class=\"toc-item-num\">3&nbsp;&nbsp;</span><i class=\"fa fa-tasks\"></i> 분류의 성능 평가지표 \n",
    "  </a></span></li></ul></div>"
   ]
  },
  {
   "cell_type": "markdown",
   "metadata": {},
   "source": [
    "## 이진 분류기"
   ]
  },
  {
   "cell_type": "markdown",
   "metadata": {},
   "source": [
    "### 설정"
   ]
  },
  {
   "cell_type": "markdown",
   "metadata": {},
   "source": [
    "먼저 몇 개의 모듈을 임포트합니다. 맷플롯립 그래프를 인라인으로 출력하도록 만들고 그림을 저장하는 함수를 준비합니다. 또한 파이썬 버전이 3.5 이상인지 확인합니다(파이썬 2.x에서도 동작하지만 곧 지원이 중단되므로 파이썬 3을 사용하는 것이 좋습니다). 사이킷런 버전이 0.20 이상인지도 확인합니다."
   ]
  },
  {
   "cell_type": "code",
   "execution_count": 1,
   "metadata": {
    "ExecuteTime": {
     "end_time": "2020-08-06T13:45:48.286548Z",
     "start_time": "2020-08-06T13:45:47.725016Z"
    }
   },
   "outputs": [],
   "source": [
    "# 파이썬 ≥3.5 필수\n",
    "import sys\n",
    "assert sys.version_info >= (3, 5)\n",
    "\n",
    "# 사이킷런 ≥0.20 필수\n",
    "import sklearn\n",
    "assert sklearn.__version__ >= \"0.20\"\n",
    "\n",
    "# 공통 모듈 임포트\n",
    "import numpy as np\n",
    "import os\n",
    "\n",
    "# 노트북 실행 결과를 동일하게 유지하기 위해\n",
    "np.random.seed(42)\n",
    "\n",
    "# 깔끔한 그래프 출력을 위해\n",
    "%matplotlib inline\n",
    "import matplotlib as mpl\n",
    "import matplotlib.pyplot as plt\n",
    "mpl.rc('axes', labelsize=14)\n",
    "mpl.rc('xtick', labelsize=12)\n",
    "mpl.rc('ytick', labelsize=12)\n",
    "\n",
    "# 그림을 저장할 위치\n",
    "PROJECT_ROOT_DIR = \".\"\n",
    "CHAPTER_ID = \"classification\"\n",
    "IMAGES_PATH = os.path.join(PROJECT_ROOT_DIR, \"images\", CHAPTER_ID)\n",
    "os.makedirs(IMAGES_PATH, exist_ok=True)\n",
    "\n",
    "def save_fig(fig_id, tight_layout=True, fig_extension=\"png\", resolution=300):\n",
    "    path = os.path.join(IMAGES_PATH, fig_id + \".\" + fig_extension)\n",
    "    print(\"그림 저장:\", fig_id)\n",
    "    if tight_layout:\n",
    "        plt.tight_layout()\n",
    "    plt.savefig(path, format=fig_extension, dpi=resolution)"
   ]
  },
  {
   "cell_type": "markdown",
   "metadata": {},
   "source": [
    "### 데이터셋: MNIST\n",
    "\n",
    "<img src=https://3qeqpr26caki16dnhd19sv6by6v-wpengine.netdna-ssl.com/wp-content/uploads/2019/02/Plot-of-a-Subset-of-Images-from-the-MNIST-Dataset.png width=50%>"
   ]
  },
  {
   "cell_type": "code",
   "execution_count": 1,
   "metadata": {
    "ExecuteTime": {
     "end_time": "2020-08-06T16:29:24.456447Z",
     "start_time": "2020-08-06T16:29:05.056716Z"
    }
   },
   "outputs": [
    {
     "data": {
      "text/plain": [
       "dict_keys(['data', 'target', 'frame', 'feature_names', 'target_names', 'DESCR', 'details', 'categories', 'url'])"
      ]
     },
     "execution_count": 1,
     "metadata": {},
     "output_type": "execute_result"
    }
   ],
   "source": [
    "# data load\n",
    "from sklearn.datasets import fetch_openml\n",
    "mnist = fetch_openml('mnist_784', version=1)\n",
    "mnist.keys()"
   ]
  },
  {
   "cell_type": "code",
   "execution_count": 2,
   "metadata": {
    "ExecuteTime": {
     "end_time": "2020-08-06T16:29:24.475149Z",
     "start_time": "2020-08-06T16:29:24.472439Z"
    },
    "scrolled": true
   },
   "outputs": [],
   "source": [
    "X, y = mnist[\"data\"], mnist[\"target\"]"
   ]
  },
  {
   "cell_type": "code",
   "execution_count": 3,
   "metadata": {
    "ExecuteTime": {
     "end_time": "2020-08-06T16:29:24.499152Z",
     "start_time": "2020-08-06T16:29:24.493623Z"
    }
   },
   "outputs": [
    {
     "name": "stdout",
     "output_type": "stream",
     "text": [
      "X의 형상: (70000, 784)\n",
      "y의 형상: (70000,)\n"
     ]
    }
   ],
   "source": [
    "print(f'X의 형상: {X.shape}')\n",
    "print(f'y의 형상: {y.shape}')"
   ]
  },
  {
   "cell_type": "markdown",
   "metadata": {},
   "source": [
    "## 훈련/평가\n",
    "### 훈련/평가 데이터 나누기 "
   ]
  },
  {
   "cell_type": "code",
   "execution_count": 12,
   "metadata": {
    "ExecuteTime": {
     "end_time": "2020-08-06T13:46:12.791193Z",
     "start_time": "2020-08-06T13:46:12.787318Z"
    }
   },
   "outputs": [],
   "source": [
    "X_train, X_test, y_train, y_test = X[:60000], X[60000:], y[:60000], y[60000:]"
   ]
  },
  {
   "cell_type": "code",
   "execution_count": 13,
   "metadata": {
    "ExecuteTime": {
     "end_time": "2020-08-06T13:46:12.798409Z",
     "start_time": "2020-08-06T13:46:12.793245Z"
    }
   },
   "outputs": [],
   "source": [
    "# 단일 분류를 학습하는 것이므로 5 또는 나머지 번호 두 분류로 나눈다. \n",
    "y_train_5 = (y_train == 5)\n",
    "y_test_5 = (y_test == 5)"
   ]
  },
  {
   "cell_type": "markdown",
   "metadata": {},
   "source": [
    "### 모델링\n",
    "```python \n",
    "\n",
    "from sklearn.neighbors import KNeighborsClassifier\n",
    "model_knn = KNeighborsClassifier(n_neighbors = 13) # 모델정의하기 \n",
    "model_knn.fit(???,???) # 모델학습 \n",
    "model_knn.score(???,???) # 모델점수보기 \n",
    "model_knn.predict(???,???) # 모델 학습결과저장 \n",
    "\n",
    "```"
   ]
  },
  {
   "cell_type": "code",
   "execution_count": 14,
   "metadata": {
    "ExecuteTime": {
     "end_time": "2020-08-06T13:46:12.803634Z",
     "start_time": "2020-08-06T13:46:12.801230Z"
    }
   },
   "outputs": [],
   "source": [
    "# 모델정의하기 \n",
    "\n",
    "# 모델학습 \n",
    "\n",
    "\n",
    "# 모델 점수보기 \n",
    "\n",
    "## 모델 학습 결과 저장 \n"
   ]
  },
  {
   "cell_type": "markdown",
   "metadata": {},
   "source": [
    "<div class=\"alert alert-success\" data-title=\"\">\n",
    "  <h2><i class=\"fa fa-tasks\" aria-hidden=\"true\"></i> 분류의 성능 평가지표 \n",
    "  </h2>\n",
    "</div>\n",
    "\n",
    "```python\n",
    "from sklearn.metrics import confusion_matrix # 오차행렬 \n",
    "TN, FP, FN, TP  = confusion_matrix(???, ???).ravel()\n",
    "```"
   ]
  },
  {
   "cell_type": "code",
   "execution_count": 15,
   "metadata": {
    "ExecuteTime": {
     "end_time": "2020-08-06T13:46:12.808585Z",
     "start_time": "2020-08-06T13:46:12.805919Z"
    }
   },
   "outputs": [],
   "source": [
    "# 오차행렬 \n"
   ]
  },
  {
   "cell_type": "markdown",
   "metadata": {},
   "source": [
    "정확도(Accuracy):예측한 결과가 실제 결과와 얼마나 동일한 지를 나타내는 지표\n",
    "\n",
    "- 직접구현: $\\mbox{정확도(Accuracy)}=\\frac{TP + TN}{TP+FN+FP+TN}$\n",
    "\n",
    "- sklearn사용: \n",
    "    ```python \n",
    "    from sklearn.metrics import accuracy_score\n",
    "    accuracy_score(???, ???)\n",
    "    ```"
   ]
  },
  {
   "cell_type": "code",
   "execution_count": 16,
   "metadata": {
    "ExecuteTime": {
     "end_time": "2020-08-06T13:46:12.813266Z",
     "start_time": "2020-08-06T13:46:12.810888Z"
    }
   },
   "outputs": [],
   "source": [
    "# [TO_DO] 정확도 구하기 \n",
    "# 1.패키지 사용 \n",
    "\n",
    "# 2. 직접 구하기"
   ]
  },
  {
   "cell_type": "markdown",
   "metadata": {},
   "source": [
    "정밀도 (Precision): `Positive`로 예측한 결과들 중 실제로 `Positive`인 결과들의 비율\n",
    "\n",
    "- 직접구현: $\\mbox{정밀도}=\\frac{\\mbox{TP}}{\\mbox{TP+FP}}$\n",
    "- sklearn사용:\n",
    "    ```python \n",
    "    from sklearn.metrics import precision_score\n",
    "    precision_score(???, ???)\n",
    "    ```"
   ]
  },
  {
   "cell_type": "code",
   "execution_count": 17,
   "metadata": {
    "ExecuteTime": {
     "end_time": "2020-08-06T13:46:12.817623Z",
     "start_time": "2020-08-06T13:46:12.815513Z"
    }
   },
   "outputs": [],
   "source": [
    "# [TO_DO] 정밀도 구하기 \n",
    "# 1.패키지 사용 \n",
    "\n",
    "# 2. 직접구하기 "
   ]
  },
  {
   "cell_type": "markdown",
   "metadata": {},
   "source": [
    "재현률 (Recall) : 실제로 Positive인 결과들 중 Positive로 예측한 결과들의 비율\n",
    "\n",
    "- 직접구현: $\\mbox{재현율}=\\frac{\\mbox{TP}}{\\mbox{TP+FN}}$\n",
    "- sklearn사용\n",
    "    ```python \n",
    "    from sklearn.metrics import precision_score\n",
    "    recall_score(???, ???)\n",
    "    ```"
   ]
  },
  {
   "cell_type": "code",
   "execution_count": 18,
   "metadata": {
    "ExecuteTime": {
     "end_time": "2020-08-06T13:46:12.822182Z",
     "start_time": "2020-08-06T13:46:12.819804Z"
    }
   },
   "outputs": [],
   "source": [
    "# [TO_DO] 재현률 구하기 \n",
    "# 1.패키지 사용 \n",
    "\n",
    "# 2. 직접구하기 "
   ]
  },
  {
   "cell_type": "markdown",
   "metadata": {},
   "source": [
    "F1 score : 정밀도와 재현율의 조화평균이다. \n",
    "\n",
    "- 직접구현: $\\mbox{F}1=\\frac{2}{\\frac{1}{\\mbox{정밀도}} + \\frac{1}{\\mbox{재현율}}}$\n",
    "- sklearn: \n",
    "    ```python \n",
    "    from sklearn.metrics import f1_score\n",
    "    f1_score(???, ???)\n",
    "    ```"
   ]
  },
  {
   "cell_type": "code",
   "execution_count": 19,
   "metadata": {
    "ExecuteTime": {
     "end_time": "2020-08-06T13:46:12.826879Z",
     "start_time": "2020-08-06T13:46:12.824547Z"
    },
    "scrolled": false
   },
   "outputs": [],
   "source": [
    "# [TO_DO] f1 구하기 \n",
    "# 1.패키지 사용 \n",
    "\n",
    "# 2. 직접구현 \n"
   ]
  }
 ],
 "metadata": {
  "hide_input": false,
  "kernelspec": {
   "display_name": "Python 3",
   "language": "python",
   "name": "python3"
  },
  "language_info": {
   "codemirror_mode": {
    "name": "ipython",
    "version": 3
   },
   "file_extension": ".py",
   "mimetype": "text/x-python",
   "name": "python",
   "nbconvert_exporter": "python",
   "pygments_lexer": "ipython3",
   "version": "3.7.0"
  },
  "nav_menu": {},
  "toc": {
   "base_numbering": 1,
   "nav_menu": {},
   "number_sections": true,
   "sideBar": true,
   "skip_h1_title": true,
   "title_cell": "Table of Contents",
   "title_sidebar": "Contents",
   "toc_cell": true,
   "toc_position": {},
   "toc_section_display": "block",
   "toc_window_display": true
  },
  "varInspector": {
   "cols": {
    "lenName": 16,
    "lenType": 16,
    "lenVar": 40
   },
   "kernels_config": {
    "python": {
     "delete_cmd_postfix": "",
     "delete_cmd_prefix": "del ",
     "library": "var_list.py",
     "varRefreshCmd": "print(var_dic_list())"
    },
    "r": {
     "delete_cmd_postfix": ") ",
     "delete_cmd_prefix": "rm(",
     "library": "var_list.r",
     "varRefreshCmd": "cat(var_dic_list()) "
    }
   },
   "types_to_exclude": [
    "module",
    "function",
    "builtin_function_or_method",
    "instance",
    "_Feature"
   ],
   "window_display": false
  }
 },
 "nbformat": 4,
 "nbformat_minor": 1
}

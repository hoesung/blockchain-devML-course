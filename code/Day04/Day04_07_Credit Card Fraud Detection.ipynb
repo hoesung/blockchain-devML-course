{
 "cells": [
  {
   "cell_type": "markdown",
   "metadata": {
    "ExecuteTime": {
     "end_time": "2020-08-10T15:57:48.063308Z",
     "start_time": "2020-08-10T15:57:48.058972Z"
    }
   },
   "source": [
    "# Classification - 신용카드 사기 검출\n",
    "\n",
    "reference : https://www.kaggle.com/mlg-ulb/creditcardfraud/data  \n",
    "        \n",
    "<img src='https://joinsmedia.sfo2.digitaloceanspaces.com/news/1200-1179100170_82JlgYH0_751de08bd4d614dbe5e8930210ad6bf040ecc7c1.jpg' width=60%>"
   ]
  },
  {
   "cell_type": "markdown",
   "metadata": {},
   "source": [
    "## 목적 \n",
    "신용카드사는 고객의 비정상적인 카드 거래를 방지하고 이에 대한 적절한 조치를 해야 합니다.  \n",
    "따라서 비정상적인 신용카드 거래 판별에 있어서 수십만 개의 거래 데이터를 분류하고 분석하는 일이 "
   ]
  },
  {
   "cell_type": "markdown",
   "metadata": {},
   "source": [
    "## Feature 설명\n",
    "\n",
    "- Row (행) : 시간대에 따른 1개의 거래 내역\n",
    "- Column (열) : Time, Amount, Class, V1 ~ 28\n",
    "\n",
    "    **Independent Variable (X 변수)**\n",
    "    - Time: 첫 번째 신용카드 거래와 해당 행에 해당하는 신용카드 거래 사이에 존재하는 경과 시간 \n",
    "    - V1 ~ V28: 주성분 분석을 통해 가려진 1회 거래 시 발생하는 정보\n",
    "    - Amount: 거래 금액\n",
    "    \n",
    "  **Class Variable (Y 변수)** \n",
    "    - Class: 0은 정상 거래, 1은 신용카드 사기 "
   ]
  },
  {
   "cell_type": "code",
   "execution_count": 3,
   "metadata": {
    "ExecuteTime": {
     "end_time": "2020-08-10T16:00:08.155024Z",
     "start_time": "2020-08-10T16:00:08.150929Z"
    }
   },
   "outputs": [],
   "source": [
    "from sklearn.model_selection import train_test_split\n",
    "import pandas as pd \n",
    "import numpy as np \n",
    "import matplotlib.pyplot as plt\n",
    "import warnings\n",
    "warnings.filterwarnings(\"ignore\")\n",
    "%matplotlib inline"
   ]
  },
  {
   "cell_type": "code",
   "execution_count": 4,
   "metadata": {
    "ExecuteTime": {
     "end_time": "2020-08-10T16:00:10.627287Z",
     "start_time": "2020-08-10T16:00:08.312348Z"
    }
   },
   "outputs": [],
   "source": [
    "card_df = pd.read_csv('../../data/creditcard.csv')"
   ]
  },
  {
   "cell_type": "markdown",
   "metadata": {},
   "source": [
    "<div class=\"alert alert-success\" data-title=\"\">\n",
    "  <h2><i class=\"fa fa-tasks\" aria-hidden=\"true\"></i> 머신러닝 모델 만들어보기 \n",
    "  </h2>\n",
    "</div>\n",
    "\n",
    "EDA(데이터분석) --> 2.preprocessing(전처리) --> 3.모델 학습 ---> 4.모델 평가"
   ]
  },
  {
   "cell_type": "code",
   "execution_count": null,
   "metadata": {},
   "outputs": [],
   "source": []
  }
 ],
 "metadata": {
  "hide_input": false,
  "kernelspec": {
   "display_name": "Python 3",
   "language": "python",
   "name": "python3"
  },
  "language_info": {
   "codemirror_mode": {
    "name": "ipython",
    "version": 3
   },
   "file_extension": ".py",
   "mimetype": "text/x-python",
   "name": "python",
   "nbconvert_exporter": "python",
   "pygments_lexer": "ipython3",
   "version": "3.7.0"
  },
  "toc": {
   "base_numbering": 1,
   "nav_menu": {},
   "number_sections": true,
   "sideBar": true,
   "skip_h1_title": false,
   "title_cell": "Table of Contents",
   "title_sidebar": "Contents",
   "toc_cell": false,
   "toc_position": {},
   "toc_section_display": true,
   "toc_window_display": false
  },
  "varInspector": {
   "cols": {
    "lenName": 16,
    "lenType": 16,
    "lenVar": 40
   },
   "kernels_config": {
    "python": {
     "delete_cmd_postfix": "",
     "delete_cmd_prefix": "del ",
     "library": "var_list.py",
     "varRefreshCmd": "print(var_dic_list())"
    },
    "r": {
     "delete_cmd_postfix": ") ",
     "delete_cmd_prefix": "rm(",
     "library": "var_list.r",
     "varRefreshCmd": "cat(var_dic_list()) "
    }
   },
   "types_to_exclude": [
    "module",
    "function",
    "builtin_function_or_method",
    "instance",
    "_Feature"
   ],
   "window_display": false
  }
 },
 "nbformat": 4,
 "nbformat_minor": 4
}

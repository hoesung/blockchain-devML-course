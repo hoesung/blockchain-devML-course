{
 "cells": [
  {
   "cell_type": "markdown",
   "metadata": {},
   "source": [
    "# 회귀 분석\n",
    "\n",
    "## 회귀(Regression)\n",
    "- 데이터의 값은 평균과 같은 기존의 경향으로 돌아가려는 경향\n",
    "- 여러 변수들 간의 상관 관계를 파악하여, 어떤 특정 변수의 값을 다른 변수들의 값을 이용하여 설명/예측하는 기법\n",
    "\n",
    " "
   ]
  },
  {
   "cell_type": "markdown",
   "metadata": {
    "toc": true
   },
   "source": [
    "<h1>Table of Contents<span class=\"tocSkip\"></span></h1>\n",
    "<div class=\"toc\"><ul class=\"toc-item\"><li><span><a href=\"#회귀(Regression)\" data-toc-modified-id=\"회귀(Regression)-1\"><span class=\"toc-item-num\">1&nbsp;&nbsp;</span>회귀(Regression)</a></span></li><li><span><a href=\"#-사이킷런을-사용한-단순-선형-회귀-수행-\n",
    "--\" data-toc-modified-id=\"-사이킷런을-사용한-단순-선형-회귀-수행-\n",
    "---2\"><span class=\"toc-item-num\">2&nbsp;&nbsp;</span><i class=\"fa fa-tasks\"></i> 사이킷런을 사용한 단순 선형 회귀 수행 \n",
    "  </a></span><ul class=\"toc-item\"><li><span><a href=\"#데이터-설정\" data-toc-modified-id=\"데이터-설정-2.1\"><span class=\"toc-item-num\">2.1&nbsp;&nbsp;</span>데이터 설정</a></span></li><li><span><a href=\"#linear_model-모듈에-있는-LinearRegression을-이용하여-선형-회귀를-수행할-수-있는-객체를-생성\" data-toc-modified-id=\"linear_model-모듈에-있는-LinearRegression을-이용하여-선형-회귀를-수행할-수-있는-객체를-생성-2.2\"><span class=\"toc-item-num\">2.2&nbsp;&nbsp;</span>linear_model 모듈에 있는 LinearRegression을 이용하여 선형 회귀를 수행할 수 있는 객체를 생성</a></span></li><li><span><a href=\"#선형-회귀를-수행할-객체에-대하여-fit-메소드를-이용하여-학습을-수행하여-회귀-모형을-추정\" data-toc-modified-id=\"선형-회귀를-수행할-객체에-대하여-fit-메소드를-이용하여-학습을-수행하여-회귀-모형을-추정-2.3\"><span class=\"toc-item-num\">2.3&nbsp;&nbsp;</span>선형 회귀를 수행할 객체에 대하여 <strong><code>fit 메소드를 이용하여 학습을 수행</code></strong>하여 회귀 모형을 추정</a></span></li><li><span><a href=\"#실행-객체-또는-추정된-회귀-모형에-대하여-predict-메소드를-이용하여-예측을-수행\" data-toc-modified-id=\"실행-객체-또는-추정된-회귀-모형에-대하여-predict-메소드를-이용하여-예측을-수행-2.4\"><span class=\"toc-item-num\">2.4&nbsp;&nbsp;</span>실행 객체 또는 추정된 회귀 모형에 대하여 <strong><code>predict 메소드를 이용</code></strong>하여 예측을 수행</a></span></li><li><span><a href=\"#회귀-분석의-평가\" data-toc-modified-id=\"회귀-분석의-평가-2.5\"><span class=\"toc-item-num\">2.5&nbsp;&nbsp;</span>회귀 분석의 평가</a></span><ul class=\"toc-item\"><li><span><a href=\"#평가지표\" data-toc-modified-id=\"평가지표-2.5.1\"><span class=\"toc-item-num\">2.5.1&nbsp;&nbsp;</span>평가지표</a></span></li><li><span><a href=\"#결정-계수-(Coefficient-of-Determination)\" data-toc-modified-id=\"결정-계수-(Coefficient-of-Determination)-2.5.2\"><span class=\"toc-item-num\">2.5.2&nbsp;&nbsp;</span>결정 계수 (Coefficient of Determination)</a></span></li></ul></li></ul></li><li><span><a href=\"#-분석-결과-시각화-\n",
    "--\" data-toc-modified-id=\"-분석-결과-시각화-\n",
    "---3\"><span class=\"toc-item-num\">3&nbsp;&nbsp;</span><i class=\"fa fa-tasks\"></i> 분석 결과 시각화 \n",
    "  </a></span><ul class=\"toc-item\"><li><ul class=\"toc-item\"><li><span><a href=\"#5.-분석-결과를-플롯으로-표현\" data-toc-modified-id=\"5.-분석-결과를-플롯으로-표현-3.0.1\"><span class=\"toc-item-num\">3.0.1&nbsp;&nbsp;</span>5. 분석 결과를 플롯으로 표현</a></span></li></ul></li></ul></li><li><span><a href=\"#--스탯츠모델을-사용한-단순-선형-회귀\n",
    "--\" data-toc-modified-id=\"--스탯츠모델을-사용한-단순-선형-회귀\n",
    "---4\"><span class=\"toc-item-num\">4&nbsp;&nbsp;</span><i class=\"fa fa-tasks\"></i>  스탯츠모델을 사용한 단순 선형 회귀\n",
    "  </a></span><ul class=\"toc-item\"><li><span><a href=\"#스탯츠모델에서-최소제곱법으로-단순-선형-회귀-수행\" data-toc-modified-id=\"스탯츠모델에서-최소제곱법으로-단순-선형-회귀-수행-4.1\"><span class=\"toc-item-num\">4.1&nbsp;&nbsp;</span>스탯츠모델에서 최소제곱법으로 단순 선형 회귀 수행</a></span><ul class=\"toc-item\"><li><span><a href=\"#1.-api-모듈에-있는-add_constant-함수를-이용하여-상수항을-추가하도록-지정\" data-toc-modified-id=\"1.-api-모듈에-있는-add_constant-함수를-이용하여-상수항을-추가하도록-지정-4.1.1\"><span class=\"toc-item-num\">4.1.1&nbsp;&nbsp;</span>1. api 모듈에 있는 add_constant 함수를 이용하여 상수항을 추가하도록 지정</a></span></li><li><span><a href=\"#2.-api-모듈에-있는-OLS를-이용하여,-선형-회귀를-수행할-수-있는-객체를-생성\" data-toc-modified-id=\"2.-api-모듈에-있는-OLS를-이용하여,-선형-회귀를-수행할-수-있는-객체를-생성-4.1.2\"><span class=\"toc-item-num\">4.1.2&nbsp;&nbsp;</span>2. api 모듈에 있는 OLS를 이용하여, 선형 회귀를 수행할 수 있는 객체를 생성</a></span></li><li><span><a href=\"#3.-선형-회귀를-수행할-객체에-대하여-fit-메소드를-이용하여-학습을-수행하여-회귀-모형을-추정\" data-toc-modified-id=\"3.-선형-회귀를-수행할-객체에-대하여-fit-메소드를-이용하여-학습을-수행하여-회귀-모형을-추정-4.1.3\"><span class=\"toc-item-num\">4.1.3&nbsp;&nbsp;</span>3. 선형 회귀를 수행할 객체에 대하여 fit 메소드를 이용하여 학습을 수행하여 회귀 모형을 추정</a></span></li><li><span><a href=\"#5.-추정된-회귀-모형에-대하여-summary-메소드를-이용하여-분석-결과를-평가한다.-(R2,-회귀-계수,-기타-검정-통계량-등)\" data-toc-modified-id=\"5.-추정된-회귀-모형에-대하여-summary-메소드를-이용하여-분석-결과를-평가한다.-(R2,-회귀-계수,-기타-검정-통계량-등)-4.1.4\"><span class=\"toc-item-num\">4.1.4&nbsp;&nbsp;</span>5. 추정된 회귀 모형에 대하여 summary 메소드를 이용하여 분석 결과를 평가한다. (R2, 회귀 계수, 기타 검정 통계량 등)</a></span></li></ul></li></ul></li><li><span><a href=\"#결과-해석\" data-toc-modified-id=\"결과-해석-5\"><span class=\"toc-item-num\">5&nbsp;&nbsp;</span>결과 해석</a></span></li><li><span><a href=\"#통계검정\" data-toc-modified-id=\"통계검정-6\"><span class=\"toc-item-num\">6&nbsp;&nbsp;</span>통계검정</a></span><ul class=\"toc-item\"><li><ul class=\"toc-item\"><li><span><a href=\"#4.-추정된-회귀-모형에-대하여-predict-메소드를-이용하여-예측을-수행\" data-toc-modified-id=\"4.-추정된-회귀-모형에-대하여-predict-메소드를-이용하여-예측을-수행-6.0.1\"><span class=\"toc-item-num\">6.0.1&nbsp;&nbsp;</span>4. 추정된 회귀 모형에 대하여 predict 메소드를 이용하여 예측을 수행</a></span></li></ul></li></ul></li><li><span><a href=\"#예측-결과-시각화\" data-toc-modified-id=\"예측-결과-시각화-7\"><span class=\"toc-item-num\">7&nbsp;&nbsp;</span>예측 결과 시각화</a></span></li></ul></div>"
   ]
  },
  {
   "cell_type": "markdown",
   "metadata": {},
   "source": [
    "---\n",
    "<div class=\"alert alert-success\" data-title=\"\">\n",
    "  <h2><i class=\"fa fa-tasks\" aria-hidden=\"true\"></i> 사이킷런을 사용한 단순 선형 회귀 수행 \n",
    "  </h2>\n",
    "</div>"
   ]
  },
  {
   "cell_type": "markdown",
   "metadata": {},
   "source": [
    "### 데이터 설정 \n",
    "```python\n",
    "X_train = [[1],[2],[3],[4],[5]] # 독립변수의 특성이 1개 밖에 없더라도 각 값들은 리스트 또는 배열의 형태\n",
    "y_train = [2.3, 3.99, 5.15, 7.89, 8.6]\n",
    "\n",
    "X_test = [[6],[7]]\n",
    "y_test = [10.1, 11.9]\n",
    "\n",
    "```"
   ]
  },
  {
   "cell_type": "code",
   "execution_count": 21,
   "metadata": {
    "ExecuteTime": {
     "end_time": "2020-08-09T11:51:03.513477Z",
     "start_time": "2020-08-09T11:51:03.509364Z"
    }
   },
   "outputs": [],
   "source": [
    "X_train = [[1],[2],[3],[4],[5]] # 독립변수의 특성이 1개 밖에 없더라도 각 값들은 리스트 또는 배열의 형태\n",
    "y_train = [2.3, 3.99, 5.15, 7.89, 8.6]\n",
    "\n",
    "X_test = [[6],[7]]\n",
    "y_test = [10.1, 11.9]"
   ]
  },
  {
   "cell_type": "markdown",
   "metadata": {},
   "source": [
    "### linear_model 모듈에 있는 LinearRegression을 이용하여 선형 회귀를 수행할 수 있는 객체를 생성\n",
    "- 이 때 다음과 같은 매개변수들을 추가 설정할 수 있으나, 대부분의 경우에는 필요하지 않음\n",
    "\n",
    "```\n",
    "매개변수 설정\n",
    "- fit_intercept : `절편 값을 계산할 것인지의 여부`를 결정한다. 기본값은 True\n",
    "- normalize : 회귀를 수행하기 전에 데이터를 `정규화할 것인지의 여부`를 결정한다. 기본값은 False\n",
    "```"
   ]
  },
  {
   "cell_type": "code",
   "execution_count": 22,
   "metadata": {
    "ExecuteTime": {
     "end_time": "2020-08-09T11:51:03.832569Z",
     "start_time": "2020-08-09T11:51:03.829354Z"
    }
   },
   "outputs": [],
   "source": [
    "from sklearn.linear_model import LinearRegression\n",
    "lr = LinearRegression()"
   ]
  },
  {
   "cell_type": "markdown",
   "metadata": {},
   "source": [
    "### 선형 회귀를 수행할 객체에 대하여 **`fit 메소드를 이용하여 학습을 수행`**하여 회귀 모형을 추정\n",
    "    - 첫 번째 매개변수는 학습용 데이터의 독립변수 집합\n",
    "    - 두 번째 매개변수는 학습용 데이터의 종속변수 집합"
   ]
  },
  {
   "cell_type": "code",
   "execution_count": 23,
   "metadata": {
    "ExecuteTime": {
     "end_time": "2020-08-09T11:51:04.171725Z",
     "start_time": "2020-08-09T11:51:04.168558Z"
    }
   },
   "outputs": [],
   "source": [
    "model = lr.fit(X_train,y_train)"
   ]
  },
  {
   "cell_type": "markdown",
   "metadata": {},
   "source": [
    "### 실행 객체 또는 추정된 회귀 모형에 대하여 **`predict 메소드를 이용`**하여 예측을 수행\n",
    "    - 매개변수는 검증용 데이터의 독립변수 집합\n",
    "    - 반환 결과는 검증용 데이터에 대한 종속변수 예측값"
   ]
  },
  {
   "cell_type": "code",
   "execution_count": 24,
   "metadata": {
    "ExecuteTime": {
     "end_time": "2020-08-09T11:51:04.883107Z",
     "start_time": "2020-08-09T11:51:04.878670Z"
    }
   },
   "outputs": [
    {
     "data": {
      "text/plain": [
       "array([10.536, 12.186])"
      ]
     },
     "execution_count": 24,
     "metadata": {},
     "output_type": "execute_result"
    }
   ],
   "source": [
    "y_pred = model.predict(X_test)\n",
    "y_pred"
   ]
  },
  {
   "cell_type": "markdown",
   "metadata": {},
   "source": [
    "### 회귀 분석의 평가\n",
    "\n",
    "#### 평가지표\n",
    "\n",
    "|지표|의미|대응함수|\n",
    "|---|---|---|\n",
    "|MAE|Mean Absolute Error, 즉 실제값과 예측값의 차이의 절대값들의 평균|metrics 모듈의 mean_absolute_error|\n",
    "|MSE|Mean Absolute Error, 즉 실제값과 예측값의 차이의 절대값들의 평균|metrics 모듈의 mean_squared_error|\n",
    "|RMSE|Root of MSE, 즉 MSE의 제곱근 값|math 또는 numpy 모듈의 sqrt|\n",
    "|$R^2$|결정 계수라고 하며, 실제값의 분산 대비 예측값의 분산의 비율|metrics 모듈의 r2_score 또는 LinearRegression의 score|\n",
    "\n",
    "#### 결정 계수 (Coefficient of Determination)\n",
    "- 회귀식이 얼마나 설명력이 있는지 (즉, 얼마나 정확한지) 나타내는 지표\n",
    "- 결정 계수의 값은 $0 ≤ R^2 ≤ 1$이며, 1에 가까울수록 설명력이 강하고 0에 가까울수록 설명력이 약하다\n",
    "- 일반적으로 결정 계수 R2의 값이 0.65 (65%) 이상이면 설명력이 있다고 판단\n",
    "- 음의 값이 나오면 회귀분석을 하면 안되는거 였음"
   ]
  },
  {
   "cell_type": "code",
   "execution_count": 25,
   "metadata": {
    "ExecuteTime": {
     "end_time": "2020-08-09T11:51:05.562267Z",
     "start_time": "2020-08-09T11:51:05.556541Z"
    }
   },
   "outputs": [
    {
     "data": {
      "text/plain": [
       "0.36099999999999977"
      ]
     },
     "execution_count": 25,
     "metadata": {},
     "output_type": "execute_result"
    }
   ],
   "source": [
    "# metrics 모듈에 있는 mean_squared_error 함수를 이용하여 MAE를 구한다.\n",
    "from sklearn.metrics import mean_absolute_error\n",
    "# 정답과 예측값 순서로\n",
    "mae = mean_absolute_error(y_test, y_pred) \n",
    "mae "
   ]
  },
  {
   "cell_type": "code",
   "execution_count": 26,
   "metadata": {
    "ExecuteTime": {
     "end_time": "2020-08-09T11:51:05.854213Z",
     "start_time": "2020-08-09T11:51:05.846528Z"
    }
   },
   "outputs": [
    {
     "data": {
      "text/plain": [
       "0.13594599999999984"
      ]
     },
     "execution_count": 26,
     "metadata": {},
     "output_type": "execute_result"
    }
   ],
   "source": [
    "# metrics 모듈에 있는 mean_squared_error 함수를 이용하여 MSE를 구한다.\n",
    "from sklearn.metrics import mean_squared_error\n",
    "# 정답과 예측값 순서로\n",
    "mse = mean_squared_error(y_test, y_pred) \n",
    "mse "
   ]
  },
  {
   "cell_type": "code",
   "execution_count": 27,
   "metadata": {
    "ExecuteTime": {
     "end_time": "2020-08-09T11:51:06.178754Z",
     "start_time": "2020-08-09T11:51:06.171281Z"
    }
   },
   "outputs": [
    {
     "data": {
      "text/plain": [
       "0.3687085569931892"
      ]
     },
     "execution_count": 27,
     "metadata": {},
     "output_type": "execute_result"
    }
   ],
   "source": [
    "# MSE의 제곱근을 계산하여 RMSE를 구한다\n",
    "import numpy as np\n",
    "rmse = np.sqrt(mse)\n",
    "rmse"
   ]
  },
  {
   "cell_type": "code",
   "execution_count": 28,
   "metadata": {
    "ExecuteTime": {
     "end_time": "2020-08-09T11:51:06.483555Z",
     "start_time": "2020-08-09T11:51:06.479507Z"
    }
   },
   "outputs": [
    {
     "data": {
      "text/plain": [
       "0.8321654320987657"
      ]
     },
     "execution_count": 28,
     "metadata": {},
     "output_type": "execute_result"
    }
   ],
   "source": [
    "from sklearn.metrics import r2_score\n",
    "# metrics 모듈에 있는 r2_score 함수를 이용하여 결정계수 R2 값을 구한다\n",
    "# 첫 번째 매개변수는 검증용 데이터의 종속변수 실제값\n",
    "# 두 번째 매개변수는 종속변수 예측값\n",
    "r2 = r2_score(y_test,y_pred) \n",
    "r2 "
   ]
  },
  {
   "cell_type": "code",
   "execution_count": 29,
   "metadata": {
    "ExecuteTime": {
     "end_time": "2020-08-09T11:51:06.795581Z",
     "start_time": "2020-08-09T11:51:06.789884Z"
    }
   },
   "outputs": [
    {
     "data": {
      "text/plain": [
       "0.8321654320987657"
      ]
     },
     "execution_count": 29,
     "metadata": {},
     "output_type": "execute_result"
    }
   ],
   "source": [
    "# 실행 객체 또는 추정된 회귀 모형에 대하여 score 메소드를 호출하여 한번에 R2 값을 구할 수도 있다\n",
    "# *주의 분류에서 score은 accuracy 이다. \n",
    "\n",
    "r2 = model.score(X_test, y_test)\n",
    "r2"
   ]
  },
  {
   "cell_type": "markdown",
   "metadata": {},
   "source": [
    "---\n",
    "<div class=\"alert alert-success\" data-title=\"\">\n",
    "  <h2><i class=\"fa fa-tasks\" aria-hidden=\"true\"></i> 분석 결과 시각화 \n",
    "  </h2>\n",
    "</div>"
   ]
  },
  {
   "cell_type": "code",
   "execution_count": 30,
   "metadata": {
    "ExecuteTime": {
     "end_time": "2020-08-09T11:51:07.371856Z",
     "start_time": "2020-08-09T11:51:07.368247Z"
    },
    "scrolled": true
   },
   "outputs": [
    {
     "name": "stdout",
     "output_type": "stream",
     "text": [
      "회귀 계수 :  [1.65]\n",
      "절편 :  0.636000000000001\n"
     ]
    }
   ],
   "source": [
    "# 추정된 회귀 모형의 회귀 계수 및 절편 값을 확인\n",
    "# 회귀 계수는 coef_ 속성, 절편은 intercept_ 속성에 각각 값이 할당\n",
    "print(\"회귀 계수 : \", model.coef_)\n",
    "print(\"절편 : \",model.intercept_)"
   ]
  },
  {
   "cell_type": "markdown",
   "metadata": {},
   "source": [
    "#### 5. 분석 결과를 플롯으로 표현"
   ]
  },
  {
   "cell_type": "code",
   "execution_count": 33,
   "metadata": {
    "ExecuteTime": {
     "end_time": "2020-08-09T11:51:19.581006Z",
     "start_time": "2020-08-09T11:51:19.443589Z"
    }
   },
   "outputs": [
    {
     "data": {
      "image/png": "[encoded data removed]",
      "text/plain": [
       "<Figure size 432x288 with 1 Axes>"
      ]
     },
     "metadata": {
      "needs_background": "light"
     },
     "output_type": "display_data"
    }
   ],
   "source": [
    "import matplotlib.pyplot as plt\n",
    "x = range(1,8)\n",
    "plt.title(\"Linear Regression\")\n",
    "plt.plot(X_train+X_test,y_train+y_test,'o',color = 'blue')\n",
    "plt.plot(x,model.coef_*x+model.intercept_,'--',color='red')\n",
    "plt.show()"
   ]
  },
  {
   "cell_type": "markdown",
   "metadata": {},
   "source": [
    "<div class=\"alert alert-success\" data-title=\"\">\n",
    "  <h2><i class=\"fa fa-tasks\" aria-hidden=\"true\"></i>  스탯츠모델을 사용한 단순 선형 회귀\n",
    "  </h2>\n",
    "</div>"
   ]
  },
  {
   "cell_type": "markdown",
   "metadata": {},
   "source": [
    "---\n",
    "\n",
    "### 스탯츠모델에서 최소제곱법으로 단순 선형 회귀 수행\n",
    "#### 1. api 모듈에 있는 add_constant 함수를 이용하여 상수항을 추가하도록 지정\n",
    "- 매개변수는 학습용 데이터의 독립변수 집합\n",
    "- 반환 결과는 회귀 모형에 상수항이 추가되도록 변형된 독립변수 집합"
   ]
  },
  {
   "cell_type": "code",
   "execution_count": 34,
   "metadata": {
    "ExecuteTime": {
     "end_time": "2020-08-09T11:51:21.511572Z",
     "start_time": "2020-08-09T11:51:20.382683Z"
    }
   },
   "outputs": [
    {
     "data": {
      "text/plain": [
       "array([[1., 1.],\n",
       "       [1., 2.],\n",
       "       [1., 3.],\n",
       "       [1., 4.],\n",
       "       [1., 5.]])"
      ]
     },
     "execution_count": 34,
     "metadata": {},
     "output_type": "execute_result"
    }
   ],
   "source": [
    "import statsmodels.api as sm\n",
    "X_train = sm.add_constant(X_train) # 이게 꼭 있어야함, 대상은 원본\n",
    "X_train"
   ]
  },
  {
   "cell_type": "markdown",
   "metadata": {},
   "source": [
    "#### 2. api 모듈에 있는 OLS를 이용하여, 선형 회귀를 수행할 수 있는 객체를 생성\n",
    "- 첫 번째 매개변수는 학습용 데이터의 종속변수 집합\n",
    "- 두 번째 매개변수는 학습용 데이터의 독립변수 집합"
   ]
  },
  {
   "cell_type": "markdown",
   "metadata": {},
   "source": [
    "#### 3. 선형 회귀를 수행할 객체에 대하여 fit 메소드를 이용하여 학습을 수행하여 회귀 모형을 추정\n",
    "- 학습용 데이터들을 이미 객체에 넣어 주었기 때문에, 매개변수로 데이터를 전달하지 않는다"
   ]
  },
  {
   "cell_type": "code",
   "execution_count": 35,
   "metadata": {
    "ExecuteTime": {
     "end_time": "2020-08-09T11:51:21.927650Z",
     "start_time": "2020-08-09T11:51:21.923234Z"
    }
   },
   "outputs": [],
   "source": [
    "model = sm.OLS(y_train,X_train) # 순서 주의!!\n",
    "fitted_model = model.fit() # 인자가 따로 필요없음"
   ]
  },
  {
   "cell_type": "markdown",
   "metadata": {},
   "source": [
    "#### 5. 추정된 회귀 모형에 대하여 summary 메소드를 이용하여 분석 결과를 평가한다. (R2, 회귀 계수, 기타 검정 통계량 등)"
   ]
  },
  {
   "cell_type": "code",
   "execution_count": 36,
   "metadata": {
    "ExecuteTime": {
     "end_time": "2020-08-09T11:51:22.711255Z",
     "start_time": "2020-08-09T11:51:22.689366Z"
    },
    "scrolled": false
   },
   "outputs": [
    {
     "name": "stderr",
     "output_type": "stream",
     "text": [
      "/Users/hoesungryu/opt/anaconda3/envs/tensorflow/lib/python3.7/site-packages/statsmodels/stats/stattools.py:71: ValueWarning: omni_normtest is not valid with less than 8 observations; 5 samples were given.\n",
      "  \"samples were given.\" % int(n), ValueWarning)\n"
     ]
    },
    {
     "data": {
      "text/html": [
       "<table class=\"simpletable\">\n",
       "<caption>OLS Regression Results</caption>\n",
       "<tr>\n",
       "  <th>Dep. Variable:</th>            <td>y</td>        <th>  R-squared:         </th> <td>   0.975</td>\n",
       "</tr>\n",
       "<tr>\n",
       "  <th>Model:</th>                   <td>OLS</td>       <th>  Adj. R-squared:    </th> <td>   0.966</td>\n",
       "</tr>\n",
       "<tr>\n",
       "  <th>Method:</th>             <td>Least Squares</td>  <th>  F-statistic:       </th> <td>   116.2</td>\n",
       "</tr>\n",
       "<tr>\n",
       "  <th>Date:</th>             <td>Sun, 09 Aug 2020</td> <th>  Prob (F-statistic):</th>  <td>0.00171</td>\n",
       "</tr>\n",
       "<tr>\n",
       "  <th>Time:</th>                 <td>20:51:22</td>     <th>  Log-Likelihood:    </th> <td> -2.1891</td>\n",
       "</tr>\n",
       "<tr>\n",
       "  <th>No. Observations:</th>      <td>     5</td>      <th>  AIC:               </th> <td>   8.378</td>\n",
       "</tr>\n",
       "<tr>\n",
       "  <th>Df Residuals:</th>          <td>     3</td>      <th>  BIC:               </th> <td>   7.597</td>\n",
       "</tr>\n",
       "<tr>\n",
       "  <th>Df Model:</th>              <td>     1</td>      <th>                     </th>     <td> </td>   \n",
       "</tr>\n",
       "<tr>\n",
       "  <th>Covariance Type:</th>      <td>nonrobust</td>    <th>                     </th>     <td> </td>   \n",
       "</tr>\n",
       "</table>\n",
       "<table class=\"simpletable\">\n",
       "<tr>\n",
       "    <td></td>       <th>coef</th>     <th>std err</th>      <th>t</th>      <th>P>|t|</th>  <th>[0.025</th>    <th>0.975]</th>  \n",
       "</tr>\n",
       "<tr>\n",
       "  <th>const</th> <td>    0.6360</td> <td>    0.508</td> <td>    1.253</td> <td> 0.299</td> <td>   -0.979</td> <td>    2.251</td>\n",
       "</tr>\n",
       "<tr>\n",
       "  <th>x1</th>    <td>    1.6500</td> <td>    0.153</td> <td>   10.781</td> <td> 0.002</td> <td>    1.163</td> <td>    2.137</td>\n",
       "</tr>\n",
       "</table>\n",
       "<table class=\"simpletable\">\n",
       "<tr>\n",
       "  <th>Omnibus:</th>       <td>   nan</td> <th>  Durbin-Watson:     </th> <td>   3.292</td>\n",
       "</tr>\n",
       "<tr>\n",
       "  <th>Prob(Omnibus):</th> <td>   nan</td> <th>  Jarque-Bera (JB):  </th> <td>   0.468</td>\n",
       "</tr>\n",
       "<tr>\n",
       "  <th>Skew:</th>          <td> 0.659</td> <th>  Prob(JB):          </th> <td>   0.791</td>\n",
       "</tr>\n",
       "<tr>\n",
       "  <th>Kurtosis:</th>      <td> 2.286</td> <th>  Cond. No.          </th> <td>    8.37</td>\n",
       "</tr>\n",
       "</table><br/><br/>Warnings:<br/>[1] Standard Errors assume that the covariance matrix of the errors is correctly specified."
      ],
      "text/plain": [
       "<class 'statsmodels.iolib.summary.Summary'>\n",
       "\"\"\"\n",
       "                            OLS Regression Results                            \n",
       "==============================================================================\n",
       "Dep. Variable:                      y   R-squared:                       0.975\n",
       "Model:                            OLS   Adj. R-squared:                  0.966\n",
       "Method:                 Least Squares   F-statistic:                     116.2\n",
       "Date:                Sun, 09 Aug 2020   Prob (F-statistic):            0.00171\n",
       "Time:                        20:51:22   Log-Likelihood:                -2.1891\n",
       "No. Observations:                   5   AIC:                             8.378\n",
       "Df Residuals:                       3   BIC:                             7.597\n",
       "Df Model:                           1                                         \n",
       "Covariance Type:            nonrobust                                         \n",
       "==============================================================================\n",
       "                 coef    std err          t      P>|t|      [0.025      0.975]\n",
       "------------------------------------------------------------------------------\n",
       "const          0.6360      0.508      1.253      0.299      -0.979       2.251\n",
       "x1             1.6500      0.153     10.781      0.002       1.163       2.137\n",
       "==============================================================================\n",
       "Omnibus:                          nan   Durbin-Watson:                   3.292\n",
       "Prob(Omnibus):                    nan   Jarque-Bera (JB):                0.468\n",
       "Skew:                           0.659   Prob(JB):                        0.791\n",
       "Kurtosis:                       2.286   Cond. No.                         8.37\n",
       "==============================================================================\n",
       "\n",
       "Warnings:\n",
       "[1] Standard Errors assume that the covariance matrix of the errors is correctly specified.\n",
       "\"\"\""
      ]
     },
     "execution_count": 36,
     "metadata": {},
     "output_type": "execute_result"
    }
   ],
   "source": [
    "fitted_model.summary()"
   ]
  },
  {
   "cell_type": "markdown",
   "metadata": {},
   "source": [
    "## 결과 해석 \n",
    "\n",
    "- R-squared = $0.975 (\\ge 0.65)$\n",
    "- P-value는 0.002으로 0.05보다 작은 유의미한 상태 (`P>⎪t⎪`에 해당) \n",
    "\n",
    "## 통계검정\n",
    "- 귀무 가설: 회귀계수는 0이다. \n",
    "- 대립 가설: 회귀계수는 0이 아니다 \n",
    "- p-value가 0.05보다 작다.\n",
    "\n",
    "    = 대립 가설을 지지하고 귀무가설을 기각하는 상황 \n",
    "\n",
    "    = 회귀 계수는 0이 아니다 \n",
    "\n",
    "    = 회귀 계수가 0이 아니라고 할 만한 충분한 증거가 있다. \n",
    "\n",
    "    = 해당 변수는 유의미하다\n"
   ]
  },
  {
   "cell_type": "markdown",
   "metadata": {},
   "source": [
    "#### 4. 추정된 회귀 모형에 대하여 predict 메소드를 이용하여 예측을 수행\n",
    "- 매개변수는 검증용 데이터의 독립변수 집합으로서, 학습때와 마찬가지로 미리 상수항을 추가\n",
    "- 반환 결과는 검증용 데이터에 대한 종속변수 예측값"
   ]
  },
  {
   "cell_type": "code",
   "execution_count": 37,
   "metadata": {
    "ExecuteTime": {
     "end_time": "2020-08-09T11:51:23.861261Z",
     "start_time": "2020-08-09T11:51:23.856386Z"
    }
   },
   "outputs": [
    {
     "data": {
      "text/plain": [
       "array([10.536, 12.186])"
      ]
     },
     "execution_count": 37,
     "metadata": {},
     "output_type": "execute_result"
    }
   ],
   "source": [
    "X_test = sm.add_constant(X_test)\n",
    "y_pred = fitted_model.predict(X_test)\n",
    "y_pred"
   ]
  },
  {
   "cell_type": "markdown",
   "metadata": {},
   "source": [
    "## 예측 결과 시각화 "
   ]
  },
  {
   "cell_type": "code",
   "execution_count": 49,
   "metadata": {
    "ExecuteTime": {
     "end_time": "2020-08-09T11:54:50.996881Z",
     "start_time": "2020-08-09T11:54:50.872317Z"
    }
   },
   "outputs": [
    {
     "data": {
      "image/png": "[encoded data removed]",
      "text/plain": [
       "<Figure size 432x288 with 1 Axes>"
      ]
     },
     "metadata": {
      "needs_background": "light"
     },
     "output_type": "display_data"
    }
   ],
   "source": [
    "import matplotlib.pyplot as plt\n",
    "# 잔차를 확인해볼까요?\n",
    "# 잔차도(Residual Plot)\n",
    "# fitted_model.resid.plot()\n",
    "plt.plot(fitted_model.resid, label=\"result\")\n",
    "plt.xticks([0,1,2,3,4])\n",
    "plt.xlabel(\"residual_number\")\n",
    "plt.show()"
   ]
  },
  {
   "cell_type": "code",
   "execution_count": null,
   "metadata": {},
   "outputs": [],
   "source": []
  }
 ],
 "metadata": {
  "hide_input": false,
  "kernelspec": {
   "display_name": "Python 3",
   "language": "python",
   "name": "python3"
  },
  "language_info": {
   "codemirror_mode": {
    "name": "ipython",
    "version": 3
   },
   "file_extension": ".py",
   "mimetype": "text/x-python",
   "name": "python",
   "nbconvert_exporter": "python",
   "pygments_lexer": "ipython3",
   "version": "3.7.0"
  },
  "toc": {
   "base_numbering": 1,
   "nav_menu": {},
   "number_sections": true,
   "sideBar": true,
   "skip_h1_title": true,
   "title_cell": "Table of Contents",
   "title_sidebar": "Contents",
   "toc_cell": true,
   "toc_position": {},
   "toc_section_display": true,
   "toc_window_display": false
  },
  "varInspector": {
   "cols": {
    "lenName": 16,
    "lenType": 16,
    "lenVar": 40
   },
   "kernels_config": {
    "python": {
     "delete_cmd_postfix": "",
     "delete_cmd_prefix": "del ",
     "library": "var_list.py",
     "varRefreshCmd": "print(var_dic_list())"
    },
    "r": {
     "delete_cmd_postfix": ") ",
     "delete_cmd_prefix": "rm(",
     "library": "var_list.r",
     "varRefreshCmd": "cat(var_dic_list()) "
    }
   },
   "types_to_exclude": [
    "module",
    "function",
    "builtin_function_or_method",
    "instance",
    "_Feature"
   ],
   "window_display": false
  }
 },
 "nbformat": 4,
 "nbformat_minor": 2
}

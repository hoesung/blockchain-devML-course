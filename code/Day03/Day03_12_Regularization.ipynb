{
 "cells": [
  {
   "cell_type": "code",
   "execution_count": 1,
   "metadata": {
    "ExecuteTime": {
     "end_time": "2020-08-10T07:32:18.504737Z",
     "start_time": "2020-08-10T07:32:18.170541Z"
    }
   },
   "outputs": [],
   "source": [
    "# 당뇨병 데이터 로드\n",
    "from sklearn.datasets import load_diabetes\n",
    "diab = load_diabetes()"
   ]
  },
  {
   "cell_type": "code",
   "execution_count": 2,
   "metadata": {
    "ExecuteTime": {
     "end_time": "2020-08-10T07:32:24.543676Z",
     "start_time": "2020-08-10T07:32:24.540712Z"
    }
   },
   "outputs": [],
   "source": [
    "# X, y를 설정 \n",
    "X = diab.data \n",
    "y = diab.target"
   ]
  },
  {
   "cell_type": "code",
   "execution_count": 4,
   "metadata": {
    "ExecuteTime": {
     "end_time": "2020-08-10T07:33:17.524563Z",
     "start_time": "2020-08-10T07:33:17.520735Z"
    }
   },
   "outputs": [],
   "source": [
    "# train_test_split\n",
    "from sklearn.model_selection import train_test_split\n",
    "X_train, X_test, y_train, y_test = train_test_split(X,y, test_size=0.3,\n",
    "                                                   random_state=42)"
   ]
  },
  {
   "cell_type": "code",
   "execution_count": 5,
   "metadata": {
    "ExecuteTime": {
     "end_time": "2020-08-10T07:33:17.909329Z",
     "start_time": "2020-08-10T07:33:17.881583Z"
    }
   },
   "outputs": [],
   "source": [
    "# L2 규제 == 릿지 규제\n",
    "from sklearn.linear_model import Ridge\n",
    "ridge = Ridge( alpha=0.20 ) # 릿지 회귀 , alpha 값은 우리가 정한다. \n",
    "ridge_model = ridge.fit(X_train, y_train) "
   ]
  },
  {
   "cell_type": "code",
   "execution_count": 6,
   "metadata": {
    "ExecuteTime": {
     "end_time": "2020-08-10T07:33:18.338664Z",
     "start_time": "2020-08-10T07:33:18.334156Z"
    }
   },
   "outputs": [
    {
     "name": "stdout",
     "output_type": "stream",
     "text": [
      "r2 score:  0.4788826351119535\n"
     ]
    }
   ],
   "source": [
    "# 릿지 모델로 예측하기 \n",
    "y_pred = ridge_model.predict(X_test)\n",
    "# 평가지표 R2_score\n",
    "from sklearn.metrics import r2_score\n",
    "print('r2 score: ',r2_score(y_test, y_pred))"
   ]
  },
  {
   "cell_type": "code",
   "execution_count": 7,
   "metadata": {
    "ExecuteTime": {
     "end_time": "2020-08-10T07:33:50.245213Z",
     "start_time": "2020-08-10T07:33:50.241374Z"
    }
   },
   "outputs": [
    {
     "name": "stdout",
     "output_type": "stream",
     "text": [
      "0.0\n",
      "0.011111111111111112\n",
      "0.022222222222222223\n",
      "0.03333333333333333\n",
      "0.044444444444444446\n",
      "0.05555555555555556\n",
      "0.06666666666666667\n",
      "0.07777777777777778\n",
      "0.08888888888888889\n",
      "0.1\n"
     ]
    }
   ],
   "source": [
    "for alpha in np.linspace(0,0.1,10):\n",
    "    print(alpha)"
   ]
  },
  {
   "cell_type": "code",
   "execution_count": 8,
   "metadata": {
    "ExecuteTime": {
     "end_time": "2020-08-10T07:34:35.911980Z",
     "start_time": "2020-08-10T07:34:35.893470Z"
    }
   },
   "outputs": [
    {
     "name": "stdout",
     "output_type": "stream",
     "text": [
      "0.0일때, r2 score:  0.477292017415733\n",
      "0.1111111111111111일때, r2 score:  0.48037716061378677\n",
      "0.2222222222222222일때, r2 score:  0.4780868243644475\n",
      "0.3333333333333333일때, r2 score:  0.4725043290582873\n",
      "0.4444444444444444일때, r2 score:  0.4652667702010779\n",
      "0.5555555555555556일때, r2 score:  0.45720902675514286\n",
      "0.6666666666666666일때, r2 score:  0.44878197706448153\n",
      "0.7777777777777777일때, r2 score:  0.4402402936000722\n",
      "0.8888888888888888일때, r2 score:  0.4317321280668929\n",
      "1.0일때, r2 score:  0.423344951400237\n"
     ]
    }
   ],
   "source": [
    "# numpy linspace 이용\n",
    "import numpy as np \n",
    "for alpha in np.linspace(0,1,10):\n",
    "    ridge = Ridge( alpha=alpha) # 릿지 회귀 , alpha 값은 우리가 정한다. \n",
    "    ridge_model = ridge.fit(X_train, y_train)\n",
    "    y_pred = ridge_model.predict(X_test)\n",
    "    print(f'{alpha}일때, r2 score: ',r2_score(y_test, y_pred))"
   ]
  },
  {
   "cell_type": "markdown",
   "metadata": {},
   "source": [
    "<div class=\"alert alert-success\" data-title=\"\">\n",
    "  <h2><i class=\"fa fa-tasks\" aria-hidden=\"true\"></i> 라쏘로 당뇨병 예측\n",
    "  </h2>\n",
    "</div>\n",
    "\n",
    "```python\n",
    "from sklearn.linear_model import Lasso\n",
    "\n",
    "```\n",
    "\n"
   ]
  },
  {
   "cell_type": "code",
   "execution_count": 15,
   "metadata": {
    "ExecuteTime": {
     "end_time": "2020-08-10T07:47:11.479769Z",
     "start_time": "2020-08-10T07:47:11.463095Z"
    }
   },
   "outputs": [
    {
     "name": "stdout",
     "output_type": "stream",
     "text": [
      "0.1111111111111111일때, r2 score:  0.48545374019953336\n",
      "0.2222222222222222일때, r2 score:  0.4790535051510716\n",
      "0.3333333333333333일때, r2 score:  0.46915218738410613\n",
      "0.4444444444444444일때, r2 score:  0.4613653904364994\n",
      "0.5555555555555556일때, r2 score:  0.4496384051026697\n",
      "0.6666666666666666일때, r2 score:  0.43341107127442036\n",
      "0.7777777777777777일때, r2 score:  0.41268495095187696\n",
      "0.8888888888888888일때, r2 score:  0.38814270252723626\n",
      "1.0일때, r2 score:  0.3618987156871779\n"
     ]
    }
   ],
   "source": [
    "# L2 규제 == 릿지 규제\n",
    "from sklearn.linear_model import Lasso\n",
    "\n",
    "# numpy linspace 이용\n",
    "import numpy as np \n",
    "# converge error --> np.linspace(0,1,10)[1:]\n",
    "for alpha in np.linspace(0,1,10)[1:]:\n",
    "    lasso = Lasso( alpha=alpha ) # Lasso 정의 \n",
    "    lasso.fit(X_train, y_train) # Lasso 학습 \n",
    "    y_pred_lasso = lasso.predict(X_test)\n",
    "    \n",
    "    print(f'{alpha}일때, r2 score: ',r2_score(y_test, y_pred_lasso))"
   ]
  },
  {
   "cell_type": "markdown",
   "metadata": {
    "ExecuteTime": {
     "end_time": "2020-08-09T17:03:44.068349Z",
     "start_time": "2020-08-09T17:03:44.063664Z"
    }
   },
   "source": [
    "<div class=\"alert alert-success\" data-title=\"\">\n",
    "  <h2><i class=\"fa fa-tasks\" aria-hidden=\"true\"></i> 엘라스틱으로\n",
    "  </h2>\n",
    "</div>\n",
    "\n",
    "```python\n",
    "from sklearn.linear_model import ElasticNet\n",
    "```"
   ]
  },
  {
   "cell_type": "code",
   "execution_count": 13,
   "metadata": {
    "ExecuteTime": {
     "end_time": "2020-08-10T07:43:31.702712Z",
     "start_time": "2020-08-10T07:43:31.700161Z"
    }
   },
   "outputs": [],
   "source": [
    "from sklearn.linear_model import ElasticNet"
   ]
  },
  {
   "cell_type": "code",
   "execution_count": 14,
   "metadata": {
    "ExecuteTime": {
     "end_time": "2020-08-10T07:43:32.463116Z",
     "start_time": "2020-08-10T07:43:32.460590Z"
    }
   },
   "outputs": [],
   "source": [
    "# alpha=1.0,l1_ratio=0.5,\n",
    "elastic = ElasticNet()\n",
    "elastic.fit(X_train,y_train)"
   ]
  },
  {
   "cell_type": "code",
   "execution_count": null,
   "metadata": {},
   "outputs": [],
   "source": [
    "# 엘라스틱 모델로 예측하기 \n",
    "y_pred = elastic.predict(X_test)\n",
    "# 평가지표 R2_score\n",
    "from sklearn.metrics import r2_score\n",
    "print('r2 score: ',r2_score(y_test, y_pred))"
   ]
  },
  {
   "cell_type": "code",
   "execution_count": null,
   "metadata": {},
   "outputs": [],
   "source": []
  }
 ],
 "metadata": {
  "hide_input": false,
  "kernelspec": {
   "display_name": "Python 3",
   "language": "python",
   "name": "python3"
  },
  "language_info": {
   "codemirror_mode": {
    "name": "ipython",
    "version": 3
   },
   "file_extension": ".py",
   "mimetype": "text/x-python",
   "name": "python",
   "nbconvert_exporter": "python",
   "pygments_lexer": "ipython3",
   "version": "3.7.0"
  },
  "toc": {
   "base_numbering": 1,
   "nav_menu": {},
   "number_sections": true,
   "sideBar": true,
   "skip_h1_title": false,
   "title_cell": "Table of Contents",
   "title_sidebar": "Contents",
   "toc_cell": false,
   "toc_position": {},
   "toc_section_display": true,
   "toc_window_display": false
  },
  "varInspector": {
   "cols": {
    "lenName": 16,
    "lenType": 16,
    "lenVar": 40
   },
   "kernels_config": {
    "python": {
     "delete_cmd_postfix": "",
     "delete_cmd_prefix": "del ",
     "library": "var_list.py",
     "varRefreshCmd": "print(var_dic_list())"
    },
    "r": {
     "delete_cmd_postfix": ") ",
     "delete_cmd_prefix": "rm(",
     "library": "var_list.r",
     "varRefreshCmd": "cat(var_dic_list()) "
    }
   },
   "position": {
    "height": "556.973px",
    "left": "866px",
    "right": "20px",
    "top": "89px",
    "width": "350px"
   },
   "types_to_exclude": [
    "module",
    "function",
    "builtin_function_or_method",
    "instance",
    "_Feature"
   ],
   "window_display": false
  }
 },
 "nbformat": 4,
 "nbformat_minor": 4
}

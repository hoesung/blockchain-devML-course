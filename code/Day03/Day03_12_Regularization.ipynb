{
 "cells": [
  {
   "cell_type": "code",
   "execution_count": 8,
   "metadata": {
    "ExecuteTime": {
     "end_time": "2020-08-09T17:01:50.736540Z",
     "start_time": "2020-08-09T17:01:50.715563Z"
    }
   },
   "outputs": [],
   "source": [
    "# 당뇨병 데이터 로드\n",
    "from sklearn.datasets import load_diabetes\n",
    "diab = load_diabetes()"
   ]
  },
  {
   "cell_type": "code",
   "execution_count": 9,
   "metadata": {
    "ExecuteTime": {
     "end_time": "2020-08-09T17:01:51.003755Z",
     "start_time": "2020-08-09T17:01:51.000689Z"
    }
   },
   "outputs": [],
   "source": [
    "# X, y를 설정 \n",
    "X = diab.data\n",
    "y = diab.target"
   ]
  },
  {
   "cell_type": "code",
   "execution_count": 10,
   "metadata": {
    "ExecuteTime": {
     "end_time": "2020-08-09T17:01:51.381546Z",
     "start_time": "2020-08-09T17:01:51.377528Z"
    }
   },
   "outputs": [],
   "source": [
    "# train_test_split\n",
    "from sklearn.model_selection import train_test_split\n",
    "X_train, X_test, y_train, y_test = train_test_split(X,y, test_size=0.3,\n",
    "                                                   random_state=42)"
   ]
  },
  {
   "cell_type": "code",
   "execution_count": 12,
   "metadata": {
    "ExecuteTime": {
     "end_time": "2020-08-09T17:01:54.810616Z",
     "start_time": "2020-08-09T17:01:54.806244Z"
    }
   },
   "outputs": [],
   "source": [
    "# L2 규제 == 릿지 규제\n",
    "from sklearn.linear_model import Ridge\n",
    "ridge = Ridge( alpha=0.151 ) # 릿지 회귀 , alpha 값은 우리가 정한다. \n",
    "ridge_model = ridge.fit(X_train, y_train) "
   ]
  },
  {
   "cell_type": "code",
   "execution_count": 13,
   "metadata": {
    "ExecuteTime": {
     "end_time": "2020-08-09T17:02:04.658318Z",
     "start_time": "2020-08-09T17:02:04.653661Z"
    }
   },
   "outputs": [
    {
     "name": "stdout",
     "output_type": "stream",
     "text": [
      "r2 score:  0.48009234128991485\n"
     ]
    }
   ],
   "source": [
    "# 릿지 모델로 예측하기 \n",
    "y_pred = ridge_model.predict(X_test)\n",
    "# 평가지표 R2_score\n",
    "from sklearn.metrics import r2_score\n",
    "print('r2 score: ',r2_score(y_test, y_pred))"
   ]
  },
  {
   "cell_type": "code",
   "execution_count": 15,
   "metadata": {
    "ExecuteTime": {
     "end_time": "2020-08-09T17:02:48.395664Z",
     "start_time": "2020-08-09T17:02:48.378742Z"
    }
   },
   "outputs": [
    {
     "name": "stdout",
     "output_type": "stream",
     "text": [
      "0.0일때, r2 score:  0.477292017415733\n",
      "0.011111111111111112일때, r2 score:  0.4776894953146372\n",
      "0.022222222222222223일때, r2 score:  0.4780336471557681\n",
      "0.03333333333333333일때, r2 score:  0.47850935867604594\n",
      "0.044444444444444446일때, r2 score:  0.47897691382974994\n",
      "0.05555555555555556일때, r2 score:  0.4793897074136987\n",
      "0.06666666666666667일때, r2 score:  0.4797322342727224\n",
      "0.07777777777777778일때, r2 score:  0.4800005501066924\n",
      "0.08888888888888889일때, r2 score:  0.48019545143051534\n",
      "0.1일때, r2 score:  0.48031976508484586\n"
     ]
    }
   ],
   "source": [
    "# numpy linspace 이용\n",
    "for alpha in np.linspace(0,0.1,10):\n",
    "    ridge = Ridge( alpha=alpha) # 릿지 회귀 , alpha 값은 우리가 정한다. \n",
    "    ridge_model = ridge.fit(X_train, y_train)\n",
    "    y_pred = ridge_model.predict(X_test)\n",
    "    print(f'{alpha}일때, r2 score: ',r2_score(y_test, y_pred))"
   ]
  },
  {
   "cell_type": "markdown",
   "metadata": {},
   "source": [
    "<div class=\"alert alert-success\" data-title=\"\">\n",
    "  <h2><i class=\"fa fa-tasks\" aria-hidden=\"true\"></i> 라쏘로 당뇨병 예측\n",
    "  </h2>\n",
    "</div>\n",
    "\n",
    "```python\n",
    "from sklearn.linear_model import Lasso\n",
    "\n",
    "```\n",
    "\n"
   ]
  },
  {
   "cell_type": "code",
   "execution_count": null,
   "metadata": {},
   "outputs": [],
   "source": []
  },
  {
   "cell_type": "markdown",
   "metadata": {
    "ExecuteTime": {
     "end_time": "2020-08-09T17:03:44.068349Z",
     "start_time": "2020-08-09T17:03:44.063664Z"
    }
   },
   "source": [
    "<div class=\"alert alert-success\" data-title=\"\">\n",
    "  <h2><i class=\"fa fa-tasks\" aria-hidden=\"true\"></i> 엘라스틱으로\n",
    "  </h2>\n",
    "</div>\n",
    "\n",
    "```python\n",
    "from sklearn.linear_model import ElasticNet\n",
    "```"
   ]
  },
  {
   "cell_type": "code",
   "execution_count": null,
   "metadata": {},
   "outputs": [],
   "source": []
  }
 ],
 "metadata": {
  "hide_input": false,
  "kernelspec": {
   "display_name": "Python 3",
   "language": "python",
   "name": "python3"
  },
  "language_info": {
   "codemirror_mode": {
    "name": "ipython",
    "version": 3
   },
   "file_extension": ".py",
   "mimetype": "text/x-python",
   "name": "python",
   "nbconvert_exporter": "python",
   "pygments_lexer": "ipython3",
   "version": "3.7.0"
  },
  "toc": {
   "base_numbering": 1,
   "nav_menu": {},
   "number_sections": true,
   "sideBar": true,
   "skip_h1_title": false,
   "title_cell": "Table of Contents",
   "title_sidebar": "Contents",
   "toc_cell": false,
   "toc_position": {},
   "toc_section_display": true,
   "toc_window_display": false
  },
  "varInspector": {
   "cols": {
    "lenName": 16,
    "lenType": 16,
    "lenVar": 40
   },
   "kernels_config": {
    "python": {
     "delete_cmd_postfix": "",
     "delete_cmd_prefix": "del ",
     "library": "var_list.py",
     "varRefreshCmd": "print(var_dic_list())"
    },
    "r": {
     "delete_cmd_postfix": ") ",
     "delete_cmd_prefix": "rm(",
     "library": "var_list.r",
     "varRefreshCmd": "cat(var_dic_list()) "
    }
   },
   "types_to_exclude": [
    "module",
    "function",
    "builtin_function_or_method",
    "instance",
    "_Feature"
   ],
   "window_display": false
  }
 },
 "nbformat": 4,
 "nbformat_minor": 4
}

{
 "cells": [
  {
   "cell_type": "markdown",
   "metadata": {},
   "source": [
    "---\n",
    "<div class=\"alert alert-success\" data-title=\"\">\n",
    "  <h2><i class=\"fa fa-tasks\" aria-hidden=\"true\"></i> 사이킷런을 사용한 Boston 집값 예측\n",
    "  </h2>\n",
    "</div>\n",
    "\n",
    "<img src = \"https://cdn10.bostonmagazine.com/wp-content/uploads/sites/2/2018/05/boston-rent.jpg\" width = \"700\" >\n",
    "\n",
    "\n",
    "이번 실습 시간에 다뤄볼 데이터는 보스턴 시의 주택 가격과 관련된 데이터입니다.\n",
    "\n",
    "- 주택 가격에 영향을 끼치는 여러 요소들 (X, Features)\n",
    "- 주택 가격 (Y, Target)\n"
   ]
  },
  {
   "cell_type": "markdown",
   "metadata": {},
   "source": [
    "## 변수설명 \n",
    "\n",
    "1) Target (Y) data\n",
    "* Target: 1978년 보스턴 주택 가격\n",
    "\n",
    "2) Feature (X) data\n",
    "* CRIM: 범죄율\n",
    "* INDUS: 비소매상업지역 면적 비율\n",
    "* NOX: 일산화질소 농도\n",
    "* RM: 주택당 방 개수\n",
    "* LSTAT: 인구 중 하위 계층 비율\n",
    "* B: 인구 중 흑인 비율\n",
    "* PTRATIO: 학생/교사 비율\n",
    "* ZN: 25,000 평방피트를 초과하는 거주지역 비율\n",
    "* CHAS: 찰스강의 경계에 위치한 경우는 1, 아니면 0\n",
    "* AGE: 1940년 이전에 건축된 주택의 비율\n",
    "* RAD: 방사형 고속도로까지의 거리\n",
    "* DIS: 직업센터의 거리\n",
    "* TAX: 재산세율\n",
    "\n",
    "---"
   ]
  },
  {
   "cell_type": "markdown",
   "metadata": {},
   "source": [
    "## 데이터 살펴보기 "
   ]
  },
  {
   "cell_type": "code",
   "execution_count": 2,
   "metadata": {
    "ExecuteTime": {
     "end_time": "2020-08-09T13:49:56.979767Z",
     "start_time": "2020-08-09T13:49:56.426567Z"
    },
    "scrolled": true
   },
   "outputs": [],
   "source": [
    "from sklearn.datasets import load_boston\n",
    "boston = load_boston()"
   ]
  },
  {
   "cell_type": "code",
   "execution_count": 3,
   "metadata": {
    "ExecuteTime": {
     "end_time": "2020-08-09T13:49:57.363809Z",
     "start_time": "2020-08-09T13:49:57.004763Z"
    },
    "scrolled": true
   },
   "outputs": [
    {
     "data": {
      "text/html": [
       "<div>\n",
       "<style scoped>\n",
       "    .dataframe tbody tr th:only-of-type {\n",
       "        vertical-align: middle;\n",
       "    }\n",
       "\n",
       "    .dataframe tbody tr th {\n",
       "        vertical-align: top;\n",
       "    }\n",
       "\n",
       "    .dataframe thead th {\n",
       "        text-align: right;\n",
       "    }\n",
       "</style>\n",
       "<table border=\"1\" class=\"dataframe\">\n",
       "  <thead>\n",
       "    <tr style=\"text-align: right;\">\n",
       "      <th></th>\n",
       "      <th>CRIM</th>\n",
       "      <th>ZN</th>\n",
       "      <th>INDUS</th>\n",
       "      <th>CHAS</th>\n",
       "      <th>NOX</th>\n",
       "      <th>RM</th>\n",
       "      <th>AGE</th>\n",
       "      <th>DIS</th>\n",
       "      <th>RAD</th>\n",
       "      <th>TAX</th>\n",
       "      <th>PTRATIO</th>\n",
       "      <th>B</th>\n",
       "      <th>LSTAT</th>\n",
       "      <th>PRICE</th>\n",
       "    </tr>\n",
       "  </thead>\n",
       "  <tbody>\n",
       "    <tr>\n",
       "      <th>1</th>\n",
       "      <td>0.00632</td>\n",
       "      <td>18.0</td>\n",
       "      <td>2.31</td>\n",
       "      <td>0.0</td>\n",
       "      <td>0.538</td>\n",
       "      <td>6.575</td>\n",
       "      <td>65.2</td>\n",
       "      <td>4.0900</td>\n",
       "      <td>1.0</td>\n",
       "      <td>296.0</td>\n",
       "      <td>15.3</td>\n",
       "      <td>396.90</td>\n",
       "      <td>4.98</td>\n",
       "      <td>24.0</td>\n",
       "    </tr>\n",
       "    <tr>\n",
       "      <th>2</th>\n",
       "      <td>0.02731</td>\n",
       "      <td>0.0</td>\n",
       "      <td>7.07</td>\n",
       "      <td>0.0</td>\n",
       "      <td>0.469</td>\n",
       "      <td>6.421</td>\n",
       "      <td>78.9</td>\n",
       "      <td>4.9671</td>\n",
       "      <td>2.0</td>\n",
       "      <td>242.0</td>\n",
       "      <td>17.8</td>\n",
       "      <td>396.90</td>\n",
       "      <td>9.14</td>\n",
       "      <td>21.6</td>\n",
       "    </tr>\n",
       "    <tr>\n",
       "      <th>3</th>\n",
       "      <td>0.02729</td>\n",
       "      <td>0.0</td>\n",
       "      <td>7.07</td>\n",
       "      <td>0.0</td>\n",
       "      <td>0.469</td>\n",
       "      <td>7.185</td>\n",
       "      <td>61.1</td>\n",
       "      <td>4.9671</td>\n",
       "      <td>2.0</td>\n",
       "      <td>242.0</td>\n",
       "      <td>17.8</td>\n",
       "      <td>392.83</td>\n",
       "      <td>4.03</td>\n",
       "      <td>34.7</td>\n",
       "    </tr>\n",
       "    <tr>\n",
       "      <th>4</th>\n",
       "      <td>0.03237</td>\n",
       "      <td>0.0</td>\n",
       "      <td>2.18</td>\n",
       "      <td>0.0</td>\n",
       "      <td>0.458</td>\n",
       "      <td>6.998</td>\n",
       "      <td>45.8</td>\n",
       "      <td>6.0622</td>\n",
       "      <td>3.0</td>\n",
       "      <td>222.0</td>\n",
       "      <td>18.7</td>\n",
       "      <td>394.63</td>\n",
       "      <td>2.94</td>\n",
       "      <td>33.4</td>\n",
       "    </tr>\n",
       "    <tr>\n",
       "      <th>5</th>\n",
       "      <td>0.06905</td>\n",
       "      <td>0.0</td>\n",
       "      <td>2.18</td>\n",
       "      <td>0.0</td>\n",
       "      <td>0.458</td>\n",
       "      <td>7.147</td>\n",
       "      <td>54.2</td>\n",
       "      <td>6.0622</td>\n",
       "      <td>3.0</td>\n",
       "      <td>222.0</td>\n",
       "      <td>18.7</td>\n",
       "      <td>396.90</td>\n",
       "      <td>5.33</td>\n",
       "      <td>36.2</td>\n",
       "    </tr>\n",
       "  </tbody>\n",
       "</table>\n",
       "</div>"
      ],
      "text/plain": [
       "      CRIM    ZN  INDUS  CHAS    NOX     RM   AGE     DIS  RAD    TAX  \\\n",
       "1  0.00632  18.0   2.31   0.0  0.538  6.575  65.2  4.0900  1.0  296.0   \n",
       "2  0.02731   0.0   7.07   0.0  0.469  6.421  78.9  4.9671  2.0  242.0   \n",
       "3  0.02729   0.0   7.07   0.0  0.469  7.185  61.1  4.9671  2.0  242.0   \n",
       "4  0.03237   0.0   2.18   0.0  0.458  6.998  45.8  6.0622  3.0  222.0   \n",
       "5  0.06905   0.0   2.18   0.0  0.458  7.147  54.2  6.0622  3.0  222.0   \n",
       "\n",
       "   PTRATIO       B  LSTAT  PRICE  \n",
       "1     15.3  396.90   4.98   24.0  \n",
       "2     17.8  396.90   9.14   21.6  \n",
       "3     17.8  392.83   4.03   34.7  \n",
       "4     18.7  394.63   2.94   33.4  \n",
       "5     18.7  396.90   5.33   36.2  "
      ]
     },
     "execution_count": 3,
     "metadata": {},
     "output_type": "execute_result"
    }
   ],
   "source": [
    "import pandas as pd\n",
    "boston_df = pd.DataFrame(boston.data, \n",
    "                         columns=boston.feature_names, \n",
    "                         index=range(1,len(boston.data)+1))\n",
    "boston_df['PRICE'] = boston.target\n",
    "boston_df.head()"
   ]
  },
  {
   "cell_type": "markdown",
   "metadata": {},
   "source": [
    "<div class=\"alert alert-success\" data-title=\"\">\n",
    "  <h2><i class=\"fa fa-tasks\" aria-hidden=\"true\"></i> 정방향 학습 알아보기\n",
    "  </h2>\n",
    "</div>\n",
    "\n",
    "### 순서\n",
    "1. 무작위로 $w,b$ 정하기\n",
    "2. 샘플 하나 ($x_0$)에 대하여 $\\hat y_0$ 계산하기 \n",
    "3. $\\hat y$ and $y$  비교 \n",
    "4. $\\hat y - y $ 이 작아지도록 $w,b$ update\n",
    "5. For all samples, 같은 작업 반복하기 \n"
   ]
  },
  {
   "cell_type": "code",
   "execution_count": 37,
   "metadata": {
    "ExecuteTime": {
     "end_time": "2020-08-09T14:03:46.683030Z",
     "start_time": "2020-08-09T14:03:46.678794Z"
    },
    "scrolled": true
   },
   "outputs": [
    {
     "name": "stdout",
     "output_type": "stream",
     "text": [
      "독립변수(X):  6.575\n",
      "종속변수(y): 24.0\n"
     ]
    }
   ],
   "source": [
    "x0 = boston_df['RM'].iloc[0]\n",
    "y0 = boston_df['PRICE'].iloc[0]\n",
    "print('독립변수(X): ',x0)\n",
    "print('종속변수(y):',y0)"
   ]
  },
  {
   "cell_type": "code",
   "execution_count": 38,
   "metadata": {
    "ExecuteTime": {
     "end_time": "2020-08-09T14:03:46.904475Z",
     "start_time": "2020-08-09T14:03:46.899858Z"
    }
   },
   "outputs": [
    {
     "name": "stdout",
     "output_type": "stream",
     "text": [
      "초기 가중치: 1.0\n",
      "초기 편향값: 1.0\n"
     ]
    }
   ],
   "source": [
    "# 1. 초기값 설정 (무작위로 w,b 정하기)\n",
    "w0 = 1.0 \n",
    "b0 = 1.0\n",
    "print('초기 가중치:',w_0)\n",
    "print('초기 편향값:',b_0)"
   ]
  },
  {
   "cell_type": "code",
   "execution_count": null,
   "metadata": {
    "ExecuteTime": {
     "end_time": "2020-08-09T14:03:47.319177Z",
     "start_time": "2020-08-09T14:03:47.314690Z"
    }
   },
   "outputs": [],
   "source": [
    "# 2. 샘플 하나 x0에 대하여 hat y0 구하기 \n",
    "from IPython.display import display, Markdown\n",
    "\n",
    "# y_hat = b0 + w0*x0\n",
    "# w, b 가 바뀔대  y_hat 이 어떻게 변하는지 확인 \n",
    "y0_hat = b0 + x0*w0"
   ]
  },
  {
   "cell_type": "code",
   "execution_count": 40,
   "metadata": {
    "ExecuteTime": {
     "end_time": "2020-08-09T14:07:20.760976Z",
     "start_time": "2020-08-09T14:07:20.755550Z"
    }
   },
   "outputs": [
    {
     "data": {
      "text/markdown": [
       "$\\hat y_0: 7.575$"
      ],
      "text/plain": [
       "<IPython.core.display.Markdown object>"
      ]
     },
     "metadata": {},
     "output_type": "display_data"
    },
    {
     "data": {
      "text/markdown": [
       "$y_0: 24.0$"
      ],
      "text/plain": [
       "<IPython.core.display.Markdown object>"
      ]
     },
     "metadata": {},
     "output_type": "display_data"
    }
   ],
   "source": [
    "# 3. 비교 \n",
    "display(Markdown(rf\"\"\"$\\hat y_0: {y0_hat}$\"\"\"))\n",
    "display(Markdown(rf\"\"\"$y_0: {y0}$\"\"\"))"
   ]
  },
  {
   "cell_type": "code",
   "execution_count": 41,
   "metadata": {
    "ExecuteTime": {
     "end_time": "2020-08-09T14:09:05.563989Z",
     "start_time": "2020-08-09T14:09:05.560181Z"
    }
   },
   "outputs": [
    {
     "name": "stdout",
     "output_type": "stream",
     "text": [
      "두번째 가중치: 5.0\n",
      "두번째 편향값: 5.0\n"
     ]
    }
   ],
   "source": [
    "# 4. 오차(hat y - y)가 작아지도록 (w,b) update\n",
    "\n",
    "w1 = 5.0 \n",
    "b1 = 5.0\n",
    "print('두번째 가중치:',w1)\n",
    "print('두번째 편향값:',b1)"
   ]
  },
  {
   "cell_type": "code",
   "execution_count": 43,
   "metadata": {
    "ExecuteTime": {
     "end_time": "2020-08-09T14:10:33.414051Z",
     "start_time": "2020-08-09T14:10:33.410762Z"
    }
   },
   "outputs": [],
   "source": [
    "# 5. 다음 샘플 가져오기 \n",
    "x1 = boston_df['RM'].iloc[1]\n",
    "y1 = boston_df['PRICE'].iloc[1]"
   ]
  },
  {
   "cell_type": "code",
   "execution_count": 44,
   "metadata": {
    "ExecuteTime": {
     "end_time": "2020-08-09T14:10:40.264512Z",
     "start_time": "2020-08-09T14:10:40.261551Z"
    }
   },
   "outputs": [],
   "source": [
    "# 5. hat y1 구하기 \n",
    "from IPython.display import display, Markdown\n",
    "\n",
    "# y_hat = b0 + w0*x0\n",
    "y1_hat = b1 + x1*w1"
   ]
  },
  {
   "cell_type": "code",
   "execution_count": 45,
   "metadata": {
    "ExecuteTime": {
     "end_time": "2020-08-09T14:10:48.554615Z",
     "start_time": "2020-08-09T14:10:48.548618Z"
    }
   },
   "outputs": [
    {
     "data": {
      "text/markdown": [
       "$\\hat y_1: 37.105000000000004$"
      ],
      "text/plain": [
       "<IPython.core.display.Markdown object>"
      ]
     },
     "metadata": {},
     "output_type": "display_data"
    },
    {
     "data": {
      "text/markdown": [
       "$y_1 : 21.6$"
      ],
      "text/plain": [
       "<IPython.core.display.Markdown object>"
      ]
     },
     "metadata": {},
     "output_type": "display_data"
    }
   ],
   "source": [
    "# 6. 다시 비교 \n",
    "display(Markdown(rf\"\"\"$\\hat y_1: {y1_hat}$\"\"\"))\n",
    "display(Markdown(rf\"\"\"$y_1 : {y1}$\"\"\"))"
   ]
  },
  {
   "cell_type": "markdown",
   "metadata": {},
   "source": [
    "<div class=\"alert alert-success\" data-title=\"\">\n",
    "  <h2><i class=\"fa fa-tasks\" aria-hidden=\"true\"></i> 역전파 학습법 알아보기\n",
    "  </h2>\n",
    "</div>\n"
   ]
  },
  {
   "cell_type": "markdown",
   "metadata": {},
   "source": [
    "## 회귀식 정의하기 \n",
    "$$ \\hat{y} = b+ w X$$\n",
    "\n",
    "## 제곱 오차 정의하기\n",
    "$$ Residual = (y - \\hat{y})^2$$\n",
    "\n",
    "## 가중치에 대하여 제곱오차 미분하기 \n",
    "$$\\frac{\\partial \\mbox{Residual}}{\\partial w} = \\frac{\\partial(y - \\hat{y})^2}{\\partial w}$$\n",
    "$$\\quad \\qquad \\qquad \\qquad  = 2(y - \\hat{y})(-\\frac{\\partial}{\\partial w}\\hat{y}) $$\n",
    "$$\\quad \\qquad \\qquad  \\mbox{ } \\mbox{ }  = 2(y - \\hat{y})(-x) $$\n",
    "\n",
    "## 가중치 업데이트 \n",
    "손실함수의 낮은 쪽으로 가고 싶기 떄문에 미분값을 빼줌.\n",
    "$$ w_{n+1} = w_n  - \\frac{\\partial \\mbox{Residual}}{\\partial w} $$ \n",
    "$$ w_{n+1} = w_n  + 2(y - \\hat{y})(x)$$\n",
    "\n",
    "## 절편에 대하여 제곱오차 미분하기 \n",
    "$$\\frac{\\partial \\mbox{Residual}}{\\partial b} = \\frac{\\partial(y - \\hat{y})^2}{\\partial b}$$\n",
    "$$\\quad \\qquad \\qquad \\qquad  = 2(y - \\hat{y})(-\\frac{\\partial}{\\partial b}\\hat{y}) $$\n",
    "$$\\quad \\qquad \\qquad  \\mbox{ } \\mbox{ }  = 2(y - \\hat{y})(-1) $$\n",
    "\n",
    "## 절편 업데이트 \n",
    "손실함수의 낮은 쪽으로 가고 싶기 떄문에 미분값을 빼줌.\n",
    "$$ b_{n+1} = b_n  - \\frac{\\partial \\mbox{Residual}}{\\partial b} $$ \n",
    "$$ b_{n+1} = b_n  + 2(y - \\hat{y})$$"
   ]
  },
  {
   "cell_type": "markdown",
   "metadata": {},
   "source": [
    "<div class=\"alert alert-success\" data-title=\"\">\n",
    "  <h2><i class=\"fa fa-tasks\" aria-hidden=\"true\"></i> Class 만들기\n",
    "  </h2>\n",
    "</div>"
   ]
  },
  {
   "cell_type": "code",
   "execution_count": null,
   "metadata": {},
   "outputs": [],
   "source": [
    "class LinearRegression:\n",
    "\n",
    "    def __init__(self):\n",
    "        self.w = 1.0     # initailize weight\n",
    "        self.b = 1.0     # initailize intecept \n",
    "        self.lr = 0.01\n",
    "        \n",
    "    def forpass(self, x):\n",
    "        y_hat = x * self.w + self.b       # calcuate y = wx + b\n",
    "        return y_hat\n",
    "\n",
    "    def backprop(self, x, err):\n",
    "        w_grad = 2* x * err    # cacluate gradient of weight\n",
    "        b_grad = 2* 1 * err    # cacluate gradient of intecept\n",
    "        return w_grad, b_grad\n",
    "\n",
    "    def fit(self, x, y, epochs=5):\n",
    "        for i in range(epochs):           # repeat depend on epoch \n",
    "            count=0\n",
    "            for x_i, y_i in zip(x, y):    # repeat for all samples\n",
    "                count+=1\n",
    "                y_hat = self.forpass(x_i)  # forward \n",
    "                err = - (y_i - y_hat )     # backpropagation*\n",
    "                w_grad, b_grad = self.backprop(x_i, err)  # calculate backpropagation\n",
    "                \n",
    "                # update \n",
    "                self.w -= self.lr*w_grad          # weight update\n",
    "                self.b -= self.lr*b_grad          # intecept update \n",
    "\n",
    "\n",
    "                "
   ]
  },
  {
   "cell_type": "code",
   "execution_count": null,
   "metadata": {},
   "outputs": [],
   "source": [
    "class LinearRegression:\n",
    "\n",
    "    def __init__(self):\n",
    "        self.w = 1.0     # initailize weight\n",
    "        self.b = 1.0     # initailize intecept \n",
    "        self.lr = 0.01\n",
    "        \n",
    "    def forpass(self, x):\n",
    "        y_hat = x * self.w + self.b       # calcuate y = wx + b\n",
    "        return y_hat\n",
    "\n",
    "    def backprop(self, x, err):\n",
    "        w_grad =(-1) *2* x * err    # cacluate gradient of weight\n",
    "        b_grad = (-1)*2* 1 * err    # cacluate gradient of intecept\n",
    "        return w_grad, b_grad\n",
    "\n",
    "    def fit(self, x, y, epochs=5):\n",
    "        for i in range(epochs):           # repeat depend on epoch \n",
    "            for x_i, y_i in zip(x, y):    # repeat for all samples\n",
    "                y_hat = self.forpass(x_i)  # forward \n",
    "                \n",
    "                err = (y_i - y_hat )     # backpropagation*\n",
    "                w_grad, b_grad = self.backprop(x_i, err)  # calculate backpropagation\n",
    "                \n",
    "                # update \n",
    "                self.w -= self.lr*w_grad          # weight update\n",
    "                self.b -= self.lr*b_grad          # intecept update \n",
    "    \n",
    "\n",
    "\n",
    "                "
   ]
  },
  {
   "cell_type": "code",
   "execution_count": 98,
   "metadata": {
    "ExecuteTime": {
     "end_time": "2020-08-09T14:41:55.489326Z",
     "start_time": "2020-08-09T14:41:55.481273Z"
    }
   },
   "outputs": [],
   "source": [
    "class LinearRegression:\n",
    "\n",
    "    def __init__(self):\n",
    "        self.w = 1.0     # initailize weight\n",
    "        self.b = 1.0     # initailize intecept \n",
    "        self.lr = 0.01\n",
    "        \n",
    "    def forpass(self, x):\n",
    "        y_hat = x * self.w + self.b       # calcuate y = wx + b\n",
    "        return y_hat\n",
    "\n",
    "    def backprop(self, x, err):\n",
    "        w_grad =(-1) *2* x * err    # cacluate gradient of weight\n",
    "        b_grad = (-1)*2* 1 * err    # cacluate gradient of intecept\n",
    "        return w_grad, b_grad\n",
    "\n",
    "    def fit(self, x, y, epochs=5):\n",
    "        for i in range(epochs):           # repeat depend on epoch \n",
    "            for x_i, y_i in zip(x, y):    # repeat for all samples\n",
    "                y_hat = self.forpass(x_i)  # forward \n",
    "                err = (y_i - y_hat )     # backpropagation*\n",
    "                w_grad, b_grad = self.backprop(x_i, err)  # calculate backpropagation\n",
    "                \n",
    "             #   print(\"linear grad:\", w_grad)\n",
    "              #  print(\"bias grad: \", b_grad)\n",
    "                # update \n",
    "                self.w -= self.lr*w_grad          # weight update\n",
    "                self.b -= self.lr*b_grad          # intecept update \n",
    "              #  print(\"new linear weight: \",self.w)\n",
    "              #  print(\"new bias weight: \",self.b)\n",
    "\n",
    "\n",
    "                "
   ]
  },
  {
   "cell_type": "markdown",
   "metadata": {},
   "source": [
    "<div class=\"alert alert-success\" data-title=\"\">\n",
    "  <h2><i class=\"fa fa-tasks\" aria-hidden=\"true\"></i> 실제 데이터로 선형회귀 해보기\n",
    "  </h2>\n",
    "</div>"
   ]
  },
  {
   "cell_type": "code",
   "execution_count": 99,
   "metadata": {
    "ExecuteTime": {
     "end_time": "2020-08-09T14:41:56.019422Z",
     "start_time": "2020-08-09T14:41:56.016068Z"
    }
   },
   "outputs": [],
   "source": [
    "# TODO\n",
    "X = boston_df['RM'].astype(np.float)\n",
    "y = boston_df['PRICE'].astype(np.float)"
   ]
  },
  {
   "cell_type": "code",
   "execution_count": 100,
   "metadata": {
    "ExecuteTime": {
     "end_time": "2020-08-09T14:41:56.294839Z",
     "start_time": "2020-08-09T14:41:56.288730Z"
    }
   },
   "outputs": [],
   "source": [
    "LinearRegression = LinearRegression()\n",
    "LinearRegression.fit(X, y)"
   ]
  },
  {
   "cell_type": "code",
   "execution_count": 101,
   "metadata": {
    "ExecuteTime": {
     "end_time": "2020-08-09T14:41:56.542395Z",
     "start_time": "2020-08-09T14:41:56.538711Z"
    }
   },
   "outputs": [
    {
     "name": "stdout",
     "output_type": "stream",
     "text": [
      "가중치(w): 2.707922  , 절편(b): -2.553951\n"
     ]
    }
   ],
   "source": [
    "print('가중치(w): {:3f}  , 절편(b): {:3f}'.format(LinearRegression.w,LinearRegression.b) )"
   ]
  },
  {
   "cell_type": "code",
   "execution_count": 102,
   "metadata": {
    "ExecuteTime": {
     "end_time": "2020-08-09T14:41:56.974446Z",
     "start_time": "2020-08-09T14:41:56.788908Z"
    }
   },
   "outputs": [
    {
     "data": {
      "image/png": "[encoded data removed]",
      "text/plain": [
       "<Figure size 792x432 with 1 Axes>"
      ]
     },
     "metadata": {
      "needs_background": "light"
     },
     "output_type": "display_data"
    }
   ],
   "source": [
    "\n",
    "import matplotlib.pyplot as plt\n",
    "%matplotlib inline\n",
    "plt.figure(figsize=(11,6))\n",
    "plt.title('Visualize data and model')\n",
    "plt.xlabel('x-axis')\n",
    "plt.ylabel('y-axis')\n",
    "plt.plot(X, y, 'go', label='Data', marker='o', markersize=10)\n",
    "plt.plot(X, LinearRegression.w*X + LinearRegression.b, label='Regression Model')\n",
    "plt.legend();\n",
    "plt.show()"
   ]
  },
  {
   "cell_type": "code",
   "execution_count": null,
   "metadata": {},
   "outputs": [],
   "source": []
  }
 ],
 "metadata": {
  "hide_input": false,
  "kernelspec": {
   "display_name": "Python 3",
   "language": "python",
   "name": "python3"
  },
  "language_info": {
   "codemirror_mode": {
    "name": "ipython",
    "version": 3
   },
   "file_extension": ".py",
   "mimetype": "text/x-python",
   "name": "python",
   "nbconvert_exporter": "python",
   "pygments_lexer": "ipython3",
   "version": "3.7.0"
  },
  "toc": {
   "base_numbering": 1,
   "nav_menu": {},
   "number_sections": true,
   "sideBar": true,
   "skip_h1_title": true,
   "title_cell": "Table of Contents",
   "title_sidebar": "Contents",
   "toc_cell": false,
   "toc_position": {},
   "toc_section_display": true,
   "toc_window_display": true
  },
  "varInspector": {
   "cols": {
    "lenName": 16,
    "lenType": 16,
    "lenVar": 40
   },
   "kernels_config": {
    "python": {
     "delete_cmd_postfix": "",
     "delete_cmd_prefix": "del ",
     "library": "var_list.py",
     "varRefreshCmd": "print(var_dic_list())"
    },
    "r": {
     "delete_cmd_postfix": ") ",
     "delete_cmd_prefix": "rm(",
     "library": "var_list.r",
     "varRefreshCmd": "cat(var_dic_list()) "
    }
   },
   "types_to_exclude": [
    "module",
    "function",
    "builtin_function_or_method",
    "instance",
    "_Feature"
   ],
   "window_display": false
  }
 },
 "nbformat": 4,
 "nbformat_minor": 2
}

{
 "cells": [
  {
   "cell_type": "markdown",
   "metadata": {},
   "source": [
    "# Day02_2_Multi-Classification_LogisticRegression\n",
    "\n",
    "\n"
   ]
  },
  {
   "cell_type": "markdown",
   "metadata": {
    "toc": true
   },
   "source": [
    "<h1>Table of Contents<span class=\"tocSkip\"></span></h1>\n",
    "<div class=\"toc\"><ul class=\"toc-item\"><li><span><a href=\"#분류에-대한-설명\" data-toc-modified-id=\"분류에-대한-설명-1\"><span class=\"toc-item-num\">1&nbsp;&nbsp;</span>분류에 대한 설명</a></span></li><li><span><a href=\"#분류를-위한-준비\" data-toc-modified-id=\"분류를-위한-준비-2\"><span class=\"toc-item-num\">2&nbsp;&nbsp;</span>분류를 위한 준비</a></span></li><li><span><a href=\"#분류의-종류\" data-toc-modified-id=\"분류의-종류-3\"><span class=\"toc-item-num\">3&nbsp;&nbsp;</span>분류의 종류</a></span></li><li><span><a href=\"#다중-분류\" data-toc-modified-id=\"다중-분류-4\"><span class=\"toc-item-num\">4&nbsp;&nbsp;</span>다중 분류</a></span><ul class=\"toc-item\"><li><span><a href=\"#설정\" data-toc-modified-id=\"설정-4.1\"><span class=\"toc-item-num\">4.1&nbsp;&nbsp;</span>설정</a></span></li><li><span><a href=\"#데이터셋:-MNIST\" data-toc-modified-id=\"데이터셋:-MNIST-4.2\"><span class=\"toc-item-num\">4.2&nbsp;&nbsp;</span>데이터셋: MNIST</a></span></li></ul></li><li><span><a href=\"#훈련/평가\" data-toc-modified-id=\"훈련/평가-5\"><span class=\"toc-item-num\">5&nbsp;&nbsp;</span>훈련/평가</a></span><ul class=\"toc-item\"><li><span><a href=\"#훈련/평가-데이터-나누기\" data-toc-modified-id=\"훈련/평가-데이터-나누기-5.1\"><span class=\"toc-item-num\">5.1&nbsp;&nbsp;</span>훈련/평가 데이터 나누기</a></span></li><li><span><a href=\"#모델링_SVM_Classifier\" data-toc-modified-id=\"모델링_SVM_Classifier-5.2\"><span class=\"toc-item-num\">5.2&nbsp;&nbsp;</span>모델링_SVM_Classifier</a></span></li></ul></li><li><span><a href=\"#-분류의-성능-평가지표-\n",
    "--\" data-toc-modified-id=\"-분류의-성능-평가지표-\n",
    "---6\"><span class=\"toc-item-num\">6&nbsp;&nbsp;</span><i class=\"fa fa-tasks\"></i> 분류의 성능 평가지표 \n",
    "  </a></span></li><li><span><a href=\"#오차행렬(Confusion-Matrix)\" data-toc-modified-id=\"오차행렬(Confusion-Matrix)-7\"><span class=\"toc-item-num\">7&nbsp;&nbsp;</span>오차행렬(Confusion Matrix)</a></span></li></ul></div>"
   ]
  },
  {
   "cell_type": "markdown",
   "metadata": {},
   "source": [
    "## 분류에 대한 설명\n",
    "\n",
    "지도학습(Supervised) 중 분류(classification)이란, 관측 데이터가 어떤 그룹(레이블, 클래스)에 속하는지 분석 하는 행위이다. \n",
    "\n",
    "이때, 이러한 분류 작업을 수행하는 기법 또는 학습 모형을 분류기(classifier)라고 한다.\n",
    "\n",
    "<img src=https://previews.123rf.com/images/alazur/alazur1801/alazur180100038/93966819-%EC%93%B0%EB%A0%88%EA%B8%B0%ED%86%B5-%ED%9D%B0%EC%83%89-%EB%B0%B0%EA%B2%BD%EC%97%90-%EA%B3%A0%EB%A6%BD%EC%9E%85%EB%8B%88%EB%8B%A4-%EC%83%9D%ED%83%9C%ED%95%99-%EB%B0%8F-%EC%9E%AC%ED%99%9C%EC%9A%A9-%EA%B0%9C%EB%85%90%EC%9E%85%EB%8B%88%EB%8B%A4-%EC%93%B0%EB%A0%88%EA%B8%B0%EB%A5%BC-%EB%B6%84%EB%A5%98%ED%95%A9%EB%8B%88%EB%8B%A4-.jpg width =70%>\n",
    "\n",
    "## 분류를 위한 준비 \n",
    "- 분류를 하기 위해서는 클래스에 대한 정보가 주어져야 한다.\n",
    "- 클래스(class)는 상호 배타적인 그룹 명칭이며, 범주형 데이터 또는 이산형 데이터여야 한다."
   ]
  },
  {
   "cell_type": "markdown",
   "metadata": {},
   "source": [
    "## 분류의 종류\n",
    "\n",
    "1. 이진 분류 (Binary Classification)\n",
    " - 두 개의 클래스를 구별하는 분류 기법이다.\n",
    " - 대표적으로 로지스틱 회귀, 서포트 벡터 머신(SVM; Support Vector Machine), 인공 신경망 학습 등이 있다.\n",
    "\n",
    "<br>\n",
    "\n",
    "2. 다중분류(MulticlassClassification)\n",
    " - 세 개 이상의 클래스들을 구분하는 분류 기법으로서, 다항(multinomial) 분류라고도 한다.\n",
    " - 다항 로지스틱 회귀, 랜덤 포레스트, 나이브 베이즈 분류기 등이 있다.\n"
   ]
  },
  {
   "cell_type": "markdown",
   "metadata": {},
   "source": [
    "## 다중 분류"
   ]
  },
  {
   "cell_type": "markdown",
   "metadata": {},
   "source": [
    "### 설정"
   ]
  },
  {
   "cell_type": "markdown",
   "metadata": {},
   "source": [
    "먼저 몇 개의 모듈을 임포트합니다. 맷플롯립 그래프를 인라인으로 출력하도록 만들고 그림을 저장하는 함수를 준비합니다. 또한 파이썬 버전이 3.5 이상인지 확인합니다(파이썬 2.x에서도 동작하지만 곧 지원이 중단되므로 파이썬 3을 사용하는 것이 좋습니다). 사이킷런 버전이 0.20 이상인지도 확인합니다."
   ]
  },
  {
   "cell_type": "code",
   "execution_count": 3,
   "metadata": {
    "ExecuteTime": {
     "end_time": "2020-08-06T14:07:01.813268Z",
     "start_time": "2020-08-06T14:07:01.625012Z"
    }
   },
   "outputs": [],
   "source": [
    "# 파이썬 ≥3.5 필수\n",
    "import sys\n",
    "assert sys.version_info >= (3, 5)\n",
    "\n",
    "# 사이킷런 ≥0.20 필수\n",
    "import sklearn\n",
    "assert sklearn.__version__ >= \"0.20\"\n",
    "\n",
    "# 공통 모듈 임포트\n",
    "import numpy as np\n",
    "import os\n",
    "\n",
    "# 노트북 실행 결과를 동일하게 유지하기 위해\n",
    "np.random.seed(42)\n",
    "\n",
    "# 깔끔한 그래프 출력을 위해\n",
    "%matplotlib inline\n",
    "import matplotlib as mpl\n",
    "import matplotlib.pyplot as plt\n",
    "mpl.rc('axes', labelsize=14)\n",
    "mpl.rc('xtick', labelsize=12)\n",
    "mpl.rc('ytick', labelsize=12)\n",
    "\n",
    "# 그림을 저장할 위치\n",
    "PROJECT_ROOT_DIR = \".\"\n",
    "CHAPTER_ID = \"classification\"\n",
    "IMAGES_PATH = os.path.join(PROJECT_ROOT_DIR, \"images\", CHAPTER_ID)\n",
    "os.makedirs(IMAGES_PATH, exist_ok=True)\n",
    "\n",
    "def save_fig(fig_id, tight_layout=True, fig_extension=\"png\", resolution=300):\n",
    "    path = os.path.join(IMAGES_PATH, fig_id + \".\" + fig_extension)\n",
    "    print(\"그림 저장:\", fig_id)\n",
    "    if tight_layout:\n",
    "        plt.tight_layout()\n",
    "    plt.savefig(path, format=fig_extension, dpi=resolution)"
   ]
  },
  {
   "cell_type": "markdown",
   "metadata": {},
   "source": [
    "### 데이터셋: MNIST\n",
    "\n",
    "<img src=https://3qeqpr26caki16dnhd19sv6by6v-wpengine.netdna-ssl.com/wp-content/uploads/2019/02/Plot-of-a-Subset-of-Images-from-the-MNIST-Dataset.png width=50%>"
   ]
  },
  {
   "cell_type": "code",
   "execution_count": 4,
   "metadata": {
    "ExecuteTime": {
     "end_time": "2020-08-06T14:07:23.827258Z",
     "start_time": "2020-08-06T14:07:02.657004Z"
    }
   },
   "outputs": [
    {
     "data": {
      "text/plain": [
       "dict_keys(['data', 'target', 'frame', 'feature_names', 'target_names', 'DESCR', 'details', 'categories', 'url'])"
      ]
     },
     "execution_count": 4,
     "metadata": {},
     "output_type": "execute_result"
    }
   ],
   "source": [
    "# data load\n",
    "from sklearn.datasets import fetch_openml\n",
    "mnist = fetch_openml('mnist_784', version=1)\n",
    "mnist.keys()"
   ]
  },
  {
   "cell_type": "code",
   "execution_count": 16,
   "metadata": {
    "ExecuteTime": {
     "end_time": "2020-08-06T14:07:44.177100Z",
     "start_time": "2020-08-06T14:07:44.172021Z"
    }
   },
   "outputs": [
    {
     "data": {
      "text/plain": [
       "(70000, 784)"
      ]
     },
     "execution_count": 16,
     "metadata": {},
     "output_type": "execute_result"
    }
   ],
   "source": [
    "X, y = mnist[\"data\"], mnist[\"target\"]"
   ]
  },
  {
   "cell_type": "markdown",
   "metadata": {},
   "source": [
    "## 훈련/평가\n",
    "### 훈련/평가 데이터 나누기 "
   ]
  },
  {
   "cell_type": "code",
   "execution_count": 14,
   "metadata": {
    "ExecuteTime": {
     "end_time": "2020-08-06T14:07:27.276405Z",
     "start_time": "2020-08-06T14:07:27.272590Z"
    }
   },
   "outputs": [],
   "source": [
    "# 모두 다 사용 \n",
    "X_train, X_test, y_train, y_test = X[:40000], X[40000:], y[:40000], y[40000:]"
   ]
  },
  {
   "cell_type": "markdown",
   "metadata": {},
   "source": [
    "### 모델링_SVM_Classifier\n",
    "\n",
    "```python \n",
    "from sklearn.svm import SVC # 불러오기\n",
    "svm_clf = SVC(gamma=\"auto\", random_state=42) # 모델 설정\n",
    "svm_clf.fit(???, ???) # 모델 학습  \n",
    "svm_clf.score(???, ???) # 모델 학습결과 확인  ==  점수\n",
    "svm_clf.predict(???) # 모델학습결과저장 \n",
    "```"
   ]
  },
  {
   "cell_type": "code",
   "execution_count": 1,
   "metadata": {
    "ExecuteTime": {
     "end_time": "2020-08-06T16:43:59.681729Z",
     "start_time": "2020-08-06T16:43:59.679514Z"
    }
   },
   "outputs": [],
   "source": [
    "# 불러오기\n",
    "# 모델 설정\n",
    "# 모델 학습  \n",
    " # 모델 학습겨로가 확인  ==  점수"
   ]
  },
  {
   "cell_type": "code",
   "execution_count": null,
   "metadata": {
    "ExecuteTime": {
     "end_time": "2020-08-06T14:11:02.410062Z",
     "start_time": "2020-08-06T14:09:48.395Z"
    }
   },
   "outputs": [],
   "source": [
    "y_pred =  # 모델학습결과저장 "
   ]
  },
  {
   "cell_type": "markdown",
   "metadata": {},
   "source": [
    "<div class=\"alert alert-success\" data-title=\"\">\n",
    "  <h2><i class=\"fa fa-tasks\" aria-hidden=\"true\"></i> 분류의 성능 평가지표 \n",
    "  </h2>\n",
    "</div>"
   ]
  },
  {
   "cell_type": "markdown",
   "metadata": {},
   "source": [
    "## 오차행렬(Confusion Matrix) \n",
    " : 행렬을 이용하여 실제 결과값과 예측 결과값이 얼마나 매칭 되었는지를 표현\n",
    "<img src='../img/confusion_matrix.png' width=50%>"
   ]
  },
  {
   "cell_type": "code",
   "execution_count": 35,
   "metadata": {
    "ExecuteTime": {
     "end_time": "2020-08-06T13:18:03.448941Z",
     "start_time": "2020-08-06T13:18:03.438426Z"
    }
   },
   "outputs": [],
   "source": [
    "from sklearn.metrics import confusion_matrix # 오차행렬 \n",
    "TN, FP, FN, TP  = confusion_matrix(y_test, y_pred).ravel()"
   ]
  },
  {
   "cell_type": "markdown",
   "metadata": {},
   "source": [
    "1. 정확도(Accuracy)\n",
    " :예측한 결과가 실제 결과와 얼마나 동일한 지를 나타내는 지표\n",
    "\n",
    "$$\\mbox{정확도(Accuracy)}=\\frac{TP + TN}{TP+FN+FP+TN}$$"
   ]
  },
  {
   "cell_type": "code",
   "execution_count": 37,
   "metadata": {
    "ExecuteTime": {
     "end_time": "2020-08-06T13:18:09.463469Z",
     "start_time": "2020-08-06T13:18:09.456975Z"
    }
   },
   "outputs": [
    {
     "data": {
      "text/plain": [
       "0.9492"
      ]
     },
     "execution_count": 37,
     "metadata": {},
     "output_type": "execute_result"
    }
   ],
   "source": [
    "# [TO_DO] 정확도 구하기 \n",
    "# 1.패키지 사용 \n",
    "from sklearn.metrics import accuracy_score\n",
    "accuracy_score(y_test, y_pred)"
   ]
  },
  {
   "cell_type": "code",
   "execution_count": 38,
   "metadata": {
    "ExecuteTime": {
     "end_time": "2020-08-06T13:18:09.911959Z",
     "start_time": "2020-08-06T13:18:09.906910Z"
    }
   },
   "outputs": [
    {
     "data": {
      "text/plain": [
       "0.9492"
      ]
     },
     "execution_count": 38,
     "metadata": {},
     "output_type": "execute_result"
    }
   ],
   "source": [
    "# 2.  직접구하기\n",
    "(TP + TN )/ (TP + FN + FP +  TN )"
   ]
  },
  {
   "cell_type": "markdown",
   "metadata": {},
   "source": [
    "2. 정밀도 (Precision)\n",
    " : `Positive`로 예측한 결과들 중 실제로 `Positive`인 결과들의 비율\n",
    " - **“정답으로 찾아낸 결과들 중에서 실제로 정답이 얼마나 많이 있는가?”**\n",
    "$$\\mbox{정밀도}=\\frac{\\mbox{TP}}{\\mbox{TP+FP}}$$\n",
    "<img src='../img/precision.png' width=50%>"
   ]
  },
  {
   "cell_type": "code",
   "execution_count": 39,
   "metadata": {
    "ExecuteTime": {
     "end_time": "2020-08-06T13:18:11.345595Z",
     "start_time": "2020-08-06T13:18:11.337277Z"
    }
   },
   "outputs": [
    {
     "data": {
      "text/plain": [
       "0.6618887015177066"
      ]
     },
     "execution_count": 39,
     "metadata": {},
     "output_type": "execute_result"
    }
   ],
   "source": [
    "# [TO_DO] 정밀도 구하기 \n",
    "# 1.패키지 사용 \n",
    "from sklearn.metrics import precision_score\n",
    "precision_score(y_test, y_pred)"
   ]
  },
  {
   "cell_type": "code",
   "execution_count": 41,
   "metadata": {
    "ExecuteTime": {
     "end_time": "2020-08-06T13:18:19.414894Z",
     "start_time": "2020-08-06T13:18:19.411021Z"
    }
   },
   "outputs": [
    {
     "data": {
      "text/plain": [
       "0.6618887015177066"
      ]
     },
     "execution_count": 41,
     "metadata": {},
     "output_type": "execute_result"
    }
   ],
   "source": [
    "# 2. 직접구하기 \n",
    "((TP) / (TP+FP) )"
   ]
  },
  {
   "cell_type": "markdown",
   "metadata": {},
   "source": [
    "3. 재현률 (Recall) \n",
    " : 실제로 Positive인 결과들 중 Positive로 예측한 결과들의 비율\n",
    " - **“원래의 정답들 중에서 실제로 정답으로 찾아낸 결과가 얼마나 많이 있는가?”**\n",
    "$$\\mbox{재현율}=\\frac{\\mbox{TP}}{\\mbox{TP+FN}}$$\n",
    "<img src='../img/recall.png' width=50%>"
   ]
  },
  {
   "cell_type": "code",
   "execution_count": 42,
   "metadata": {
    "ExecuteTime": {
     "end_time": "2020-08-06T13:18:55.802878Z",
     "start_time": "2020-08-06T13:18:55.794733Z"
    }
   },
   "outputs": [
    {
     "data": {
      "text/plain": [
       "0.8800448430493274"
      ]
     },
     "execution_count": 42,
     "metadata": {},
     "output_type": "execute_result"
    }
   ],
   "source": [
    "# [TO_DO] recall 구하기 \n",
    "# 1.패키지 사용 \n",
    "from sklearn.metrics import precision_score\n",
    "recall_score(y_test, y_pred)"
   ]
  },
  {
   "cell_type": "code",
   "execution_count": 43,
   "metadata": {
    "ExecuteTime": {
     "end_time": "2020-08-06T13:18:57.046533Z",
     "start_time": "2020-08-06T13:18:57.042515Z"
    }
   },
   "outputs": [
    {
     "data": {
      "text/plain": [
       "0.8800448430493274"
      ]
     },
     "execution_count": 43,
     "metadata": {},
     "output_type": "execute_result"
    }
   ],
   "source": [
    "TP / (TP+FN)"
   ]
  },
  {
   "cell_type": "markdown",
   "metadata": {},
   "source": [
    "4. F1 score \n",
    " - 정밀도와 재현율의 수치가 적절하게 조합돼 분류의 종합적인 성능평가에 사용될수 있는 평가 지표가 필요하다. \n",
    " - 정밀도와 재현율의 조화평균이다. \n",
    "$$\\mbox{F}1=\\frac{2}{\\frac{1}{\\mbox{정밀도}} + \\frac{1}{\\mbox{재현율}}}$$\n",
    "\n",
    "<img src='../img/f1.png' width=50%>\n"
   ]
  },
  {
   "cell_type": "code",
   "execution_count": 44,
   "metadata": {
    "ExecuteTime": {
     "end_time": "2020-08-06T13:19:39.048268Z",
     "start_time": "2020-08-06T13:19:39.038416Z"
    },
    "scrolled": false
   },
   "outputs": [
    {
     "data": {
      "text/plain": [
       "0.75553416746872"
      ]
     },
     "execution_count": 44,
     "metadata": {},
     "output_type": "execute_result"
    }
   ],
   "source": [
    "# [TO_DO] f1 구하기 \n",
    "# 1.패키지 사용 \n",
    "from sklearn.metrics import f1_score\n",
    "f1_score(y_test, y_pred)"
   ]
  },
  {
   "cell_type": "code",
   "execution_count": 45,
   "metadata": {
    "ExecuteTime": {
     "end_time": "2020-08-06T13:20:44.489301Z",
     "start_time": "2020-08-06T13:20:44.485998Z"
    }
   },
   "outputs": [],
   "source": [
    "# 2. 직접구현\n",
    "# 2_1 초기 값 설정 \n",
    "재현율 = TP / (TP+FN)\n",
    "정밀도 = ((TP) / (TP+FP) )"
   ]
  },
  {
   "cell_type": "code",
   "execution_count": 46,
   "metadata": {
    "ExecuteTime": {
     "end_time": "2020-08-06T13:21:16.933988Z",
     "start_time": "2020-08-06T13:21:16.929858Z"
    }
   },
   "outputs": [
    {
     "data": {
      "text/plain": [
       "0.7555341674687199"
      ]
     },
     "execution_count": 46,
     "metadata": {},
     "output_type": "execute_result"
    }
   ],
   "source": [
    "2/((1/정밀도) + (1/재현율))"
   ]
  },
  {
   "cell_type": "code",
   "execution_count": 47,
   "metadata": {
    "ExecuteTime": {
     "end_time": "2020-08-06T13:23:12.560357Z",
     "start_time": "2020-08-06T13:23:12.540858Z"
    }
   },
   "outputs": [
    {
     "name": "stdout",
     "output_type": "stream",
     "text": [
      "              precision    recall  f1-score   support\n",
      "\n",
      "       False       0.99      0.96      0.97      9108\n",
      "        True       0.66      0.88      0.76       892\n",
      "\n",
      "    accuracy                           0.95     10000\n",
      "   macro avg       0.82      0.92      0.86     10000\n",
      "weighted avg       0.96      0.95      0.95     10000\n",
      "\n"
     ]
    }
   ],
   "source": [
    "# 한번에 살펴보기 \n",
    "from sklearn.metrics import classification_report\n",
    "scores = classification_report(y_test, y_pred)\n",
    "print(scores)"
   ]
  }
 ],
 "metadata": {
  "hide_input": false,
  "kernelspec": {
   "display_name": "Python 3",
   "language": "python",
   "name": "python3"
  },
  "language_info": {
   "codemirror_mode": {
    "name": "ipython",
    "version": 3
   },
   "file_extension": ".py",
   "mimetype": "text/x-python",
   "name": "python",
   "nbconvert_exporter": "python",
   "pygments_lexer": "ipython3",
   "version": "3.7.6"
  },
  "nav_menu": {},
  "toc": {
   "base_numbering": 1,
   "nav_menu": {},
   "number_sections": true,
   "sideBar": true,
   "skip_h1_title": true,
   "title_cell": "Table of Contents",
   "title_sidebar": "Contents",
   "toc_cell": true,
   "toc_position": {},
   "toc_section_display": "block",
   "toc_window_display": false
  },
  "varInspector": {
   "cols": {
    "lenName": 16,
    "lenType": 16,
    "lenVar": 40
   },
   "kernels_config": {
    "python": {
     "delete_cmd_postfix": "",
     "delete_cmd_prefix": "del ",
     "library": "var_list.py",
     "varRefreshCmd": "print(var_dic_list())"
    },
    "r": {
     "delete_cmd_postfix": ") ",
     "delete_cmd_prefix": "rm(",
     "library": "var_list.r",
     "varRefreshCmd": "cat(var_dic_list()) "
    }
   },
   "types_to_exclude": [
    "module",
    "function",
    "builtin_function_or_method",
    "instance",
    "_Feature"
   ],
   "window_display": false
  }
 },
 "nbformat": 4,
 "nbformat_minor": 1
}
